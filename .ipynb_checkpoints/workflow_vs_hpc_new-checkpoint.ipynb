{
 "cells": [
  {
   "cell_type": "code",
   "execution_count": 1,
   "metadata": {},
   "outputs": [],
   "source": [
    "import pandas as pd\n",
    "import numpy as np\n",
    "pd.options.display.max_columns = 300"
   ]
  },
  {
   "cell_type": "code",
   "execution_count": 2,
   "metadata": {},
   "outputs": [
    {
     "name": "stderr",
     "output_type": "stream",
     "text": [
      "/home/luckierdodge/anaconda3/envs/autoperf_tf/lib/python3.7/site-packages/IPython/core/interactiveshell.py:3057: DtypeWarning: Columns (876) have mixed types. Specify dtype option on import or set low_memory=False.\n",
      "  interactivity=interactivity, compiler=compiler, result=result)\n"
     ]
    }
   ],
   "source": [
    "df = pd.read_csv('data/composed/mira_all.csv')"
   ]
  },
  {
   "cell_type": "code",
   "execution_count": 16,
   "metadata": {},
   "outputs": [
    {
     "name": "stderr",
     "output_type": "stream",
     "text": [
      "/home/luckierdodge/anaconda3/envs/autoperf_tf/lib/python3.7/site-packages/ipykernel_launcher.py:2: UserWarning: Boolean Series key will be reindexed to match DataFrame index.\n",
      "  \n",
      "/home/luckierdodge/anaconda3/envs/autoperf_tf/lib/python3.7/site-packages/ipykernel_launcher.py:3: UserWarning: Boolean Series key will be reindexed to match DataFrame index.\n",
      "  This is separate from the ipykernel package so we can avoid doing imports until\n",
      "/home/luckierdodge/anaconda3/envs/autoperf_tf/lib/python3.7/site-packages/ipykernel_launcher.py:4: UserWarning: Boolean Series key will be reindexed to match DataFrame index.\n",
      "  after removing the cwd from sys.path.\n",
      "/home/luckierdodge/anaconda3/envs/autoperf_tf/lib/python3.7/site-packages/ipykernel_launcher.py:5: UserWarning: Boolean Series key will be reindexed to match DataFrame index.\n",
      "  \"\"\"\n"
     ]
    }
   ],
   "source": [
    "data_2015 = df[df.START_TIMESTAMP >= '2015-01-01 00:00:00'][df.START_TIMESTAMP < '2016-01-01 00:00:00']\n",
    "data_2016 = df[df.START_TIMESTAMP >= '2016-01-01 00:00:00'][df.START_TIMESTAMP < '2017-01-01 00:00:00']\n",
    "data_2017 = df[df.START_TIMESTAMP >= '2017-01-01 00:00:00'][df.START_TIMESTAMP < '2018-01-01 00:00:00']\n",
    "data_2018 = df[df.START_TIMESTAMP >= '2018-01-01 00:00:00'][df.START_TIMESTAMP < '2019-01-01 00:00:00']\n",
    "data_2019 = df[df.START_TIMESTAMP >= '2019-01-01 00:00:00'][df.START_TIMESTAMP < '2020-01-01 00:00:00']"
   ]
  },
  {
   "cell_type": "markdown",
   "metadata": {},
   "source": [
    "### Key\n",
    "\n",
    "PROC_CSJOBID - Task IDs\n",
    "\n",
    "PROC_BATCHJOBID - Job IDs\n",
    "\n",
    "PROC_ELAPSEDTIME - Job Total Time"
   ]
  },
  {
   "cell_type": "code",
   "execution_count": 18,
   "metadata": {
    "scrolled": true
   },
   "outputs": [
    {
     "name": "stdout",
     "output_type": "stream",
     "text": [
      "   year  job_id_count  task_id_count  tasks_per_job\n",
      "0  2015          1562           4014       2.569782\n",
      "1  2016         16165          82293       5.090813\n",
      "2  2017          7737          47033       6.078971\n",
      "3  2018         12743         127184       9.980695\n",
      "4  2019          2450         113983      46.523673\n"
     ]
    }
   ],
   "source": [
    "averageDict = {'year': ['2015', '2016', '2017', '2018', '2019'],\n",
    "              'job_id_count': [\n",
    "                  data_2015.zero_batchJobId.unique().size,\n",
    "                  data_2016.zero_batchJobId.unique().size,\n",
    "                  data_2017.zero_batchJobId.unique().size,\n",
    "                  data_2018.zero_batchJobId.unique().size,\n",
    "                  data_2019.zero_batchJobId.unique().size,\n",
    "              ],\n",
    "              'task_id_count': [\n",
    "                  data_2015.zero_csJobId.unique().size,\n",
    "                  data_2016.zero_csJobId.unique().size,\n",
    "                  data_2017.zero_csJobId.unique().size,\n",
    "                  data_2018.zero_csJobId.unique().size,\n",
    "                  data_2019.zero_csJobId.unique().size\n",
    "              ]}\n",
    "averageData = pd.DataFrame(data=averageDict)\n",
    "averageData['tasks_per_job'] = averageData['task_id_count'] / averageData['job_id_count']\n",
    "print(averageData)"
   ]
  },
  {
   "cell_type": "code",
   "execution_count": 32,
   "metadata": {
    "scrolled": false
   },
   "outputs": [
    {
     "data": {
      "text/plain": [
       "<matplotlib.axes._subplots.AxesSubplot at 0x7f564d0dd400>"
      ]
     },
     "execution_count": 32,
     "metadata": {},
     "output_type": "execute_result"
    },
    {
     "data": {
      "image/png": "[encoded data removed]",
      "text/plain": [
       "<Figure size 720x720 with 1 Axes>"
      ]
     },
     "metadata": {
      "needs_background": "light"
     },
     "output_type": "display_data"
    }
   ],
   "source": [
    "%matplotlib inline\n",
    "averageData.plot(x=\"year\", \n",
    "                 y=\"tasks_per_job\", \n",
    "                 kind='bar', \n",
    "                 title=\"Average Number of Tasks Per Job vs. Year for Autoperf Data on Mira\\n2015 to 2019\", \n",
    "                 figsize=(10,10), \n",
    "                 color='orange', \n",
    "                 legend=False)"
   ]
  },
  {
   "cell_type": "code",
   "execution_count": 24,
   "metadata": {},
   "outputs": [
    {
     "name": "stdout",
     "output_type": "stream",
     "text": [
      "   year  Traditional HPC  Workflow\n",
      "0  2015         0.821383  0.178617\n",
      "1  2016         0.876028  0.123972\n",
      "2  2017         0.827323  0.172677\n",
      "3  2018         0.795809  0.204191\n",
      "4  2019         0.756735  0.243265\n"
     ]
    },
    {
     "data": {
      "image/png": "[encoded data removed]",
      "text/plain": [
       "<Figure size 720x720 with 1 Axes>"
      ]
     },
     "metadata": {
      "needs_background": "light"
     },
     "output_type": "display_data"
    }
   ],
   "source": [
    "years = [data_2015, data_2016, data_2017, data_2018, data_2019]\n",
    "yearstrings = ['2015', '2016', '2017', '2018', '2019']\n",
    "y = {'year': yearstrings, 'Traditional HPC': np.zeros(5, dtype=float), 'Workflow': np.zeros(5, dtype=float)}\n",
    "job_task_data = pd.DataFrame(data=y)\n",
    "\n",
    "for i in range(0, 5):\n",
    "    one = 0.0\n",
    "    many = 0.0\n",
    "    for job in years[i].zero_batchJobId.unique():\n",
    "        tasks = years[i][years[i]['zero_batchJobId'] == job].zero_csJobId.unique().size\n",
    "        if tasks == 1:\n",
    "            one += 1.0\n",
    "        else:\n",
    "            many += 1.0\n",
    "    total = one + many\n",
    "    job_task_data.iat[i, 1] = one / total\n",
    "    job_task_data.iat[i, 2] = many / total\n",
    "job_task_data.plot(kind='bar', x='year', y=['Traditional HPC', 'Workflow'], figsize=(10,10), stacked=True,\n",
    "                   title='% Traditional HPC vs. Workflow by Year (Number of Jobs)')\n",
    "print(job_task_data)"
   ]
  },
  {
   "cell_type": "code",
   "execution_count": 23,
   "metadata": {},
   "outputs": [
    {
     "name": "stdout",
     "output_type": "stream",
     "text": [
      "   year  Traditional HPC  Workflow\n",
      "0  2015         0.895610  0.104390\n",
      "1  2016         0.472073  0.527927\n",
      "2  2017         0.479107  0.520893\n",
      "3  2018         0.447971  0.552029\n",
      "4  2019         0.457153  0.542847\n"
     ]
    },
    {
     "data": {
      "image/png": "[encoded data removed]",
      "text/plain": [
       "<Figure size 720x720 with 1 Axes>"
      ]
     },
     "metadata": {
      "needs_background": "light"
     },
     "output_type": "display_data"
    }
   ],
   "source": [
    "years = [data_2015, data_2016, data_2017, data_2018, data_2019]\n",
    "yearstrings = ['2015', '2016', '2017', '2018', '2019']\n",
    "y = {'year': yearstrings, 'Traditional HPC': np.zeros(5, dtype=float), 'Workflow': np.zeros(5, dtype=float)}\n",
    "job_task_data = pd.DataFrame(data=y)\n",
    "\n",
    "for i in range(0, 5):\n",
    "    one = 0.0\n",
    "    many = 0.0\n",
    "    for job in years[i].zero_batchJobId.unique():\n",
    "        tasks = years[i][years[i]['zero_batchJobId'] == job].zero_csJobId.unique().size\n",
    "        if tasks == 1:\n",
    "            one += years[i][years[i].zero_batchJobId == job].iloc[0].USED_CORE_HOURS\n",
    "        else:\n",
    "            many += years[i][years[i].zero_batchJobId == job].iloc[0].USED_CORE_HOURS\n",
    "    total = one + many\n",
    "    job_task_data.iat[i, 1] = one / total\n",
    "    job_task_data.iat[i, 2] = many / total\n",
    "job_task_data.plot(kind='bar', x='year', y=['Traditional HPC', 'Workflow'], figsize=(10,10), stacked=True,\n",
    "                   title='% Traditional HPC vs. Workflow by Year (Core Hours)')\n",
    "print(job_task_data)"
   ]
  },
  {
   "cell_type": "code",
   "execution_count": 26,
   "metadata": {},
   "outputs": [],
   "source": [
    "# years = [data_2015, data_2016, data_2017, data_2018, data_2019]\n",
    "# yearstrings = ['2015', '2016', '2017', '2018', '2019 Extrapolated']\n",
    "# y = {'year': yearstrings, 'Traditional HPC': np.zeros(5, dtype=int), 'Workflow': np.zeros(5, dtype=int)}\n",
    "# job_task_data = pd.DataFrame(data=y)\n",
    "\n",
    "# for i in range(0, 5):\n",
    "#     one = 0\n",
    "#     many = 0\n",
    "#     for job in years[i].zero_batchJobId.unique():\n",
    "#         tasks = years[i][years[i]['zero_batchJobId'] == job].zero_csJobId.unique().size\n",
    "#         if tasks == 1:\n",
    "#             one += years[i][years[i].zero_batchJobId == job].iloc[0].USED_CORE_HOURS\n",
    "#         else:\n",
    "#             many += years[i][years[i].zero_batchJobId == job].iloc[0].USED_CORE_HOURS\n",
    "#     if (i < 4):\n",
    "#         job_task_data.iat[i, 1] = one\n",
    "#     else:\n",
    "#         job_task_data.iat[i, 1] = one * 3\n",
    "#     if (i < 4):\n",
    "#         job_task_data.iat[i, 2] = many\n",
    "#     else:\n",
    "#         job_task_data.iat[i,2] = many * 3\n",
    "# print(job_task_data)\n",
    "# job_task_data.plot(kind='bar', x='year', y=['Traditional HPC', 'Workflow'], figsize=(10,10), stacked=True,\n",
    "#                    title='% Traditional HPC vs. Workflow by Year (Core Hours) -- 2019 Extrapolated')"
   ]
  },
  {
   "cell_type": "code",
   "execution_count": 10,
   "metadata": {
    "scrolled": false
   },
   "outputs": [],
   "source": [
    "# years = [data_2015, data_2016, data_2017, data_2018, data_2019]\n",
    "# yearstrings = ['2015', '2016', '2017', '2018', '2019']\n",
    "# y = {'year': yearstrings, \n",
    "#      'one': np.zeros(5, dtype=int), \n",
    "#      'two': np.zeros(5, dtype=int), \n",
    "#      'three': np.zeros(5, dtype=int), \n",
    "#      'four': np.zeros(5, dtype=int), \n",
    "#      'many': np.zeros(5, dtype=int)}\n",
    "# job_task_data = pd.DataFrame(data=y)\n",
    "\n",
    "# for i in range(0, 5):\n",
    "#     one = 0\n",
    "#     two = 0\n",
    "#     three = 0\n",
    "#     four = 0\n",
    "#     many = 0\n",
    "#     for job in years[i].zero_batchJobId.unique():\n",
    "#         tasks = years[i][years[i]['zero_batchJobId'] == job].zero_csJobId.unique().size\n",
    "#         if tasks == 1:\n",
    "#             one += 1\n",
    "#         elif tasks == 2:\n",
    "#             two += 1\n",
    "#         elif tasks == 3:\n",
    "#             three +=1\n",
    "#         elif tasks == 4:\n",
    "#             four += 1\n",
    "#         else:\n",
    "#             many += 1\n",
    "#     job_task_data.iat[i, 0] = four\n",
    "#     job_task_data.iat[i, 1] = many\n",
    "#     job_task_data.iat[i, 2] = one\n",
    "#     job_task_data.iat[i, 3] = three\n",
    "#     job_task_data.iat[i, 4] = two\n",
    "# job_task_data.plot(kind='bar', x='year', y=['one', 'two', 'three', 'four', 'many'], figsize=(15,15))\n",
    "# print(job_task_data)"
   ]
  },
  {
   "cell_type": "code",
   "execution_count": 30,
   "metadata": {
    "scrolled": false
   },
   "outputs": [],
   "source": [
    "# yearsets = [data_2015, data_2016, data_2017, data_2018, data_2019]\n",
    "# yearstrings = ['2015', '2016', '2017', '2018', '2019']\n",
    "\n",
    "# y = {'years': [], 'jobs': [], 'tasks': []}\n",
    "# for i in range(0, 5):\n",
    "#     for job in yearsets[i].zero_batchJobId.unique():\n",
    "#         tasks = yearsets[i][yearsets[i]['zero_batchJobId'] == job].zero_csJobId.unique().size\n",
    "#         y['years'].append(yearstrings[i])\n",
    "#         y['jobs'].append(job)\n",
    "#         y['tasks'].append(tasks)\n",
    "\n",
    "# job_task_data = pd.DataFrame(data=y)\n",
    "# hist = job_task_data.hist(column='tasks', by='years', bins=range(2,job_task_data.tasks.max()), figsize=(20,20));"
   ]
  }
 ],
 "metadata": {
  "kernelspec": {
   "display_name": "Python 3",
   "language": "python",
   "name": "python3"
  },
  "language_info": {
   "codemirror_mode": {
    "name": "ipython",
    "version": 3
   },
   "file_extension": ".py",
   "mimetype": "text/x-python",
   "name": "python",
   "nbconvert_exporter": "python",
   "pygments_lexer": "ipython3",
   "version": "3.7.3"
  }
 },
 "nbformat": 4,
 "nbformat_minor": 2
}
