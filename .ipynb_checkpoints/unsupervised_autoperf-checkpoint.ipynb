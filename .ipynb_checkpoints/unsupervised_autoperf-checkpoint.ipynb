{
 "cells": [
  {
   "cell_type": "code",
   "execution_count": 1,
   "metadata": {},
   "outputs": [],
   "source": [
    "import pandas as pd\n",
    "import numpy as np\n",
    "import glob\n",
    "import tensorflow as tf\n",
    "from matplotlib import pyplot as plt\n",
    "from sklearn import metrics\n",
    "from tensorflow.python.data import Dataset\n",
    "pd.options.display.max_columns = 1200\n",
    "pd.options.display.max_rows = 1200\n",
    "tf.logging.set_verbosity(tf.logging.ERROR)"
   ]
  },
  {
   "cell_type": "code",
   "execution_count": 2,
   "metadata": {},
   "outputs": [
    {
     "name": "stderr",
     "output_type": "stream",
     "text": [
      "/home/luckierdodge/anaconda3/envs/autoperf_tf/lib/python3.7/site-packages/IPython/core/interactiveshell.py:3049: DtypeWarning: Columns (34,209,210,229,401,402,427,593,594,619,876) have mixed types. Specify dtype option on import or set low_memory=False.\n",
      "  interactivity=interactivity, compiler=compiler, result=result)\n"
     ]
    }
   ],
   "source": [
    "### Use a particular month:\n",
    "\n",
    "# df = pd.read_csv('data/autoperf-2019-01.csv', header=0).sample(frac=1)\n",
    "\n",
    "df = pd.read_csv('data/composed/mira_million_ch_exit_clean.csv', header=0).sample(frac=1)\n",
    "\n",
    "### OR use the full year\n",
    "\n",
    "# li = []\n",
    "# for filename in glob.glob(\"/home/luckierdodge/repos/jupyter-notebooks/data/autoperf-201*.csv\"):\n",
    "#     frame = pd.read_csv(filename, header=0)\n",
    "#     li.append(frame)\n",
    "# df = pd.concat(li, axis=0, ignore_index=True)\n",
    "\n",
    "###"
   ]
  },
  {
   "cell_type": "code",
   "execution_count": 3,
   "metadata": {},
   "outputs": [],
   "source": [
    "# ### Filtering and cleaning the data before processing ###\n",
    "df.dropna(inplace=True);\n",
    "\n",
    "###\n",
    "\n",
    "# counts = df.zero_execName.value_counts().to_dict()\n",
    "# df_filtered = pd.DataFrame()\n",
    "# for name in counts:\n",
    "#     if counts[name] >= 1500:\n",
    "#         df_filtered = df_filtered.append(df[df[\"zero_execName\"] == name])\n",
    "\n",
    "###\n",
    "\n",
    "df_filtered = df\n",
    "\n",
    "###\n",
    "df_filtered = df_filtered.sample(frac=1)"
   ]
  },
  {
   "cell_type": "code",
   "execution_count": 4,
   "metadata": {},
   "outputs": [],
   "source": [
    "# for col in df_filtered.columns:\n",
    "# #     if 'op' in col.lower():\n",
    "#         print(col)"
   ]
  },
  {
   "cell_type": "code",
   "execution_count": 5,
   "metadata": {},
   "outputs": [],
   "source": [
    "### Use a particular subset of features:\n",
    "\n",
    "selected_features = df_filtered[[\n",
    "    \"av_stdMpiTime\",\n",
    "#     \"av_mpiIoTime\",\n",
    "    \"gops\",\n",
    "    \"gflops\",\n",
    "    'av_numProcessesOnNode',\n",
    "    'ram_store_bpop',\n",
    "    'ram_fetch_bpop',\n",
    "#     \"min_stdMpiTime\",\n",
    "#     \"max_stdMpiTime\",\n",
    "#     \"av_stdMpiTime\",\n",
    "#     \"zero_numRanks\",\n",
    "#     \"av_numProcessesOnNode\",\n",
    "#     \"zero_elapsedTime\",\n",
    "#     \"zero_numRanks\",\n",
    "#     \"zero_elapsedCycles\",\n",
    "#     \"zero_MPI_Barrier_callCount\",\n",
    "]]\n",
    "features = selected_features.copy()\n",
    "\n",
    "### OR use all of the features\n",
    "\n",
    "# features = df.copy()\n",
    "# features.drop(['zero_execName', 'run_date', 'zero_userName', 'zero_threadMode', 'min_userName', 'min_execName', 'min_threadMode', 'max_execName', 'max_userName', 'max_threadMode', 'av_execName', 'av_userName', 'av_threadMode'], axis=1, inplace=True)\n",
    "\n",
    "###\n",
    "\n",
    "# Convert Ints to floats\n",
    "features = features.astype(np.float32)\n",
    "\n",
    "# Factorize the targets for softmax classification (trying to predict executable name)\n",
    "targets = pd.DataFrame()\n",
    "targets['number'] = pd.factorize(df_filtered['zero_execName'], na_sentinel=1000)[0]"
   ]
  },
  {
   "cell_type": "code",
   "execution_count": 6,
   "metadata": {},
   "outputs": [],
   "source": [
    "# Turn the pandas dataframe into tf.Keras friendly numpy arrays\n",
    "def create_arrays(dataframe):\n",
    "    array = []\n",
    "    for col in dataframe.columns:\n",
    "        array.append(dataframe[col].to_numpy())\n",
    "    return array"
   ]
  },
  {
   "cell_type": "code",
   "execution_count": 7,
   "metadata": {},
   "outputs": [],
   "source": [
    "# Separate our data into training and test sets\n",
    "\n",
    "train_size = np.float32(.8)\n",
    "\n",
    "train_examples = features.head(int(df_filtered.size * train_size)).values\n",
    "train_targets = targets.head(int(df_filtered.size * train_size)).values\n",
    "test_examples = features.tail(int(df_filtered.size * (1-train_size))).values\n",
    "test_targets = targets.tail(int(df_filtered.size * (1-train_size))).values"
   ]
  },
  {
   "cell_type": "code",
   "execution_count": 8,
   "metadata": {},
   "outputs": [
    {
     "name": "stdout",
     "output_type": "stream",
     "text": [
      "score:  301814320000.0\n",
      "score:  285241600000.0\n",
      "score:  87487810000.0\n",
      "score:  81035305000.0\n",
      "score:  57475390000.0\n",
      "score:  50996937000.0\n",
      "score:  49368195000.0\n",
      "score:  49195720000.0\n",
      "score:  49074463000.0\n",
      "score:  47745170000.0\n"
     ]
    }
   ],
   "source": [
    "# Try K-means clustering first\n",
    "\n",
    "tf.reset_default_graph()\n",
    "\n",
    "def input_fn():\n",
    "    return tf.train.limit_epochs(tf.convert_to_tensor(train_examples, dtype=tf.float32), num_epochs=10)\n",
    "\n",
    "num_clusters = targets.number.unique().size\n",
    "# num_clusters = 10\n",
    "kmeans = tf.contrib.factorization.KMeansClustering(num_clusters=num_clusters, use_mini_batch=False)\n",
    "\n",
    "# train\n",
    "num_iterations = 10\n",
    "previous_centers = None\n",
    "for _ in range(num_iterations):\n",
    "    kmeans.train(input_fn)\n",
    "    cluster_centers = kmeans.cluster_centers()\n",
    "#     if previous_centers is not None:\n",
    "#         print('delta: ', cluster_centers - previous_centers)\n",
    "#     previous_centers = cluster_centers\n",
    "    print('score: ', kmeans.score(input_fn))\n",
    "# print('cluster centers: ', cluster_centers)"
   ]
  },
  {
   "cell_type": "code",
   "execution_count": 26,
   "metadata": {},
   "outputs": [
    {
     "data": {
      "text/plain": [
       "{'loss': 47745170000.0, 'score': 47745170000.0, 'global_step': 109}"
      ]
     },
     "execution_count": 26,
     "metadata": {},
     "output_type": "execute_result"
    }
   ],
   "source": [
    "def input_fn():\n",
    "    return tf.train.limit_epochs(tf.convert_to_tensor(test_examples, dtype=tf.float32), num_epochs=1)\n",
    "kmeans.evaluate(input_fn=input_fn)    "
   ]
  },
  {
   "cell_type": "code",
   "execution_count": 10,
   "metadata": {},
   "outputs": [
    {
     "data": {
      "text/plain": [
       "89"
      ]
     },
     "execution_count": 10,
     "metadata": {},
     "output_type": "execute_result"
    }
   ],
   "source": [
    "num_clusters"
   ]
  },
  {
   "cell_type": "code",
   "execution_count": 36,
   "metadata": {},
   "outputs": [
    {
     "data": {
      "text/plain": [
       "[<matplotlib.lines.Line2D at 0x7ff916adec88>]"
      ]
     },
     "execution_count": 36,
     "metadata": {},
     "output_type": "execute_result"
    },
    {
     "data": {
      "image/png": "[encoded data removed]",
      "text/plain": [
       "<Figure size 432x288 with 1 Axes>"
      ]
     },
     "metadata": {
      "needs_background": "light"
     },
     "output_type": "display_data"
    }
   ],
   "source": [
    "%matplotlib inline\n",
    "# Look at predictions on test data\n",
    "\n",
    "cluster_indices = list(kmeans.predict_cluster_index(input_fn))\n",
    "plt.rcParams['agg.path.chunksize'] = 10000\n",
    "plt.plot(cluster_indices, test_targets, marker='o', linestyle='none')"
   ]
  },
  {
   "cell_type": "code",
   "execution_count": null,
   "metadata": {},
   "outputs": [],
   "source": [
    "\n",
    "\n"
   ]
  },
  {
   "cell_type": "code",
   "execution_count": null,
   "metadata": {},
   "outputs": [],
   "source": []
  }
 ],
 "metadata": {
  "kernelspec": {
   "display_name": "Python 3",
   "language": "python",
   "name": "python3"
  },
  "language_info": {
   "codemirror_mode": {
    "name": "ipython",
    "version": 3
   },
   "file_extension": ".py",
   "mimetype": "text/x-python",
   "name": "python",
   "nbconvert_exporter": "python",
   "pygments_lexer": "ipython3",
   "version": "3.7.3"
  }
 },
 "nbformat": 4,
 "nbformat_minor": 2
}
