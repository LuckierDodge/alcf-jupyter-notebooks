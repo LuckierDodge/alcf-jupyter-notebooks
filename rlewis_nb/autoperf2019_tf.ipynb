{
 "cells": [
  {
   "cell_type": "code",
   "execution_count": 1,
   "metadata": {},
   "outputs": [
    {
     "name": "stdout",
     "output_type": "stream",
     "text": [
      "WARNING:tensorflow:From /home/luckierdodge/miniconda3/envs/jupyterlab/lib/python3.7/site-packages/tensorflow_core/python/compat/v2_compat.py:88: disable_resource_variables (from tensorflow.python.ops.variable_scope) is deprecated and will be removed in a future version.\n",
      "Instructions for updating:\n",
      "non-resource variables are not supported in the long term\n"
     ]
    }
   ],
   "source": [
    "import pandas as pd\n",
    "import numpy as np\n",
    "import glob\n",
    "import tensorflow.compat.v1 as tf\n",
    "# import keras_metrics\n",
    "tf.disable_v2_behavior()\n",
    "from matplotlib import pyplot as plt\n",
    "from sklearn import metrics\n",
    "from tensorflow.python.data import Dataset\n",
    "import datetime\n",
    "pd.options.display.max_columns = 1200\n",
    "pd.options.display.max_rows = 1200\n",
    "%load_ext tensorboard"
   ]
  },
  {
   "cell_type": "code",
   "execution_count": 2,
   "metadata": {},
   "outputs": [
    {
     "name": "stderr",
     "output_type": "stream",
     "text": [
      "/home/luckierdodge/miniconda3/envs/jupyterlab/lib/python3.7/site-packages/IPython/core/interactiveshell.py:3051: DtypeWarning: Columns (877) have mixed types.Specify dtype option on import or set low_memory=False.\n",
      "  interactivity=interactivity, compiler=compiler, result=result)\n"
     ]
    }
   ],
   "source": [
    "### Use a particular month:\n",
    "\n",
    "# df = pd.read_csv('../data/autoperf-2019-01.csv', header=0).sample(frac=1)\n",
    "df = pd.read_csv('../data/composed/mira_all.csv')\n",
    "\n",
    "### OR use the full year\n",
    "\n",
    "# li = []\n",
    "# for filename in glob.glob(\"/home/luckierdodge/repos/jupyter-notebooks/data/autoperf-201*.csv\"):\n",
    "#     frame = pd.read_csv(filename, header=0)\n",
    "#     li.append(frame)\n",
    "# df = pd.concat(li, axis=0, ignore_index=True)\n",
    "\n",
    "###"
   ]
  },
  {
   "cell_type": "code",
   "execution_count": 3,
   "metadata": {},
   "outputs": [],
   "source": [
    "### Filtering and cleaning the data before processing ###\n",
    "# df.dropna(inplace=True);\n",
    "\n",
    "###\n",
    "\n",
    "counts = df.zero_execName.value_counts().to_dict()\n",
    "df_filtered = pd.DataFrame()\n",
    "for name in counts:\n",
    "    if counts[name] >= 1000:\n",
    "        df_filtered = df_filtered.append(df[df[\"zero_execName\"] == name])\n",
    "\n",
    "###\n",
    "\n",
    "# df_filtered = df\n",
    "\n",
    "###\n",
    "df_filtered = df_filtered.sample(frac=1)"
   ]
  },
  {
   "cell_type": "code",
   "execution_count": 4,
   "metadata": {},
   "outputs": [],
   "source": [
    "### Use this cell to explore columns ###\n",
    "\n",
    "# for col in df_filtered.columns:\n",
    "#     if 'time' in col or 'Time' in col:\n",
    "#         print(col)\n",
    "\n",
    "\n",
    "# df_filtered.zero_numRanks.describe()\n",
    "# df_filtered.zero_execName.value_counts().to_dict()"
   ]
  },
  {
   "cell_type": "code",
   "execution_count": 15,
   "metadata": {},
   "outputs": [],
   "source": [
    "### Use a particular subset of features:\n",
    "\n",
    "selected_features = df_filtered[[\n",
    "#     \"zero_stdMpiTime\",\n",
    "#     \"gflops\",\n",
    "#     \"gops\",\n",
    "#     \"ram_store_bpop\",\n",
    "#     \"ram_fetch_bpop\",\n",
    "#     \"USED_CORE_HOURS\",\n",
    "    \"REQUESTED_CORE_HOURS\",\n",
    "#     \"min_stdMpiTime\",\n",
    "#     \"max_stdMpiTime\",\n",
    "#     \"av_stdMpiTime\",\n",
    "    \"zero_numRanks\",\n",
    "    \"av_numProcessesOnNode\",\n",
    "#     \"zero_elapsedTime\",\n",
    "#     \"zero_numRanks\",\n",
    "#     \"zero_elapsedCycles\",\n",
    "#     \"zero_MPI_Barrier_callCount\",\n",
    "]]\n",
    "features = selected_features.copy()\n",
    "\n",
    "### OR use all of the features\n",
    "\n",
    "# features = df_filtered.drop(['zero_execName', 'run_date', 'zero_userName', 'zero_threadMode', 'min_userName', 'min_execName', 'min_threadMode', 'max_execName', 'max_userName', 'max_threadMode', 'av_execName', 'av_userName', 'av_threadMode'], \n",
    "#     axis=1).select_dtypes(include=[np.number]).copy()\n",
    "\n",
    "features = ((features - features.mean()) / (features.max() - features.min())).dropna(axis=1, how='any')\n",
    "\n",
    "###\n",
    "\n",
    "# Factorize the targets for softmax classification (trying to predict executable name)\n",
    "targets = pd.DataFrame()\n",
    "targets['number'] = pd.factorize(df_filtered['zero_execName'], na_sentinel=-1)[0]\n",
    "# targets['number'] = pd.factorize(df_filtered['zero_userName'], na_sentinel=-1)[0]"
   ]
  },
  {
   "cell_type": "code",
   "execution_count": 16,
   "metadata": {},
   "outputs": [],
   "source": [
    "# features.describe()"
   ]
  },
  {
   "cell_type": "code",
   "execution_count": 17,
   "metadata": {},
   "outputs": [],
   "source": [
    "# Turn the pandas dataframe into tf.Keras friendly numpy arrays\n",
    "def create_arrays(dataframe):\n",
    "#     array = []\n",
    "#     for col in dataframe.columns:\n",
    "#         array.append(dataframe[col].to_numpy())\n",
    "#     return array\n",
    "    return dataframe.values"
   ]
  },
  {
   "cell_type": "code",
   "execution_count": 18,
   "metadata": {},
   "outputs": [],
   "source": [
    "# Separate our data into training and test sets\n",
    "\n",
    "train_size = .8\n",
    "\n",
    "train_examples = create_arrays(features.head(int(df_filtered.size * train_size)))\n",
    "train_targets = create_arrays(targets.head(int(df_filtered.size * train_size)))\n",
    "test_examples = create_arrays(features.tail(int(df_filtered.size * (1-train_size))))\n",
    "test_targets = create_arrays(targets.tail(int(df_filtered.size * (1-train_size))))"
   ]
  },
  {
   "cell_type": "code",
   "execution_count": 19,
   "metadata": {},
   "outputs": [],
   "source": [
    "# Create a TF.Keras model, taking into account the number of unique executables we're targetting in our softmax layer\n",
    "\n",
    "### More complex model to tackle a full year\n",
    "\n",
    "# model = tf.keras.models.Sequential([\n",
    "#   tf.keras.layers.Dense(2048, activation='relu', input_shape=(1,)),\n",
    "#   tf.keras.layers.Dropout(.2),\n",
    "#   tf.keras.layers.Dense(1024, activation='relu'),\n",
    "#   tf.keras.layers.Dropout(.2),\n",
    "#   tf.keras.layers.Dense(targets.number.unique().size, activation='softmax')\n",
    "# ])\n",
    "\n",
    "### Single month, simplistic neural network\n",
    "\n",
    "model = tf.keras.models.Sequential([\n",
    "  tf.keras.layers.Dense(256, activation='relu', input_shape=(len(features.columns.values),)),\n",
    "  tf.keras.layers.Dense(128, activation='relu', input_shape=(1,)),\n",
    "  tf.keras.layers.Dense(128, activation='relu', input_shape=(1,)),\n",
    "  tf.keras.layers.Dense(128, activation='relu', input_shape=(1,)),\n",
    "  tf.keras.layers.Dense(targets.number.unique().size, activation='softmax')\n",
    "])\n",
    "\n",
    "###"
   ]
  },
  {
   "cell_type": "code",
   "execution_count": 20,
   "metadata": {},
   "outputs": [],
   "source": [
    "def keras_precision(y_true, y_pred):\n",
    "    fp = tf.keras.metrics.FalsePositives()\n",
    "    fp.update_state(y_true, y_pred)\n",
    "    false_positive = fp.result().eval()\n",
    "    tp = tf.keras.metrics.TruePositives()\n",
    "    tp.update_state(y_true, y_pred)\n",
    "    true_positive = tp.result().eval()\n",
    "    return true_positive / (true_positive + false_positive)"
   ]
  },
  {
   "cell_type": "code",
   "execution_count": 21,
   "metadata": {},
   "outputs": [],
   "source": [
    "model.compile(optimizer=tf.train.AdagradOptimizer(0.005),\n",
    "              loss='sparse_categorical_crossentropy',\n",
    "              metrics=['sparse_categorical_accuracy'],\n",
    "            )"
   ]
  },
  {
   "cell_type": "code",
   "execution_count": 22,
   "metadata": {},
   "outputs": [
    {
     "name": "stdout",
     "output_type": "stream",
     "text": [
      "Train on 346708 samples\n",
      "Epoch 1/10\n",
      "346708/346708 [==============================] - 15s 42us/sample - loss: 1.4134 - sparse_categorical_accuracy: 0.5806\n",
      "Epoch 2/10\n",
      "346708/346708 [==============================] - 14s 42us/sample - loss: 0.8579 - sparse_categorical_accuracy: 0.7471\n",
      "Epoch 3/10\n",
      "346708/346708 [==============================] - 15s 42us/sample - loss: 0.7316 - sparse_categorical_accuracy: 0.7807\n",
      "Epoch 4/10\n",
      "346708/346708 [==============================] - 14s 41us/sample - loss: 0.6693 - sparse_categorical_accuracy: 0.8019\n",
      "Epoch 5/10\n",
      "346708/346708 [==============================] - 14s 42us/sample - loss: 0.6278 - sparse_categorical_accuracy: 0.8156\n",
      "Epoch 6/10\n",
      "346708/346708 [==============================] - 15s 42us/sample - loss: 0.5965 - sparse_categorical_accuracy: 0.8226\n",
      "Epoch 7/10\n",
      "346708/346708 [==============================] - 14s 42us/sample - loss: 0.5712 - sparse_categorical_accuracy: 0.8291\n",
      "Epoch 8/10\n",
      "346708/346708 [==============================] - 14s 42us/sample - loss: 0.5480 - sparse_categorical_accuracy: 0.8344\n",
      "Epoch 9/10\n",
      "346708/346708 [==============================] - 14s 42us/sample - loss: 0.5279 - sparse_categorical_accuracy: 0.8377\n",
      "Epoch 10/10\n",
      "346708/346708 [==============================] - 15s 45us/sample - loss: 0.5104 - sparse_categorical_accuracy: 0.8451\n"
     ]
    },
    {
     "data": {
      "text/plain": [
       "<tensorflow.python.keras.callbacks.History at 0x7fe88c8b84d0>"
      ]
     },
     "execution_count": 22,
     "metadata": {},
     "output_type": "execute_result"
    }
   ],
   "source": [
    "# Tensorboard Shenanigans\n",
    "log_dir = '/home/luckierdodge/repos/jupyter-notebooks/log/fit/' + datetime.datetime.now().strftime(\"%Y%m%d-%H%M%S\")\n",
    "tensorboard_callback = tf.keras.callbacks.TensorBoard(log_dir=log_dir, \n",
    "                                                     histogram_freq=1,\n",
    "                                                     write_graph=True,\n",
    "#                                                      embeddings_freq=1,\n",
    "                                                     update_freq='epoch',\n",
    "                                                     write_images=True)\n",
    "\n",
    "# Train model\n",
    "model.fit(train_examples, \n",
    "          train_targets, \n",
    "          epochs=10, \n",
    "#           validation_data=(test_examples, test_targets), \n",
    "          callbacks=[tensorboard_callback]\n",
    "         )"
   ]
  },
  {
   "cell_type": "code",
   "execution_count": 24,
   "metadata": {},
   "outputs": [
    {
     "name": "stdout",
     "output_type": "stream",
     "text": [
      "346708/346708 [==============================] - 11s 30us/sample - loss: 0.4994 - sparse_categorical_accuracy: 0.8431\n",
      "Test accuracy: [0.49937063003889626, 0.84308696]\n"
     ]
    }
   ],
   "source": [
    "test_acc = model.evaluate(test_examples, test_targets)\n",
    "print('Test accuracy:', test_acc)"
   ]
  },
  {
   "cell_type": "code",
   "execution_count": null,
   "metadata": {},
   "outputs": [],
   "source": [
    "# %reload_ext tensorboard"
   ]
  },
  {
   "cell_type": "code",
   "execution_count": null,
   "metadata": {},
   "outputs": [],
   "source": [
    "# %tensorboard --logdir /home/luckierdodge/repos/jupyter-notebooks/log/fit"
   ]
  },
  {
   "cell_type": "code",
   "execution_count": null,
   "metadata": {},
   "outputs": [],
   "source": []
  }
 ],
 "metadata": {
  "kernelspec": {
   "display_name": "Python 3",
   "language": "python",
   "name": "python3"
  },
  "language_info": {
   "codemirror_mode": {
    "name": "ipython",
    "version": 3
   },
   "file_extension": ".py",
   "mimetype": "text/x-python",
   "name": "python",
   "nbconvert_exporter": "python",
   "pygments_lexer": "ipython3",
   "version": "3.7.6"
  }
 },
 "nbformat": 4,
 "nbformat_minor": 4
}
