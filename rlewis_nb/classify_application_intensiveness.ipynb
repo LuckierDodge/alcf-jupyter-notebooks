{
 "cells": [
  {
   "cell_type": "code",
   "execution_count": 2,
   "metadata": {},
   "outputs": [],
   "source": [
    "from __future__ import division\n",
    "import numpy as np\n",
    "from matplotlib import pyplot as plt\n",
    "import glob\n",
    "import operator\n",
    "import time \n",
    "import shutil\n",
    "import scipy\n",
    "import sys\n",
    "import pandas as pd\n",
    "import xgboost as xgb\n",
    "from sklearn.metrics import accuracy_score\n",
    "from sklearn.metrics import recall_score\n",
    "from sklearn.metrics import precision_score\n",
    "from sklearn.model_selection import train_test_split\n",
    "from sklearn.model_selection import GridSearchCV\n",
    "\n",
    "pd.set_option(\"display.max_columns\", 100)"
   ]
  },
  {
   "cell_type": "code",
   "execution_count": 3,
   "metadata": {},
   "outputs": [],
   "source": [
    "%load_ext blackcellmagic"
   ]
  },
  {
   "cell_type": "markdown",
   "metadata": {},
   "source": [
    "# Read in Data"
   ]
  },
  {
   "cell_type": "code",
   "execution_count": 4,
   "metadata": {},
   "outputs": [],
   "source": [
    "darshan_df = pd.read_csv(\"../data/ap-ds-join/cmb-ds-1802-1812.csv\")\n",
    "autoperf_df = pd.read_csv(\"../data/ap-ds-join/cmb-ap-1802-1812.csv\")"
   ]
  },
  {
   "cell_type": "markdown",
   "metadata": {},
   "source": [
    "# Runtime Breakdown"
   ]
  },
  {
   "cell_type": "code",
   "execution_count": 5,
   "metadata": {},
   "outputs": [],
   "source": [
    "def run_time_break(ap_df, ds_df):\n",
    "    io_time_key = [\n",
    "        \"TOTAL_CP_F_POSIX_READ_TIME\",\n",
    "        \"TOTAL_CP_F_POSIX_WRITE_TIME\",\n",
    "        \"TOTAL_CP_F_POSIX_META_TIME\",\n",
    "        \"TOTAL_CP_F_MPI_META_TIME\",\n",
    "        \"TOTAL_CP_F_MPI_READ_TIME\",\n",
    "        \"TOTAL_CP_F_MPI_WRITE_TIME\",\n",
    "    ]\n",
    "\n",
    "    # Get an array of sorted indices for the jobids\n",
    "    ap_jid_sarg = np.argsort(ap_df.zero_batchJobId)\n",
    "    ds_jid_sarg = np.argsort(ds_df.COBALT_JOBID)\n",
    "\n",
    "    # Calculate the runtime and time spent on file io and mpi\n",
    "    cul_io_time = (ds_df[io_time_key].values.sum(axis=1))[ds_jid_sarg]\n",
    "    cul_mpi_time = (ap_df.zero_stdMpiTime.values * ap_df.zero_numRanks.values)[\n",
    "        ap_jid_sarg\n",
    "    ]\n",
    "    cul_run_time = (ap_df.zero_elapsedTime.values * ap_df.zero_numRanks.values)[\n",
    "        ap_jid_sarg\n",
    "    ]\n",
    "\n",
    "    # Calculate fractional time spent on io, mpi, and computation\n",
    "    frac_io = cul_io_time / cul_run_time\n",
    "    frac_mpi = cul_mpi_time / cul_run_time\n",
    "    frac_comp = 1 - frac_io - frac_mpi\n",
    "    mask = (\n",
    "        (frac_io >= 0)\n",
    "        & (frac_io <= 1)\n",
    "        & (frac_mpi >= 0)\n",
    "        & (frac_mpi <= 1)\n",
    "        & (frac_comp >= 0)\n",
    "        & (frac_comp <= 1)\n",
    "    )\n",
    "\n",
    "    return (\n",
    "        ap_df.sort_values(\"zero_batchJobId\")[mask],\n",
    "        ds_df.sort_values(\"COBALT_JOBID\")[mask],\n",
    "        frac_io[mask],\n",
    "        frac_mpi[mask],\n",
    "        frac_comp[mask],\n",
    "    )"
   ]
  },
  {
   "cell_type": "code",
   "execution_count": 6,
   "metadata": {},
   "outputs": [
    {
     "name": "stdout",
     "output_type": "stream",
     "text": [
      "Lengths of returned values (should be identical):\n"
     ]
    },
    {
     "data": {
      "text/plain": [
       "(9891, 9891, 9891, 9891, 9891)"
      ]
     },
     "execution_count": 6,
     "metadata": {},
     "output_type": "execute_result"
    }
   ],
   "source": [
    "masked_autoperf_df, masked_darshan_df, frac_io, frac_mpi, frac_comp = run_time_break(\n",
    "    autoperf_df, darshan_df\n",
    ")\n",
    "print(\"Lengths of returned values (should be identical):\")\n",
    "len(masked_autoperf_df), len(masked_darshan_df), len(frac_io), len(frac_mpi), len(\n",
    "    frac_comp\n",
    ")"
   ]
  },
  {
   "cell_type": "code",
   "execution_count": 7,
   "metadata": {},
   "outputs": [
    {
     "name": "stdout",
     "output_type": "stream",
     "text": [
      "Length of combined_df (should match above): 9891\n"
     ]
    }
   ],
   "source": [
    "combined_df = pd.concat(\n",
    "    [\n",
    "        masked_autoperf_df.reset_index(drop=True),\n",
    "        masked_darshan_df.reset_index(drop=True),\n",
    "    ],\n",
    "    axis=1,\n",
    ")\n",
    "print(\"Length of combined_df (should match above):\", len(combined_df))\n",
    "combined_df[\"frac_io\"] = frac_io\n",
    "combined_df[\"frac_mpi\"] = frac_mpi\n",
    "combined_df[\"frac_comp\"] = frac_comp"
   ]
  },
  {
   "cell_type": "code",
   "execution_count": 8,
   "metadata": {},
   "outputs": [
    {
     "data": {
      "text/plain": [
       "array([], shape=(0, 1234), dtype=object)"
      ]
     },
     "execution_count": 8,
     "metadata": {},
     "output_type": "execute_result"
    }
   ],
   "source": [
    "# This should return an empty array, meaning all our jobids line up\n",
    "combined_df[combined_df.zero_batchJobId != combined_df.COBALT_JOBID].values"
   ]
  },
  {
   "cell_type": "code",
   "execution_count": 14,
   "metadata": {},
   "outputs": [],
   "source": [
    "combined_df.to_csv('../data/ap-ds-join/combined-ap-ds-1802-1812.csv')"
   ]
  },
  {
   "cell_type": "markdown",
   "metadata": {},
   "source": [
    "# XGBoost Models"
   ]
  },
  {
   "cell_type": "code",
   "execution_count": 9,
   "metadata": {},
   "outputs": [],
   "source": [
    "# Select features and targets for model training\n",
    "features = (\n",
    "    combined_df.drop(\n",
    "        [\n",
    "            \"zero_execName\",\n",
    "            \"run_date\",\n",
    "            \"zero_userName\",\n",
    "            \"zero_threadMode\",\n",
    "            \"min_userName\",\n",
    "            \"min_execName\",\n",
    "            \"min_threadMode\",\n",
    "            \"max_execName\",\n",
    "            \"max_userName\",\n",
    "            \"max_threadMode\",\n",
    "            \"av_execName\",\n",
    "            \"av_userName\",\n",
    "            \"av_threadMode\",\n",
    "            \"zero_csJobId\",\n",
    "            \"zero_batchJobId\",\n",
    "            \"output_local\",\n",
    "            \"output_sys\",\n",
    "        ],\n",
    "        axis=1,\n",
    "    )\n",
    "    .select_dtypes(include=[np.number])\n",
    "    .copy()\n",
    ")\n",
    "\n",
    "features = features.drop([\"frac_io\", \"frac_comp\", \"frac_mpi\"], axis=1)\n",
    "features = features.drop(\n",
    "    [column for column in features.columns if \"unnamed\" in column.lower()], axis=1\n",
    ")\n",
    "features = features.drop(\n",
    "    [column for column in features.columns if column.isupper()], axis=1\n",
    ")\n",
    "features = features.drop(\n",
    "    [column for column in features.columns if \"mpi\" in column.lower()], axis=1\n",
    ")\n",
    "features = features.drop(\n",
    "    [column for column in features.columns if \"torus\" in column.lower()], axis=1\n",
    ")\n",
    "features = features.drop(\n",
    "    [column for column in features.columns if \"version\" in column.lower()], axis=1\n",
    ")\n",
    "features = features.drop(\n",
    "    [column for column in features.columns if \"env\" in column.lower()], axis=1\n",
    ")\n",
    "features = features.drop(\n",
    "    [column for column in features.columns if \"debug\" in column.lower()], axis=1\n",
    ")\n",
    "features = features.drop(\n",
    "    [column for column in features.columns if \"disable\" in column.lower()], axis=1\n",
    ")\n",
    "features = features.drop(\n",
    "    [column for column in features.columns if \"cycle\" in column.lower()], axis=1\n",
    ")\n",
    "features = features.drop(\n",
    "    [column for column in features.columns if \"rank\" in column.lower()], axis=1\n",
    ")\n",
    "features = features.drop(\n",
    "    [column for column in features.columns if \"jobid\" in column.lower()], axis=1\n",
    ")\n",
    "features = features.drop(\n",
    "    [column for column in features.columns if \"batchid\" in column.lower()], axis=1\n",
    ")\n",
    "features = features.drop(\n",
    "    [column for column in features.columns if \"rank\" in column.lower()], axis=1\n",
    ")\n",
    "features = features.drop(\n",
    "    [column for column in features.columns if \"username\" in column.lower()], axis=1\n",
    ")\n",
    "features = features.drop(\n",
    "    [column for column in features.columns if \"execname\" in column.lower()], axis=1\n",
    ")\n",
    "features = features.drop(\n",
    "    [column for column in features.columns if \"time\" in column.lower()], axis=1\n",
    ")\n",
    "features = features.drop(\n",
    "    [column for column in features.columns if \"numprocesses\" in column.lower()], axis=1\n",
    ")\n",
    "features = features.drop(\n",
    "    [column for column in features.columns if \"threads\" in column.lower()], axis=1\n",
    ")\n",
    "features = features.drop(\n",
    "    [column for column in features.columns if \"heapmaxused\" in column.lower()], axis=1\n",
    ")\n",
    "features = features.drop(\n",
    "    [column for column in features.columns if \"zero_\" in column.lower()], axis=1\n",
    ")\n",
    "features = features.drop(\n",
    "    [column for column in features.columns if \"min_\" in column.lower()], axis=1\n",
    ")\n",
    "features = features.drop(\n",
    "    [column for column in features.columns if \"max_\" in column.lower()], axis=1\n",
    ")\n",
    "features = features.drop(\n",
    "    [\n",
    "        column\n",
    "        for column in features.columns\n",
    "        if features[column].max() == features[column].min()\n",
    "    ],\n",
    "    axis=1,\n",
    ")\n",
    "\n",
    "\n",
    "# Create targets for softmax classification (Binary classification, essentially)\n",
    "targets_io = np.where(combined_df.frac_io >= 0.5, 1, 0)\n",
    "targets_comp = np.where(combined_df.frac_comp >= 0.5, 1, 0)\n",
    "targets_mpi = np.where(combined_df.frac_mpi >= 0.5, 1, 0)\n",
    "\n",
    "# Softmax classification on all categories, 0 = comp, 1 = mpi, 2 = io\n",
    "targets_all = np.where(targets_comp == 0, 1, 0) + targets_mpi + (targets_io * 2)\n",
    "\n",
    "# Create targets for regression\n",
    "targets_io_regression = combined_df.frac_io\n",
    "targets_comp_regression = combined_df.frac_comp\n",
    "targets_mpi_regression = combined_df.frac_mpi"
   ]
  },
  {
   "cell_type": "code",
   "execution_count": 13,
   "metadata": {},
   "outputs": [
    {
     "data": {
      "text/plain": [
       "9891"
      ]
     },
     "execution_count": 13,
     "metadata": {},
     "output_type": "execute_result"
    }
   ],
   "source": [
    "len(targets_all)"
   ]
  },
  {
   "cell_type": "code",
   "execution_count": 10,
   "metadata": {},
   "outputs": [],
   "source": [
    "# Normalize the fields by average elapsed time per rank\n",
    "def elapsedTimeNormalization(column):\n",
    "    return column / combined_df.av_elapsedTime\n",
    "\n",
    "\n",
    "features = features.apply(elapsedTimeNormalization).fillna(value=0, axis=0)"
   ]
  },
  {
   "cell_type": "code",
   "execution_count": 11,
   "metadata": {},
   "outputs": [
    {
     "name": "stdout",
     "output_type": "stream",
     "text": [
      "av_PEVT_LSU_COMMIT_LD_MISSES\n",
      "av_PEVT_LSU_COMMIT_CACHEABLE_LDS\n",
      "av_PEVT_L1P_BAS_MISS\n",
      "av_PEVT_INST_XU_ALL\n",
      "av_PEVT_INST_QFPU_ALL\n",
      "av_PEVT_INST_QFPU_FPGRP1\n",
      "av_PEVT_L2_HITS\n",
      "av_PEVT_L2_MISSES\n",
      "av_PEVT_L2_FETCH_LINE\n",
      "av_PEVT_L2_STORE_LINE\n",
      "av_PEVT_NW_USER_PP_SENT\n",
      "av_PEVT_NW_USER_PP_RECV\n"
     ]
    }
   ],
   "source": [
    "# Ensure these are the correct columns we want to use as features\n",
    "for column in features.columns:\n",
    "    print(column)"
   ]
  },
  {
   "cell_type": "code",
   "execution_count": 313,
   "metadata": {},
   "outputs": [],
   "source": [
    "# A function that takes our features and targets, and trains a basic XGB Classification model on them\n",
    "# Returns the accuracy, recall, and precision scores\n",
    "def classify(features, targets, average='binary'):\n",
    "    train_examples, test_examples, train_targets, test_targets = train_test_split(\n",
    "        features.values, targets, test_size=0.2, random_state=0\n",
    "    )\n",
    "    xgb_model = xgb.XGBClassifier()\n",
    "    xgb_model.fit(train_examples, train_targets)\n",
    "    return (\n",
    "        accuracy_score(test_targets, xgb_model.predict(test_examples)),\n",
    "        recall_score(test_targets, xgb_model.predict(test_examples), average=average),\n",
    "        precision_score(test_targets, xgb_model.predict(test_examples), average=average),\n",
    "    )"
   ]
  },
  {
   "cell_type": "code",
   "execution_count": 314,
   "metadata": {},
   "outputs": [
    {
     "data": {
      "text/plain": [
       "(0.9964628600303184, 0.875, 0.9459459459459459)"
      ]
     },
     "execution_count": 314,
     "metadata": {},
     "output_type": "execute_result"
    }
   ],
   "source": [
    "# Run classification on File IO\n",
    "classify(features, targets_io)"
   ]
  },
  {
   "cell_type": "code",
   "execution_count": 315,
   "metadata": {},
   "outputs": [
    {
     "data": {
      "text/plain": [
       "(0.9722081859525012, 0.9830065359477124, 0.9810828440965427)"
      ]
     },
     "execution_count": 315,
     "metadata": {},
     "output_type": "execute_result"
    }
   ],
   "source": [
    "# Run classification on Computation\n",
    "classify(features, targets_comp)"
   ]
  },
  {
   "cell_type": "code",
   "execution_count": 316,
   "metadata": {},
   "outputs": [
    {
     "data": {
      "text/plain": [
       "(0.9782718544719555, 0.9054878048780488, 0.9611650485436893)"
      ]
     },
     "execution_count": 316,
     "metadata": {},
     "output_type": "execute_result"
    }
   ],
   "source": [
    "# Run classification on MPI\n",
    "classify(features, targets_mpi)"
   ]
  },
  {
   "cell_type": "code",
   "execution_count": 320,
   "metadata": {},
   "outputs": [
    {
     "data": {
      "text/plain": [
       "(0.9646286003031834, 0.8865470623660485, 0.9198557696000889)"
      ]
     },
     "execution_count": 320,
     "metadata": {},
     "output_type": "execute_result"
    }
   ],
   "source": [
    "# Run classification on All Targets\n",
    "classify(features, targets_all, 'macro')"
   ]
  },
  {
   "cell_type": "code",
   "execution_count": 336,
   "metadata": {},
   "outputs": [
    {
     "name": "stdout",
     "output_type": "stream",
     "text": [
      "Fitting 3 folds for each of 162 candidates, totalling 486 fits\n"
     ]
    },
    {
     "name": "stderr",
     "output_type": "stream",
     "text": [
      "[Parallel(n_jobs=-1)]: Using backend LokyBackend with 4 concurrent workers.\n",
      "[Parallel(n_jobs=-1)]: Done  33 tasks      | elapsed:   29.1s\n",
      "[Parallel(n_jobs=-1)]: Done 154 tasks      | elapsed:  2.1min\n",
      "[Parallel(n_jobs=-1)]: Done 357 tasks      | elapsed:  4.8min\n",
      "[Parallel(n_jobs=-1)]: Done 486 out of 486 | elapsed:  6.6min finished\n"
     ]
    },
    {
     "data": {
      "text/plain": [
       "(XGBClassifier(base_score=0.5, booster=None, colsample_bylevel=0.75,\n",
       "               colsample_bynode=1.0, colsample_bytree=0.75, gamma=0, gpu_id=-1,\n",
       "               importance_type='gain', interaction_constraints=None,\n",
       "               learning_rate=0.3, max_delta_step=0, max_depth=16,\n",
       "               min_child_weight=1, missing=nan, monotone_constraints=None,\n",
       "               n_estimators=180, n_jobs=0, num_parallel_tree=1,\n",
       "               objective='multi:softprob', random_state=0, reg_alpha=0,\n",
       "               reg_lambda=1, scale_pos_weight=None, subsample=1,\n",
       "               tree_method=None, validate_parameters=False, verbosity=None),\n",
       " 0.965133906013138,\n",
       " 0.8893929229324973,\n",
       " 0.914420476158281)"
      ]
     },
     "execution_count": 336,
     "metadata": {},
     "output_type": "execute_result"
    }
   ],
   "source": [
    "# A function that takes our features and targets, and does a grid search for the best classifier\n",
    "# Returns the best estimator produced\n",
    "def classify_grid(features, targets):\n",
    "    train_examples, test_examples, train_targets, test_targets = train_test_split(\n",
    "        features.values, targets, test_size=0.2, random_state=0\n",
    "    )\n",
    "\n",
    "    param_grid = {\n",
    "        \"max_depth\": [16, 17],\n",
    "        \"n_estimators\": [170, 175, 180],\n",
    "        'colsample_bylevel': [.75],\n",
    "        'colsample_bynode': [1.0],\n",
    "        'colsample_bytree': [.75],\n",
    "        'learning_rate': [0.3],\n",
    "        'reg_alpha': [0, 0.5, 1],\n",
    "        'reg_lambda': [.75, 1, 1.25],\n",
    "        'subsample': [.75, .9, 1],\n",
    "    }\n",
    "    grid = GridSearchCV(\n",
    "        estimator=xgb.XGBClassifier(), param_grid=param_grid, n_jobs=-1, cv=3, verbose=2\n",
    "    )\n",
    "\n",
    "    grid.fit(train_examples, train_targets)\n",
    "    estimator = grid.best_estimator_\n",
    "    return (\n",
    "        estimator,\n",
    "        accuracy_score(test_targets, estimator.predict(test_examples)),\n",
    "        recall_score(test_targets, estimator.predict(test_examples), average=\"macro\"),\n",
    "        precision_score(test_targets, estimator.predict(test_examples), average=\"macro\"),\n",
    "    )\n",
    "\n",
    "classify_grid(features, targets_all)"
   ]
  },
  {
   "cell_type": "code",
   "execution_count": 337,
   "metadata": {},
   "outputs": [],
   "source": [
    "# A function that takes our features and targets, and trains a basic XGB Regressor model on them\n",
    "def regressor(features, targets):\n",
    "    train_examples, test_examples, train_targets, test_targets = train_test_split(\n",
    "        features.values, targets, test_size=0.2, random_state=0\n",
    "    )\n",
    "    xgb_model = xgb.XGBRegressor()\n",
    "    xgb_model.fit(train_examples, train_targets)\n",
    "    \n",
    "    prediction = xgb_model.predict(test_examples)\n",
    "    \n",
    "    error   = prediction - test_targets\n",
    "    abs_err = np.abs(error)\n",
    "    rel_err = 100. * abs_err / test_targets\n",
    "#     print(np.percentile(rel_err, 25), np.percentile(rel_err, 50), np.percentile(rel_err, 75), np.percentile(rel_err, 95))\n",
    "    print(\"Min:\", np.percentile(rel_err, 0))\n",
    "    print(\"25th:\", np.percentile(rel_err, 25))\n",
    "    print(\"50th:\", np.percentile(rel_err, 50))\n",
    "    print(\"75th:\", np.percentile(rel_err, 75))\n",
    "    print(\"95th:\", np.percentile(rel_err, 95))\n",
    "    print(\"Max:\", np.percentile(rel_err, 100))"
   ]
  },
  {
   "cell_type": "code",
   "execution_count": 338,
   "metadata": {},
   "outputs": [
    {
     "name": "stdout",
     "output_type": "stream",
     "text": [
      "Min: 0.01814646725326978\n",
      "25th: 5.3824972092399825\n",
      "50th: 25.58231690555163\n",
      "75th: 255.29267000988312\n",
      "95th: 1050352.2978610056\n",
      "Max: nan\n"
     ]
    },
    {
     "name": "stderr",
     "output_type": "stream",
     "text": [
      "/home/luckierdodge/miniconda3/envs/jupyterlab/lib/python3.7/site-packages/numpy/lib/function_base.py:3942: RuntimeWarning: invalid value encountered in multiply\n",
      "  x2 = take(ap, indices_above, axis=axis) * weights_above\n"
     ]
    }
   ],
   "source": [
    "# Predict fraction of time spent on File IO\n",
    "regressor(features, targets_io_regression)"
   ]
  },
  {
   "cell_type": "code",
   "execution_count": 339,
   "metadata": {},
   "outputs": [
    {
     "name": "stdout",
     "output_type": "stream",
     "text": [
      "Min: 0.00021692648302680133\n",
      "25th: 0.36490877320284204\n",
      "50th: 1.2835184490834302\n",
      "75th: 4.976852931915088\n",
      "95th: 30.242211926027654\n",
      "Max: 3157.286858389763\n"
     ]
    }
   ],
   "source": [
    "# Estimate fraction of time spent on Computation\n",
    "regressor(features, targets_comp_regression)"
   ]
  },
  {
   "cell_type": "code",
   "execution_count": 340,
   "metadata": {},
   "outputs": [
    {
     "name": "stdout",
     "output_type": "stream",
     "text": [
      "Min: 0.002488359601149416\n",
      "25th: 1.0003557467435331\n",
      "50th: 3.0983016975201716\n",
      "75th: 11.06784434438529\n",
      "95th: 208.34815038238693\n",
      "Max: 502231088.0259991\n"
     ]
    }
   ],
   "source": [
    "# Estimate fraction of time spent on MPI\n",
    "regressor(features, targets_mpi_regression)"
   ]
  },
  {
   "cell_type": "code",
   "execution_count": 279,
   "metadata": {},
   "outputs": [
    {
     "data": {
      "text/plain": [
       "(array([8.745e+03, 6.390e+02, 1.700e+02, 8.800e+01, 5.300e+01, 8.000e+01,\n",
       "        6.300e+01, 3.800e+01, 1.100e+01, 4.000e+00]),\n",
       " array([0.        , 0.09692641, 0.19385282, 0.29077924, 0.38770565,\n",
       "        0.48463206, 0.58155847, 0.67848489, 0.7754113 , 0.87233771,\n",
       "        0.96926412]),\n",
       " <a list of 10 Patch objects>)"
      ]
     },
     "execution_count": 279,
     "metadata": {},
     "output_type": "execute_result"
    },
    {
     "data": {
      "image/png": "[encoded data removed]",
      "text/plain": [
       "<Figure size 432x288 with 1 Axes>"
      ]
     },
     "metadata": {
      "needs_background": "light"
     },
     "output_type": "display_data"
    }
   ],
   "source": [
    "plt.hist(combined_df.frac_io)"
   ]
  },
  {
   "cell_type": "code",
   "execution_count": 280,
   "metadata": {},
   "outputs": [
    {
     "data": {
      "text/plain": [
       "(array([ 192.,  195.,  456.,  707.,  658.,  692., 1234., 2535., 2710.,\n",
       "         512.]),\n",
       " array([4.74824413e-06, 1.00004270e-01, 2.00003792e-01, 3.00003313e-01,\n",
       "        4.00002835e-01, 5.00002357e-01, 6.00001878e-01, 7.00001400e-01,\n",
       "        8.00000922e-01, 9.00000444e-01, 9.99999965e-01]),\n",
       " <a list of 10 Patch objects>)"
      ]
     },
     "execution_count": 280,
     "metadata": {},
     "output_type": "execute_result"
    },
    {
     "data": {
      "image/png": "[encoded data removed]",
      "text/plain": [
       "<Figure size 432x288 with 1 Axes>"
      ]
     },
     "metadata": {
      "needs_background": "light"
     },
     "output_type": "display_data"
    }
   ],
   "source": [
    "plt.hist(combined_df.frac_comp)"
   ]
  },
  {
   "cell_type": "code",
   "execution_count": 281,
   "metadata": {},
   "outputs": [
    {
     "data": {
      "text/plain": [
       "(array([1147., 2900., 2514.,  955.,  749.,  448.,  615.,  403.,   47.,\n",
       "         113.]),\n",
       " array([9.51927373e-09, 9.99704805e-02, 1.99940951e-01, 2.99911422e-01,\n",
       "        3.99881893e-01, 4.99852364e-01, 5.99822835e-01, 6.99793306e-01,\n",
       "        7.99763777e-01, 8.99734248e-01, 9.99704719e-01]),\n",
       " <a list of 10 Patch objects>)"
      ]
     },
     "execution_count": 281,
     "metadata": {},
     "output_type": "execute_result"
    },
    {
     "data": {
      "image/png": "[encoded data removed]",
      "text/plain": [
       "<Figure size 432x288 with 1 Axes>"
      ]
     },
     "metadata": {
      "needs_background": "light"
     },
     "output_type": "display_data"
    }
   ],
   "source": [
    "plt.hist(combined_df.frac_mpi)"
   ]
  },
  {
   "cell_type": "code",
   "execution_count": null,
   "metadata": {},
   "outputs": [],
   "source": []
  }
 ],
 "metadata": {
  "kernelspec": {
   "display_name": "Python 3",
   "language": "python",
   "name": "python3"
  },
  "language_info": {
   "codemirror_mode": {
    "name": "ipython",
    "version": 3
   },
   "file_extension": ".py",
   "mimetype": "text/x-python",
   "name": "python",
   "nbconvert_exporter": "python",
   "pygments_lexer": "ipython3",
   "version": "3.7.7"
  }
 },
 "nbformat": 4,
 "nbformat_minor": 4
}
