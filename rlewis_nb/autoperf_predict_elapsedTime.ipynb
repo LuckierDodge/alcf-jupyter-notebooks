{
 "cells": [
  {
   "cell_type": "code",
   "execution_count": 1,
   "metadata": {},
   "outputs": [],
   "source": [
    "import pandas as pd\n",
    "import numpy as np\n",
    "import glob\n",
    "from matplotlib import pyplot as plt\n",
    "from sklearn import metrics\n",
    "pd.options.display.max_columns = 1200\n",
    "pd.options.display.max_rows = 1200"
   ]
  },
  {
   "cell_type": "markdown",
   "metadata": {},
   "source": [
    "# Read in and Prep Data"
   ]
  },
  {
   "cell_type": "code",
   "execution_count": 2,
   "metadata": {},
   "outputs": [
    {
     "name": "stderr",
     "output_type": "stream",
     "text": [
      "/home/luckierdodge/anaconda3/envs/autoperf_tf/lib/python3.7/site-packages/IPython/core/interactiveshell.py:3057: DtypeWarning: Columns (876) have mixed types. Specify dtype option on import or set low_memory=False.\n",
      "  interactivity=interactivity, compiler=compiler, result=result)\n"
     ]
    }
   ],
   "source": [
    "# df = pd.read_csv('data/autoperf_filtered_1000000ch', header=0).sample(frac=1)\n",
    "df = pd.read_csv('data/composed/mira_top_20.csv', header=0).sample(frac=1)\n",
    "\n",
    "# li = []\n",
    "# for filename in glob.glob(\"/home/luckierdodge/repos/jupyter-notebooks/data/autoperf_complete/autoperf-201*.csv\"):\n",
    "#     frame = pd.read_csv(filename, header=0)\n",
    "#     li.append(frame)\n",
    "# df = pd.concat(li, axis=0, ignore_index=True)\n",
    "\n",
    "# df.dropna(inplace=True);"
   ]
  },
  {
   "cell_type": "code",
   "execution_count": 3,
   "metadata": {},
   "outputs": [],
   "source": [
    "# counts = df.zero_execName.value_counts().to_dict()\n",
    "# df_filtered = pd.DataFrame()\n",
    "# for name in counts:\n",
    "#     if counts[name] >= 500:\n",
    "#         df_filtered = df_filtered.append(df[df[\"zero_execName\"] == name])\n",
    "# df = df_filtered.copy()"
   ]
  },
  {
   "cell_type": "code",
   "execution_count": 4,
   "metadata": {},
   "outputs": [
    {
     "data": {
      "text/plain": [
       "count    94408.000000\n",
       "mean      6146.709119\n",
       "std      10552.441888\n",
       "min          0.000425\n",
       "25%        288.420416\n",
       "50%       1283.770563\n",
       "75%      10124.530355\n",
       "max      85970.668079\n",
       "Name: zero_elapsedTime, dtype: float64"
      ]
     },
     "execution_count": 4,
     "metadata": {},
     "output_type": "execute_result"
    }
   ],
   "source": [
    "df.zero_elapsedTime.describe()"
   ]
  },
  {
   "cell_type": "code",
   "execution_count": 5,
   "metadata": {},
   "outputs": [],
   "source": [
    "train_size = .8\n",
    "train = df.head(int(df.size * train_size))\n",
    "test = df.tail(int(df.size * (1-train_size)))"
   ]
  },
  {
   "cell_type": "code",
   "execution_count": 6,
   "metadata": {},
   "outputs": [],
   "source": [
    "features = [\"zero_execName\", \"zero_userName\"]\n",
    "# targets = [\"zero_elapsedTime\"]\n",
    "targets = [\"zero_numRanks\"]\n",
    "\n",
    "X_train = train[features]\n",
    "X_test = test[features]\n",
    "Y_train = train[targets]\n",
    "Y_test = train[targets]"
   ]
  },
  {
   "cell_type": "markdown",
   "metadata": {},
   "source": [
    "# Linear Regression using SciKit Learn (One-Hot Encoding)"
   ]
  },
  {
   "cell_type": "code",
   "execution_count": 7,
   "metadata": {},
   "outputs": [
    {
     "data": {
      "text/plain": [
       "OneHotEncoder(categorical_features=None, categories=None, drop=None,\n",
       "              dtype=<class 'numpy.float64'>, handle_unknown='ignore',\n",
       "              n_values=None, sparse=True)"
      ]
     },
     "execution_count": 7,
     "metadata": {},
     "output_type": "execute_result"
    }
   ],
   "source": [
    "from sklearn import preprocessing\n",
    "from sklearn.preprocessing import OneHotEncoder\n",
    "enc = OneHotEncoder(handle_unknown='ignore', sparse=True)\n",
    "enc.fit(X_train.values)"
   ]
  },
  {
   "cell_type": "code",
   "execution_count": 8,
   "metadata": {},
   "outputs": [],
   "source": [
    "X_train_one_hot = enc.transform(X_train.values)\n",
    "X_test_one_hot = enc.transform(X_test.values)"
   ]
  },
  {
   "cell_type": "code",
   "execution_count": 9,
   "metadata": {},
   "outputs": [
    {
     "data": {
      "text/plain": [
       "LinearRegression(copy_X=True, fit_intercept=False, n_jobs=None, normalize=False)"
      ]
     },
     "execution_count": 9,
     "metadata": {},
     "output_type": "execute_result"
    }
   ],
   "source": [
    "from sklearn.linear_model import LinearRegression\n",
    "\n",
    "model = LinearRegression(fit_intercept=False)\n",
    "model.fit(X_train_one_hot, Y_train)"
   ]
  },
  {
   "cell_type": "code",
   "execution_count": 10,
   "metadata": {},
   "outputs": [
    {
     "data": {
      "text/plain": [
       "0.3963747721976786"
      ]
     },
     "execution_count": 10,
     "metadata": {},
     "output_type": "execute_result"
    }
   ],
   "source": [
    "model.score(X_test_one_hot, Y_test)"
   ]
  },
  {
   "cell_type": "code",
   "execution_count": 11,
   "metadata": {},
   "outputs": [
    {
     "data": {
      "text/plain": [
       "22820.316424805675"
      ]
     },
     "execution_count": 11,
     "metadata": {},
     "output_type": "execute_result"
    }
   ],
   "source": [
    "import math\n",
    "Y_predict = model.predict(X_test_one_hot)\n",
    "regression_model_mse = metrics.mean_squared_error(Y_predict, Y_test)\n",
    "math.sqrt(regression_model_mse)"
   ]
  },
  {
   "cell_type": "code",
   "execution_count": 12,
   "metadata": {},
   "outputs": [
    {
     "name": "stdout",
     "output_type": "stream",
     "text": [
      "[0.02176317]\n"
     ]
    }
   ],
   "source": [
    "print(math.sqrt(regression_model_mse) / (max(Y_test.values) - min(Y_test.values)))"
   ]
  },
  {
   "cell_type": "markdown",
   "metadata": {},
   "source": [
    "# Keras Analysis"
   ]
  },
  {
   "cell_type": "code",
   "execution_count": 13,
   "metadata": {},
   "outputs": [],
   "source": [
    "import tensorflow as tf"
   ]
  },
  {
   "cell_type": "code",
   "execution_count": 14,
   "metadata": {},
   "outputs": [],
   "source": [
    "train_examples = X_train_one_hot\n",
    "train_targets = Y_train\n",
    "test_examples = X_test_one_hot\n",
    "test_targets = Y_test"
   ]
  },
  {
   "cell_type": "code",
   "execution_count": 15,
   "metadata": {},
   "outputs": [
    {
     "data": {
      "text/plain": [
       "(94408, 1)"
      ]
     },
     "execution_count": 15,
     "metadata": {},
     "output_type": "execute_result"
    }
   ],
   "source": [
    "train_targets.shape"
   ]
  },
  {
   "cell_type": "code",
   "execution_count": 16,
   "metadata": {},
   "outputs": [
    {
     "name": "stderr",
     "output_type": "stream",
     "text": [
      "WARNING: Logging before flag parsing goes to stderr.\n",
      "W0716 14:13:33.271563 139817853818688 deprecation.py:506] From /home/luckierdodge/anaconda3/envs/autoperf_tf/lib/python3.7/site-packages/tensorflow/python/ops/init_ops.py:1251: calling VarianceScaling.__init__ (from tensorflow.python.ops.init_ops) with dtype is deprecated and will be removed in a future version.\n",
      "Instructions for updating:\n",
      "Call initializer instance with the dtype argument instead of passing it to the constructor\n"
     ]
    }
   ],
   "source": [
    "model = tf.keras.models.Sequential()\n",
    "model.add(tf.keras.layers.Dense(64, activation='relu', input_shape=(train_examples.shape[1],)))\n",
    "model.add(tf.keras.layers.BatchNormalization())\n",
    "model.add(tf.keras.layers.Dense(64, activation='relu',))\n",
    "model.add(tf.keras.layers.BatchNormalization())\n",
    "model.add(tf.keras.layers.Dense(1))"
   ]
  },
  {
   "cell_type": "code",
   "execution_count": 17,
   "metadata": {},
   "outputs": [],
   "source": [
    "optimizer = tf.keras.optimizers.RMSprop(0.001)\n",
    "model.compile(optimizer=optimizer,\n",
    "             loss='mean_squared_error',\n",
    "             metrics=['mean_absolute_error', 'mean_squared_error'],\n",
    "             )"
   ]
  },
  {
   "cell_type": "code",
   "execution_count": 18,
   "metadata": {},
   "outputs": [
    {
     "name": "stdout",
     "output_type": "stream",
     "text": [
      "Epoch 1/10\n",
      "94408/94408 [==============================] - 9s 97us/sample - loss: 887164720.7895 - mean_absolute_error: 5439.9517 - mean_squared_error: 887165248.0000\n",
      "Epoch 2/10\n",
      "94408/94408 [==============================] - 8s 88us/sample - loss: 862777567.8847 - mean_absolute_error: 5071.3638 - mean_squared_error: 862777088.0000\n",
      "Epoch 3/10\n",
      "94408/94408 [==============================] - 8s 88us/sample - loss: 823365893.4993 - mean_absolute_error: 4976.5176 - mean_squared_error: 823366208.0000\n",
      "Epoch 4/10\n",
      "94408/94408 [==============================] - 8s 87us/sample - loss: 780231337.5039 - mean_absolute_error: 5232.6919 - mean_squared_error: 780230848.0000\n",
      "Epoch 5/10\n",
      "94408/94408 [==============================] - 8s 88us/sample - loss: 738988956.2256 - mean_absolute_error: 5521.5889 - mean_squared_error: 738988992.0000\n",
      "Epoch 6/10\n",
      "94408/94408 [==============================] - 8s 88us/sample - loss: 706613726.4364 - mean_absolute_error: 5728.8140 - mean_squared_error: 706613376.0000\n",
      "Epoch 7/10\n",
      "94408/94408 [==============================] - 8s 90us/sample - loss: 680991466.7006 - mean_absolute_error: 5747.0786 - mean_squared_error: 680991040.0000\n",
      "Epoch 8/10\n",
      "94408/94408 [==============================] - 9s 96us/sample - loss: 664409020.4450 - mean_absolute_error: 5679.1162 - mean_squared_error: 664409152.0000\n",
      "Epoch 9/10\n",
      "94408/94408 [==============================] - 8s 89us/sample - loss: 649481469.8803 - mean_absolute_error: 5592.4893 - mean_squared_error: 649481216.0000\n",
      "Epoch 10/10\n",
      "94408/94408 [==============================] - 8s 88us/sample - loss: 638492167.4126 - mean_absolute_error: 5485.2251 - mean_squared_error: 638492288.0000\n"
     ]
    },
    {
     "data": {
      "text/plain": [
       "<tensorflow.python.keras.callbacks.History at 0x7f294f13acc0>"
      ]
     },
     "execution_count": 18,
     "metadata": {},
     "output_type": "execute_result"
    }
   ],
   "source": [
    "model.fit(train_examples, train_targets, epochs=10)"
   ]
  },
  {
   "cell_type": "code",
   "execution_count": 19,
   "metadata": {},
   "outputs": [
    {
     "name": "stdout",
     "output_type": "stream",
     "text": [
      "94408/94408 [==============================] - 20s 207us/sample - loss: 571386461.8457 - mean_absolute_error: 4039.2441 - mean_squared_error: 571386112.0000\n"
     ]
    }
   ],
   "source": [
    "test_loss, test_abs_err, test_sqr_err = model.evaluate(test_examples, test_targets)\n",
    "# print('Test accuracy:', test_acc)"
   ]
  },
  {
   "cell_type": "code",
   "execution_count": 20,
   "metadata": {},
   "outputs": [
    {
     "name": "stdout",
     "output_type": "stream",
     "text": [
      "[0.00385213]\n"
     ]
    }
   ],
   "source": [
    "print(test_abs_err / (max(test_targets.values) - min(test_targets.values)))"
   ]
  },
  {
   "cell_type": "code",
   "execution_count": null,
   "metadata": {},
   "outputs": [],
   "source": []
  },
  {
   "cell_type": "code",
   "execution_count": null,
   "metadata": {},
   "outputs": [],
   "source": []
  }
 ],
 "metadata": {
  "kernelspec": {
   "display_name": "Python 3",
   "language": "python",
   "name": "python3"
  },
  "language_info": {
   "codemirror_mode": {
    "name": "ipython",
    "version": 3
   },
   "file_extension": ".py",
   "mimetype": "text/x-python",
   "name": "python",
   "nbconvert_exporter": "python",
   "pygments_lexer": "ipython3",
   "version": "3.6.8"
  }
 },
 "nbformat": 4,
 "nbformat_minor": 2
}
