{
 "cells": [
  {
   "cell_type": "code",
   "execution_count": 4,
   "metadata": {},
   "outputs": [],
   "source": [
    "from __future__ import division\n",
    "import numpy as np\n",
    "from matplotlib import pyplot as plt\n",
    "import glob, operator, time, shutil, scipy, sys\n",
    "import pandas as pd\n",
    "\n",
    "pd.set_option('display.max_columns', 100)\n",
    "plt.style.use('classic')"
   ]
  },
  {
   "cell_type": "code",
   "execution_count": 5,
   "metadata": {},
   "outputs": [],
   "source": [
    "def new_fig(figsize=(8.9, 5)):\n",
    "    plt.close()\n",
    "    fig = plt.figure(figsize=figsize)\n",
    "    ax = fig.add_subplot(111)\n",
    "    for axis in ['top','bottom','left','right']:\n",
    "        ax.spines[axis].set_linewidth(3)    \n",
    "    ax.yaxis.grid(linestyle='--')\n",
    "    for tick in ax.xaxis.get_major_ticks():\n",
    "        tick.label.set_fontsize(18) \n",
    "    for tick in ax.yaxis.get_major_ticks():\n",
    "        tick.label.set_fontsize(18) \n",
    "    for line in ax.get_xticklines() + ax.get_yticklines():\n",
    "        line.set_markersize(8)\n",
    "    return ax"
   ]
  },
  {
   "cell_type": "code",
   "execution_count": 6,
   "metadata": {},
   "outputs": [
    {
     "name": "stderr",
     "output_type": "stream",
     "text": [
      "/opt/anaconda3/lib/python3.6/site-packages/IPython/core/interactiveshell.py:3057: DtypeWarning: Columns (877) have mixed types. Specify dtype option on import or set low_memory=False.\n",
      "  interactivity=interactivity, compiler=compiler, result=result)\n"
     ]
    }
   ],
   "source": [
    "df = pd.read_csv('../data/composed/mira_all.csv')"
   ]
  },
  {
   "cell_type": "code",
   "execution_count": 7,
   "metadata": {},
   "outputs": [
    {
     "name": "stderr",
     "output_type": "stream",
     "text": [
      "/opt/anaconda3/lib/python3.6/site-packages/ipykernel_launcher.py:2: UserWarning: Boolean Series key will be reindexed to match DataFrame index.\n",
      "  \n",
      "/opt/anaconda3/lib/python3.6/site-packages/ipykernel_launcher.py:3: UserWarning: Boolean Series key will be reindexed to match DataFrame index.\n",
      "  This is separate from the ipykernel package so we can avoid doing imports until\n",
      "/opt/anaconda3/lib/python3.6/site-packages/ipykernel_launcher.py:4: UserWarning: Boolean Series key will be reindexed to match DataFrame index.\n",
      "  after removing the cwd from sys.path.\n",
      "/opt/anaconda3/lib/python3.6/site-packages/ipykernel_launcher.py:5: UserWarning: Boolean Series key will be reindexed to match DataFrame index.\n",
      "  \"\"\"\n"
     ]
    }
   ],
   "source": [
    "# data_2015 = df[df.START_TIMESTAMP >= '2015-01-01 00:00:00'][df.START_TIMESTAMP < '2016-01-01 00:00:00']\n",
    "data_2016 = df[df.START_TIMESTAMP >= '2016-01-01 00:00:00'][df.START_TIMESTAMP < '2017-01-01 00:00:00']\n",
    "data_2017 = df[df.START_TIMESTAMP >= '2017-01-01 00:00:00'][df.START_TIMESTAMP < '2018-01-01 00:00:00']\n",
    "data_2018 = df[df.START_TIMESTAMP >= '2018-01-01 00:00:00'][df.START_TIMESTAMP < '2019-01-01 00:00:00']\n",
    "data_2019 = df[df.START_TIMESTAMP >= '2019-01-01 00:00:00'][df.START_TIMESTAMP < '2020-01-01 00:00:00']"
   ]
  },
  {
   "cell_type": "code",
   "execution_count": 96,
   "metadata": {},
   "outputs": [
    {
     "data": {
      "text/plain": [
       "0         2018-10-01 00:13:11\n",
       "1         2018-10-01 03:05:36\n",
       "2         2018-10-01 03:05:36\n",
       "3         2018-10-01 03:05:36\n",
       "4         2018-10-01 03:05:36\n",
       "5         2018-10-01 03:05:36\n",
       "6         2018-10-01 03:05:36\n",
       "7         2018-10-01 03:05:36\n",
       "8         2018-10-01 03:05:36\n",
       "9         2018-10-01 03:05:36\n",
       "10        2018-10-01 03:05:36\n",
       "11        2018-10-01 03:05:36\n",
       "12        2018-10-01 03:05:36\n",
       "13        2018-10-01 03:05:36\n",
       "14        2018-10-01 03:05:36\n",
       "15        2018-10-01 03:05:36\n",
       "16        2018-10-01 03:05:36\n",
       "17        2018-10-01 03:05:36\n",
       "18        2018-10-01 03:05:36\n",
       "19        2018-10-01 03:05:36\n",
       "20        2018-10-01 03:05:36\n",
       "21        2018-10-01 03:05:36\n",
       "22        2018-10-01 03:05:36\n",
       "23        2018-10-01 03:05:36\n",
       "24        2018-10-01 03:05:36\n",
       "25        2018-10-01 03:05:36\n",
       "26        2018-10-01 03:05:36\n",
       "27        2018-10-01 03:05:36\n",
       "28        2018-10-01 03:05:36\n",
       "29        2018-10-01 03:05:36\n",
       "                 ...         \n",
       "374477    2019-05-28 15:29:07\n",
       "374478    2019-05-28 18:51:52\n",
       "374479    2019-05-28 15:29:48\n",
       "374480    2019-05-28 18:58:12\n",
       "374481    2019-05-28 23:37:23\n",
       "374482    2019-05-28 23:40:26\n",
       "374483    2019-05-28 22:35:02\n",
       "374484    2019-05-28 21:34:14\n",
       "374485    2019-05-28 21:34:14\n",
       "374486    2019-05-29 02:37:29\n",
       "374487    2019-05-29 02:37:29\n",
       "374488    2019-05-29 07:40:45\n",
       "374489    2019-05-29 07:40:45\n",
       "374490    2019-05-29 15:39:01\n",
       "374491    2019-05-29 13:11:43\n",
       "374492    2019-05-29 13:11:43\n",
       "374493    2019-05-29 15:47:08\n",
       "374494    2019-05-29 15:52:36\n",
       "374495    2019-05-29 15:25:28\n",
       "374496    2019-05-29 17:05:53\n",
       "374497    2019-05-29 18:43:25\n",
       "374498    2019-05-29 18:28:10\n",
       "374499    2019-05-29 18:28:10\n",
       "374500    2019-05-29 23:38:18\n",
       "374501    2019-05-29 23:38:18\n",
       "374502    2019-05-30 01:00:06\n",
       "374503    2019-05-30 00:29:35\n",
       "374504    2019-05-30 05:40:58\n",
       "374505    2019-05-30 05:36:11\n",
       "374506    2019-05-30 05:36:11\n",
       "Name: START_TIMESTAMP, Length: 374507, dtype: object"
      ]
     },
     "execution_count": 96,
     "metadata": {},
     "output_type": "execute_result"
    }
   ],
   "source": [
    "df.START_TIMESTAMP"
   ]
  },
  {
   "cell_type": "code",
   "execution_count": 8,
   "metadata": {
    "scrolled": true
   },
   "outputs": [
    {
     "name": "stdout",
     "output_type": "stream",
     "text": [
      "   job_id_count  task_id_count  year  tasks_per_job\n",
      "0         16165          82293  2016       5.090813\n",
      "1          7737          47033  2017       6.078971\n",
      "2         12743         127184  2018       9.980695\n",
      "3          2450         113983  2019      46.523673\n"
     ]
    }
   ],
   "source": [
    "averageDict = {'year': ['2016', '2017', '2018', '2019'],# ['2015', '2016', '2017', '2018', '2019'],\n",
    "              'job_id_count': [\n",
    "#                   data_2015.zero_batchJobId.unique().size,\n",
    "                  data_2016.zero_batchJobId.unique().size,\n",
    "                  data_2017.zero_batchJobId.unique().size,\n",
    "                  data_2018.zero_batchJobId.unique().size,\n",
    "                  data_2019.zero_batchJobId.unique().size,\n",
    "              ],\n",
    "              'task_id_count': [\n",
    "#                   data_2015.zero_csJobId.unique().size,\n",
    "                  data_2016.zero_csJobId.unique().size,\n",
    "                  data_2017.zero_csJobId.unique().size,\n",
    "                  data_2018.zero_csJobId.unique().size,\n",
    "                  data_2019.zero_csJobId.unique().size\n",
    "              ]}\n",
    "averageData = pd.DataFrame(data=averageDict)\n",
    "averageData['tasks_per_job'] = averageData['task_id_count'] / averageData['job_id_count']\n",
    "print(averageData)"
   ]
  },
  {
   "cell_type": "code",
   "execution_count": 85,
   "metadata": {
    "scrolled": false
   },
   "outputs": [
    {
     "data": {
      "image/png": "[encoded data removed]",
      "text/plain": [
       "<Figure size 640.8x360 with 1 Axes>"
      ]
     },
     "metadata": {
      "needs_background": "light"
     },
     "output_type": "display_data"
    }
   ],
   "source": [
    "%matplotlib inline\n",
    "ax = new_fig()\n",
    "width = .7\n",
    "plt.bar(x = averageData[\"year\"], \n",
    "        height = averageData[\"tasks_per_job\"],\n",
    "        width = width,\n",
    "        align = 'center',\n",
    "        color = 'green',\n",
    "        hatch = 'x',\n",
    "        alpha = .7\n",
    "        )\n",
    "plt.xlim(left = -width, right = len(averageData[\"year\"])- (1 - width))\n",
    "plt.xlabel('Year', fontsize=18)\n",
    "plt.ylabel('Average Number of Tasks per Job', fontsize=18)\n",
    "plt.savefig('../figure/avg_task_per_job.pdf', bbox_inches='tight')\n",
    "plt.show()"
   ]
  },
  {
   "cell_type": "code",
   "execution_count": 90,
   "metadata": {
    "scrolled": false
   },
   "outputs": [
    {
     "data": {
      "image/png": "[encoded data removed]",
      "text/plain": [
       "<Figure size 640.8x360 with 1 Axes>"
      ]
     },
     "metadata": {
      "needs_background": "light"
     },
     "output_type": "display_data"
    }
   ],
   "source": [
    "years = [data_2016, data_2017, data_2018, data_2019]\n",
    "yearstrings = ['2016', '2017', '2018', '2019']\n",
    "y = {'year': yearstrings, 'Traditional HPC': np.zeros(len(years), dtype=float), 'Workflow': np.zeros(len(years), dtype=float)}\n",
    "job_task_data = pd.DataFrame(data=y)\n",
    "\n",
    "for i in range(len(years)):\n",
    "    one = 0.0\n",
    "    many = 0.0\n",
    "    for job in years[i].zero_batchJobId.unique():\n",
    "        tasks = years[i][years[i]['zero_batchJobId'] == job].zero_csJobId.unique().size\n",
    "        if tasks == 1:\n",
    "            one += 1.0\n",
    "        else:\n",
    "            many += 1.0\n",
    "    total = one + many\n",
    "    job_task_data.iat[i, 0] = one / total\n",
    "    job_task_data.iat[i, 1] = many / total\n",
    "\n",
    "ax = new_fig()\n",
    "width = .7\n",
    "traditional = plt.bar(x = job_task_data[\"year\"], \n",
    "        height = job_task_data['Traditional HPC'],\n",
    "        width = width,\n",
    "        align = 'center',\n",
    "        color = 'blue',\n",
    "        hatch = 'x',\n",
    "        label = 'Traditional HPC',\n",
    "        )\n",
    "workflow = plt.bar(x = job_task_data[\"year\"], \n",
    "        height = job_task_data['Workflow'],\n",
    "        bottom = job_task_data['Traditional HPC'],\n",
    "        width = width,\n",
    "        align = 'center',\n",
    "        color = 'orange',\n",
    "        hatch = 'o',\n",
    "        label = 'Workflow',\n",
    "        )\n",
    "plt.xlabel('Year', fontsize=18)\n",
    "plt.xlim(left = -width, right = len(years)-(1-width))\n",
    "plt.ylim(bottom = 0, top = 1.15)\n",
    "plt.ylabel('Percentage of Jobs by Number', fontsize=18)\n",
    "ax.legend(bbox_to_anchor = (1, 1.007), ncol = 2)\n",
    "plt.savefig('../figure/hpc_usage_num.pdf', bbox_inches='tight')\n",
    "plt.show()"
   ]
  },
  {
   "cell_type": "code",
   "execution_count": 91,
   "metadata": {},
   "outputs": [
    {
     "name": "stdout",
     "output_type": "stream",
     "text": [
      "   Traditional HPC  Workflow  year\n",
      "0         0.876028  0.123972  2016\n",
      "1         0.827323  0.172677  2017\n",
      "2         0.795809  0.204191  2018\n",
      "3         0.756735  0.243265  2019\n"
     ]
    }
   ],
   "source": [
    "print(job_task_data)"
   ]
  },
  {
   "cell_type": "code",
   "execution_count": 92,
   "metadata": {},
   "outputs": [
    {
     "data": {
      "image/png": "[encoded data removed]",
      "text/plain": [
       "<Figure size 640.8x360 with 1 Axes>"
      ]
     },
     "metadata": {
      "needs_background": "light"
     },
     "output_type": "display_data"
    }
   ],
   "source": [
    "years = [data_2016, data_2017, data_2018, data_2019]\n",
    "yearstrings = ['2016', '2017', '2018', '2019']\n",
    "y = {'year': yearstrings, 'Traditional HPC': np.zeros(len(years), dtype=float), 'Workflow': np.zeros(len(years), dtype=float)}\n",
    "job_task_data = pd.DataFrame(data=y)\n",
    "\n",
    "for i in range(len(years)):\n",
    "    one = 0.0\n",
    "    many = 0.0\n",
    "    for job in years[i].zero_batchJobId.unique():\n",
    "        tasks = years[i][years[i]['zero_batchJobId'] == job].zero_csJobId.unique().size\n",
    "        if tasks == 1:\n",
    "            one += years[i][years[i].zero_batchJobId == job].iloc[0].USED_CORE_HOURS\n",
    "        else:\n",
    "            many += years[i][years[i].zero_batchJobId == job].iloc[0].USED_CORE_HOURS\n",
    "    total = one + many\n",
    "    job_task_data.iat[i, 0] = one / total\n",
    "    job_task_data.iat[i, 1] = many / total\n",
    "\n",
    "ax = new_fig()\n",
    "width = .7\n",
    "traditional = plt.bar(x = job_task_data[\"year\"], \n",
    "        height = job_task_data['Traditional HPC'],\n",
    "        width = width,\n",
    "        align = 'center',\n",
    "        color = 'blue',\n",
    "        hatch = 'x',\n",
    "        label = 'Traditional HPC',\n",
    "        )\n",
    "workflow = plt.bar(x = job_task_data[\"year\"], \n",
    "        height = job_task_data['Workflow'],\n",
    "        bottom = job_task_data['Traditional HPC'],\n",
    "        width = width,\n",
    "        align = 'center',\n",
    "        color = 'orange',\n",
    "        hatch = 'o',\n",
    "        label = 'Workflow',\n",
    "        )\n",
    "plt.xlabel('Year', fontsize=18)\n",
    "plt.xlim(left = -width, right = len(years)-(1-width))\n",
    "plt.ylim(bottom = 0, top = 1.15)\n",
    "plt.ylabel('Percentage of Jobs by Core Hours', fontsize=18)\n",
    "ax.legend(bbox_to_anchor = (1, 1.006), ncol = 2)\n",
    "plt.savefig('../figure/hpc_usage_ch.pdf', bbox_inches='tight')\n",
    "plt.show()"
   ]
  },
  {
   "cell_type": "code",
   "execution_count": 93,
   "metadata": {},
   "outputs": [
    {
     "name": "stdout",
     "output_type": "stream",
     "text": [
      "   Traditional HPC  Workflow  year\n",
      "0         0.472073  0.527927  2016\n",
      "1         0.479107  0.520893  2017\n",
      "2         0.447971  0.552029  2018\n",
      "3         0.457153  0.542847  2019\n"
     ]
    }
   ],
   "source": [
    "print(job_task_data)"
   ]
  },
  {
   "cell_type": "code",
   "execution_count": 62,
   "metadata": {},
   "outputs": [],
   "source": [
    "# years = [data_2015, data_2016, data_2017, data_2018, data_2019]\n",
    "# yearstrings = ['2015', '2016', '2017', '2018', '2019']\n",
    "# y = {'year': yearstrings, 'Traditional HPC': np.zeros(5, dtype=float), 'Workflow': np.zeros(5, dtype=float)}\n",
    "# job_task_data = pd.DataFrame(data=y)\n",
    "\n",
    "# for i in range(0, 5):\n",
    "#     one = 0.0\n",
    "#     many = 0.0\n",
    "#     for job in years[i].zero_batchJobId.unique():\n",
    "#         tasks = years[i][years[i]['zero_batchJobId'] == job].zero_csJobId.unique().size\n",
    "#         if tasks == 1:\n",
    "#             one += years[i][years[i].zero_batchJobId == job].iloc[0].USED_CORE_HOURS\n",
    "#         else:\n",
    "#             many += years[i][years[i].zero_batchJobId == job].iloc[0].USED_CORE_HOURS\n",
    "#     total = one + many\n",
    "#     job_task_data.iat[i, 1] = one / 6870269952\n",
    "#     job_task_data.iat[i, 2] = many / 6870269952\n",
    "# job_task_data.plot(kind='bar', x='year', y=['Traditional HPC', 'Workflow'], figsize=(10,10), stacked=True,\n",
    "#                    title='% Traditional HPC vs. Workflow by Year (Core Hours Used / Total Potential Core Hours Available)')\n",
    "# print(job_task_data)\n",
    "# plt.savefig('figure/hpc_usage_ch.png')"
   ]
  },
  {
   "cell_type": "code",
   "execution_count": 63,
   "metadata": {},
   "outputs": [],
   "source": [
    "# years = [data_2015, data_2016, data_2017, data_2018, data_2019]\n",
    "# yearstrings = ['2015', '2016', '2017', '2018', '2019']\n",
    "# y = {'year': yearstrings, 'Traditional HPC': np.zeros(5, dtype=float), 'Workflow': np.zeros(5, dtype=float)}\n",
    "# job_task_data = pd.DataFrame(data=y)\n",
    "\n",
    "# for i in range(0, 5):\n",
    "#     one = 0.0\n",
    "#     many = 0.0\n",
    "#     for job in years[i].zero_batchJobId.unique():\n",
    "#         tasks = years[i][years[i]['zero_batchJobId'] == job].zero_csJobId.unique().size\n",
    "#         if tasks == 1:\n",
    "#             one += years[i][years[i].zero_batchJobId == job].iloc[0].REQUESTED_CORE_HOURS\n",
    "#         else:\n",
    "#             many += years[i][years[i].zero_batchJobId == job].iloc[0].REQUESTED_CORE_HOURS\n",
    "#     total = one + many\n",
    "#     job_task_data.iat[i, 1] = one / total\n",
    "#     job_task_data.iat[i, 2] = many / total\n",
    "# job_task_data.plot(kind='bar', x='year', y=['Traditional HPC', 'Workflow'], figsize=(10,10), stacked=True,\n",
    "#                    title='% Traditional HPC vs. Workflow by Year (Core Hours Requested)')\n",
    "# print(job_task_data)"
   ]
  },
  {
   "cell_type": "code",
   "execution_count": 64,
   "metadata": {},
   "outputs": [],
   "source": [
    "# years = [data_2015, data_2016, data_2017, data_2018, data_2019]\n",
    "# yearstrings = ['2015', '2016', '2017', '2018', '2019 Extrapolated']\n",
    "# y = {'year': yearstrings, 'Traditional HPC': np.zeros(5, dtype=int), 'Workflow': np.zeros(5, dtype=int)}\n",
    "# job_task_data = pd.DataFrame(data=y)\n",
    "\n",
    "# for i in range(0, 5):\n",
    "#     one = 0\n",
    "#     many = 0\n",
    "#     for job in years[i].zero_batchJobId.unique():\n",
    "#         tasks = years[i][years[i]['zero_batchJobId'] == job].zero_csJobId.unique().size\n",
    "#         if tasks == 1:\n",
    "#             one += years[i][years[i].zero_batchJobId == job].iloc[0].USED_CORE_HOURS\n",
    "#         else:\n",
    "#             many += years[i][years[i].zero_batchJobId == job].iloc[0].USED_CORE_HOURS\n",
    "#     if (i < 4):\n",
    "#         job_task_data.iat[i, 1] = one\n",
    "#     else:\n",
    "#         job_task_data.iat[i, 1] = one * 3\n",
    "#     if (i < 4):\n",
    "#         job_task_data.iat[i, 2] = many\n",
    "#     else:\n",
    "#         job_task_data.iat[i,2] = many * 3\n",
    "# print(job_task_data)\n",
    "# job_task_data.plot(kind='bar', x='year', y=['Traditional HPC', 'Workflow'], figsize=(10,10), stacked=True,\n",
    "#                    title='% Traditional HPC vs. Workflow by Year (Core Hours) -- 2019 Extrapolated')"
   ]
  },
  {
   "cell_type": "code",
   "execution_count": 65,
   "metadata": {
    "scrolled": false
   },
   "outputs": [],
   "source": [
    "# years = [data_2015, data_2016, data_2017, data_2018, data_2019]\n",
    "# yearstrings = ['2015', '2016', '2017', '2018', '2019']\n",
    "# y = {'year': yearstrings, \n",
    "#      'one': np.zeros(5, dtype=int), \n",
    "#      'two': np.zeros(5, dtype=int), \n",
    "#      'three': np.zeros(5, dtype=int), \n",
    "#      'four': np.zeros(5, dtype=int), \n",
    "#      'many': np.zeros(5, dtype=int)}\n",
    "# job_task_data = pd.DataFrame(data=y)\n",
    "\n",
    "# for i in range(0, 5):\n",
    "#     one = 0\n",
    "#     two = 0\n",
    "#     three = 0\n",
    "#     four = 0\n",
    "#     many = 0\n",
    "#     for job in years[i].zero_batchJobId.unique():\n",
    "#         tasks = years[i][years[i]['zero_batchJobId'] == job].zero_csJobId.unique().size\n",
    "#         if tasks == 1:\n",
    "#             one += 1\n",
    "#         elif tasks == 2:\n",
    "#             two += 1\n",
    "#         elif tasks == 3:\n",
    "#             three +=1\n",
    "#         elif tasks == 4:\n",
    "#             four += 1\n",
    "#         else:\n",
    "#             many += 1\n",
    "#     job_task_data.iat[i, 0] = four\n",
    "#     job_task_data.iat[i, 1] = many\n",
    "#     job_task_data.iat[i, 2] = one\n",
    "#     job_task_data.iat[i, 3] = three\n",
    "#     job_task_data.iat[i, 4] = two\n",
    "# job_task_data.plot(kind='bar', x='year', y=['one', 'two', 'three', 'four', 'many'], figsize=(15,15))\n",
    "# print(job_task_data)"
   ]
  },
  {
   "cell_type": "code",
   "execution_count": 66,
   "metadata": {
    "scrolled": false
   },
   "outputs": [],
   "source": [
    "# yearsets = [data_2015, data_2016, data_2017, data_2018, data_2019]\n",
    "# yearstrings = ['2015', '2016', '2017', '2018', '2019']\n",
    "\n",
    "# y = {'years': [], 'jobs': [], 'tasks': []}\n",
    "# for i in range(0, 5):\n",
    "#     for job in yearsets[i].zero_batchJobId.unique():\n",
    "#         tasks = yearsets[i][yearsets[i]['zero_batchJobId'] == job].zero_csJobId.unique().size\n",
    "#         y['years'].append(yearstrings[i])\n",
    "#         y['jobs'].append(job)\n",
    "#         y['tasks'].append(tasks)\n",
    "\n",
    "# job_task_data = pd.DataFrame(data=y)\n",
    "# hist = job_task_data.hist(column='tasks', by='years', bins=range(2,job_task_data.tasks.max()), figsize=(20,20));"
   ]
  },
  {
   "cell_type": "code",
   "execution_count": null,
   "metadata": {},
   "outputs": [],
   "source": []
  }
 ],
 "metadata": {
  "kernelspec": {
   "display_name": "Python 3",
   "language": "python",
   "name": "python3"
  },
  "language_info": {
   "codemirror_mode": {
    "name": "ipython",
    "version": 3
   },
   "file_extension": ".py",
   "mimetype": "text/x-python",
   "name": "python",
   "nbconvert_exporter": "python",
   "pygments_lexer": "ipython3",
   "version": "3.6.8"
  }
 },
 "nbformat": 4,
 "nbformat_minor": 2
}
