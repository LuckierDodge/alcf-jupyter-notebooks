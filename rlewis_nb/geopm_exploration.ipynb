{
 "cells": [
  {
   "cell_type": "code",
   "execution_count": 1,
   "metadata": {},
   "outputs": [],
   "source": [
    "import pandas as pd"
   ]
  },
  {
   "cell_type": "code",
   "execution_count": 151,
   "metadata": {},
   "outputs": [],
   "source": [
    "df = pd.read_csv(\"~/repos/jupyter-notebooks/data/geopm/power_balancer_125_W/dgemm_power_balancer_125_2_trace-nid02253\", sep='|', skiprows=5)"
   ]
  },
  {
   "cell_type": "code",
   "execution_count": 152,
   "metadata": {},
   "outputs": [
    {
     "data": {
      "text/plain": [
       "49.77748374"
      ]
     },
     "execution_count": 152,
     "metadata": {},
     "output_type": "execute_result"
    }
   ],
   "source": [
    "df.time.max()"
   ]
  },
  {
   "cell_type": "code",
   "execution_count": 153,
   "metadata": {},
   "outputs": [],
   "source": [
    "djc_df = pd.read_csv(\"~/repos/jupyter-notebooks/data/theta_djc_logs/ANL-ALCF-DJC-THETA_20190101_20191231.csv\")"
   ]
  },
  {
   "cell_type": "code",
   "execution_count": 154,
   "metadata": {},
   "outputs": [],
   "source": [
    "from itertools import chain\n",
    "\n",
    "def parse_range_list(rl, val):\n",
    "    def parse_range(r):\n",
    "        if len(r) == 0:\n",
    "            return []\n",
    "        parts = r.split(\"-\")\n",
    "        if len(parts) > 2:\n",
    "            raise ValueError(\"Invalid range: {}\".format(r))\n",
    "        return range(int(parts[0]), int(parts[-1])+1)\n",
    "    return val in sorted(set(chain.from_iterable(map(parse_range, rl.split(\",\")))))"
   ]
  },
  {
   "cell_type": "code",
   "execution_count": 155,
   "metadata": {},
   "outputs": [],
   "source": [
    "djc_df = djc_df[djc_df.START_TIMESTAMP < \"2019-02-05 15:17:12\"]\n",
    "djc_df = djc_df[djc_df.END_TIMESTAMP > \"2019-02-05 15:18:02\"]"
   ]
  },
  {
   "cell_type": "code",
   "execution_count": 156,
   "metadata": {},
   "outputs": [
    {
     "data": {
      "text/plain": [
       "9440                                                 3836\n",
       "9441                                          0-4,6,10-11\n",
       "9442    470,590-599,640-649,660-661,666,672-677,710-71...\n",
       "9443                                          5,7-9,20-23\n",
       "9444    570-589,650-658,700-709,730-739,1274-1275,1340...\n",
       "9451    30-47,84-89,110-139,260-269,280-289,300-309,32...\n",
       "9456    2240-2249,2253-2259,2325-2336,2338-2351,2356-2...\n",
       "9457                                                 3832\n",
       "9461    2250-2252,2470-2473,2476-2477,2780-2789,3221,3...\n",
       "9467    2280-2289,2370-2379,2389-2399,2401,2406-2408,2...\n",
       "9470    240-241,245,659,775,1141,2034,2199,2625,3385,3...\n",
       "9503    60-69,190-199,210-219,404,480-489,500-509,600-...\n",
       "Name: LOCATION, dtype: object"
      ]
     },
     "execution_count": 156,
     "metadata": {},
     "output_type": "execute_result"
    }
   ],
   "source": [
    "djc_df.LOCATION"
   ]
  },
  {
   "cell_type": "code",
   "execution_count": 157,
   "metadata": {},
   "outputs": [
    {
     "data": {
      "text/html": [
       "<div>\n",
       "<style scoped>\n",
       "    .dataframe tbody tr th:only-of-type {\n",
       "        vertical-align: middle;\n",
       "    }\n",
       "\n",
       "    .dataframe tbody tr th {\n",
       "        vertical-align: top;\n",
       "    }\n",
       "\n",
       "    .dataframe thead th {\n",
       "        text-align: right;\n",
       "    }\n",
       "</style>\n",
       "<table border=\"1\" class=\"dataframe\">\n",
       "  <thead>\n",
       "    <tr style=\"text-align: right;\">\n",
       "      <th></th>\n",
       "      <th>JOB_NAME</th>\n",
       "      <th>COBALT_JOBID</th>\n",
       "      <th>MACHINE_NAME</th>\n",
       "      <th>QUEUED_TIMESTAMP</th>\n",
       "      <th>QUEUED_DATE_ID</th>\n",
       "      <th>START_TIMESTAMP</th>\n",
       "      <th>START_DATE_ID</th>\n",
       "      <th>END_TIMESTAMP</th>\n",
       "      <th>END_DATE_ID</th>\n",
       "      <th>USERNAME_GENID</th>\n",
       "      <th>...</th>\n",
       "      <th>IS_SUBBLOCK</th>\n",
       "      <th>IS_SUBBLOCK_ONLY</th>\n",
       "      <th>IS_MULTILOCATION_ONLY</th>\n",
       "      <th>IS_MULTILOCATION_SUBBLOCK</th>\n",
       "      <th>IS_CONSECUTIVE_ONLY</th>\n",
       "      <th>IS_SINGLE_ONLY</th>\n",
       "      <th>IS_NO_TASKS</th>\n",
       "      <th>IS_OTHER</th>\n",
       "      <th>OVERBURN_CORE_HOURS</th>\n",
       "      <th>IS_OVERBURN</th>\n",
       "    </tr>\n",
       "  </thead>\n",
       "  <tbody>\n",
       "    <tr>\n",
       "      <th>9456</th>\n",
       "      <td>309660.theta</td>\n",
       "      <td>309660</td>\n",
       "      <td>theta</td>\n",
       "      <td>2019-02-05 09:24:28</td>\n",
       "      <td>20190205</td>\n",
       "      <td>2019-02-05 09:59:40</td>\n",
       "      <td>20190205</td>\n",
       "      <td>2019-02-05 16:02:54</td>\n",
       "      <td>20190205</td>\n",
       "      <td>39916454600131</td>\n",
       "      <td>...</td>\n",
       "      <td>0</td>\n",
       "      <td>0</td>\n",
       "      <td>0</td>\n",
       "      <td>0</td>\n",
       "      <td>0</td>\n",
       "      <td>0</td>\n",
       "      <td>0</td>\n",
       "      <td>1</td>\n",
       "      <td>0.0</td>\n",
       "      <td>0</td>\n",
       "    </tr>\n",
       "  </tbody>\n",
       "</table>\n",
       "<p>1 rows × 57 columns</p>\n",
       "</div>"
      ],
      "text/plain": [
       "          JOB_NAME  COBALT_JOBID MACHINE_NAME     QUEUED_TIMESTAMP  \\\n",
       "9456  309660.theta        309660        theta  2019-02-05 09:24:28   \n",
       "\n",
       "      QUEUED_DATE_ID      START_TIMESTAMP  START_DATE_ID        END_TIMESTAMP  \\\n",
       "9456        20190205  2019-02-05 09:59:40       20190205  2019-02-05 16:02:54   \n",
       "\n",
       "      END_DATE_ID  USERNAME_GENID  ...  IS_SUBBLOCK IS_SUBBLOCK_ONLY  \\\n",
       "9456     20190205  39916454600131  ...            0                0   \n",
       "\n",
       "      IS_MULTILOCATION_ONLY  IS_MULTILOCATION_SUBBLOCK  IS_CONSECUTIVE_ONLY  \\\n",
       "9456                      0                          0                    0   \n",
       "\n",
       "      IS_SINGLE_ONLY  IS_NO_TASKS  IS_OTHER OVERBURN_CORE_HOURS  IS_OVERBURN  \n",
       "9456               0            0         1                 0.0            0  \n",
       "\n",
       "[1 rows x 57 columns]"
      ]
     },
     "execution_count": 157,
     "metadata": {},
     "output_type": "execute_result"
    }
   ],
   "source": [
    "# djc_df = djc_df[parse_range_list(djc_df.LOCATION).contains(4598)]\n",
    "djc_df[djc_df.apply(lambda x: parse_range_list(x['LOCATION'], 2253), axis=1)]"
   ]
  },
  {
   "cell_type": "code",
   "execution_count": 158,
   "metadata": {},
   "outputs": [],
   "source": [
    "darshan_df = pd.read_csv('~/repos/jupyter-notebooks/data/darshan/ANL-ALCF-DARSHAN-THETA_20190101_20191231.csv')"
   ]
  },
  {
   "cell_type": "code",
   "execution_count": 159,
   "metadata": {},
   "outputs": [
    {
     "data": {
      "text/html": [
       "<div>\n",
       "<style scoped>\n",
       "    .dataframe tbody tr th:only-of-type {\n",
       "        vertical-align: middle;\n",
       "    }\n",
       "\n",
       "    .dataframe tbody tr th {\n",
       "        vertical-align: top;\n",
       "    }\n",
       "\n",
       "    .dataframe thead th {\n",
       "        text-align: right;\n",
       "    }\n",
       "</style>\n",
       "<table border=\"1\" class=\"dataframe\">\n",
       "  <thead>\n",
       "    <tr style=\"text-align: right;\">\n",
       "      <th></th>\n",
       "      <th>MACHINE_NAME</th>\n",
       "      <th>COBALT_JOBID</th>\n",
       "      <th>RUN_DATE_ID</th>\n",
       "      <th>USER_ID</th>\n",
       "      <th>EXE_NAME_GENID</th>\n",
       "      <th>START_TIME</th>\n",
       "      <th>END_TIME</th>\n",
       "      <th>NPROCS</th>\n",
       "      <th>RUN_TIME</th>\n",
       "      <th>DARSHAN_LOG_VERSION</th>\n",
       "      <th>...</th>\n",
       "      <th>TOTAL_STDIO_F_READ_START_TIMESTAMP</th>\n",
       "      <th>TOTAL_STDIO_F_OPEN_END_TIMESTAMP</th>\n",
       "      <th>TOTAL_STDIO_F_CLOSE_END_TIMESTAMP</th>\n",
       "      <th>TOTAL_STDIO_F_WRITE_END_TIMESTAMP</th>\n",
       "      <th>TOTAL_STDIO_F_READ_END_TIMESTAMP</th>\n",
       "      <th>TOTAL_STDIO_F_FASTEST_RANK_TIME</th>\n",
       "      <th>TOTAL_STDIO_F_SLOWEST_RANK_TIME</th>\n",
       "      <th>TOTAL_STDIO_F_VARIANCE_RANK_TIME</th>\n",
       "      <th>TOTAL_STDIO_F_VARIANCE_RANK_BYTES</th>\n",
       "      <th>UPDATED_TIMESTAMP</th>\n",
       "    </tr>\n",
       "  </thead>\n",
       "  <tbody>\n",
       "  </tbody>\n",
       "</table>\n",
       "<p>0 rows × 187 columns</p>\n",
       "</div>"
      ],
      "text/plain": [
       "Empty DataFrame\n",
       "Columns: [MACHINE_NAME, COBALT_JOBID, RUN_DATE_ID, USER_ID, EXE_NAME_GENID, START_TIME, END_TIME, NPROCS, RUN_TIME, DARSHAN_LOG_VERSION, DARSHAN_LIB_VERSION, TOTAL_POSIX_OPENS, TOTAL_POSIX_READS, TOTAL_POSIX_WRITES, TOTAL_POSIX_SEEKS, TOTAL_POSIX_STATS, TOTAL_POSIX_MMAPS, TOTAL_POSIX_FSYNCS, TOTAL_POSIX_FDSYNCS, TOTAL_POSIX_MODE, TOTAL_POSIX_BYTES_READ, TOTAL_POSIX_BYTES_WRITTEN, TOTAL_POSIX_MAX_BYTE_READ, TOTAL_POSIX_MAX_BYTE_WRITTEN, TOTAL_POSIX_CONSEC_READS, TOTAL_POSIX_CONSEC_WRITES, TOTAL_POSIX_SEQ_READS, TOTAL_POSIX_SEQ_WRITES, TOTAL_POSIX_RW_SWITCHES, TOTAL_POSIX_MEM_NOT_ALIGNED, TOTAL_POSIX_MEM_ALIGNMENT, TOTAL_POSIX_FILE_NOT_ALIGNED, TOTAL_POSIX_FILE_ALIGNMENT, TOTAL_POSIX_MAX_READ_TIME_SIZE, TOTAL_POSIX_MAX_WRITE_TIME_SIZE, TOTAL_POSIX_SIZE_READ_0_100, TOTAL_POSIX_SIZE_READ_100_1K, TOTAL_POSIX_SIZE_READ_1K_10K, TOTAL_POSIX_SIZE_READ_10K_100K, TOTAL_POSIX_SIZE_READ_100K_1M, TOTAL_POSIX_SIZE_READ_1M_4M, TOTAL_POSIX_SIZE_READ_4M_10M, TOTAL_POSIX_SIZE_READ_10M_100M, TOTAL_POSIX_SIZE_READ_100M_1G, TOTAL_POSIX_SIZE_READ_1G_PLUS, TOTAL_POSIX_SIZE_WRITE_0_100, TOTAL_POSIX_SIZE_WRITE_100_1K, TOTAL_POSIX_SIZE_WRITE_1K_10K, TOTAL_POSIX_SIZE_WRITE_10K_100K, TOTAL_POSIX_SIZE_WRITE_100K_1M, TOTAL_POSIX_SIZE_WRITE_1M_4M, TOTAL_POSIX_SIZE_WRITE_4M_10M, TOTAL_POSIX_SIZE_WRITE_10M_100M, TOTAL_POSIX_SIZE_WRITE_100M_1G, TOTAL_POSIX_SIZE_WRITE_1G_PLUS, TOTAL_POSIX_STRIDE1_STRIDE, TOTAL_POSIX_STRIDE2_STRIDE, TOTAL_POSIX_STRIDE3_STRIDE, TOTAL_POSIX_STRIDE4_STRIDE, TOTAL_POSIX_STRIDE1_COUNT, TOTAL_POSIX_STRIDE2_COUNT, TOTAL_POSIX_STRIDE3_COUNT, TOTAL_POSIX_STRIDE4_COUNT, TOTAL_POSIX_ACCESS1_ACCESS, TOTAL_POSIX_ACCESS2_ACCESS, TOTAL_POSIX_ACCESS3_ACCESS, TOTAL_POSIX_ACCESS4_ACCESS, TOTAL_POSIX_ACCESS1_COUNT, TOTAL_POSIX_ACCESS2_COUNT, TOTAL_POSIX_ACCESS3_COUNT, TOTAL_POSIX_ACCESS4_COUNT, TOTAL_POSIX_FASTEST_RANK, TOTAL_POSIX_FASTEST_RANK_BYTES, TOTAL_POSIX_SLOWEST_RANK, TOTAL_POSIX_SLOWEST_RANK_BYTES, TOTAL_POSIX_F_OPEN_START_TIMESTAMP, TOTAL_POSIX_F_READ_START_TIMESTAMP, TOTAL_POSIX_F_WRITE_START_TIMESTAMP, TOTAL_POSIX_F_CLOSE_START_TIMESTAMP, TOTAL_POSIX_F_OPEN_END_TIMESTAMP, TOTAL_POSIX_F_READ_END_TIMESTAMP, TOTAL_POSIX_F_WRITE_END_TIMESTAMP, TOTAL_POSIX_F_CLOSE_END_TIMESTAMP, TOTAL_POSIX_F_READ_TIME, TOTAL_POSIX_F_WRITE_TIME, TOTAL_POSIX_F_META_TIME, TOTAL_POSIX_F_MAX_READ_TIME, TOTAL_POSIX_F_MAX_WRITE_TIME, TOTAL_POSIX_F_FASTEST_RANK_TIME, TOTAL_POSIX_F_SLOWEST_RANK_TIME, TOTAL_POSIX_F_VARIANCE_RANK_TIME, TOTAL_POSIX_F_VARIANCE_RANK_BYTES, TOTAL_MPIIO_INDEP_OPENS, TOTAL_MPIIO_COLL_OPENS, TOTAL_MPIIO_INDEP_READS, TOTAL_MPIIO_INDEP_WRITES, TOTAL_MPIIO_COLL_READS, TOTAL_MPIIO_COLL_WRITES, TOTAL_MPIIO_SPLIT_READS, TOTAL_MPIIO_SPLIT_WRITES, ...]\n",
       "Index: []\n",
       "\n",
       "[0 rows x 187 columns]"
      ]
     },
     "execution_count": 159,
     "metadata": {},
     "output_type": "execute_result"
    }
   ],
   "source": [
    "darshan_df[darshan_df.COBALT_JOBID == djc_df.iloc[0].COBALT_JOBID]"
   ]
  },
  {
   "cell_type": "code",
   "execution_count": null,
   "metadata": {},
   "outputs": [],
   "source": []
  }
 ],
 "metadata": {
  "kernelspec": {
   "display_name": "Python 3",
   "language": "python",
   "name": "python3"
  },
  "language_info": {
   "codemirror_mode": {
    "name": "ipython",
    "version": 3
   },
   "file_extension": ".py",
   "mimetype": "text/x-python",
   "name": "python",
   "nbconvert_exporter": "python",
   "pygments_lexer": "ipython3",
   "version": "3.7.7"
  }
 },
 "nbformat": 4,
 "nbformat_minor": 4
}
