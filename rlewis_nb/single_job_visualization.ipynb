{
 "cells": [
  {
   "cell_type": "code",
   "execution_count": 1,
   "metadata": {},
   "outputs": [],
   "source": [
    "import plotly.express as px\n",
    "import plotly.graph_objects as go\n",
    "from plotly.subplots import make_subplots\n",
    "import pandas as pd\n",
    "import numpy as np\n",
    "from sklearn import preprocessing\n",
    "from ipywidgets import interact, interactive, fixed, interact_manual\n",
    "import ipywidgets as widgets\n",
    "import glob\n",
    "import random"
   ]
  },
  {
   "cell_type": "code",
   "execution_count": 2,
   "metadata": {},
   "outputs": [],
   "source": [
    "machine = 'mira'"
   ]
  },
  {
   "cell_type": "code",
   "execution_count": 3,
   "metadata": {},
   "outputs": [
    {
     "name": "stderr",
     "output_type": "stream",
     "text": [
      "/home/luckierdodge/miniconda3/envs/jupyterlab/lib/python3.7/site-packages/IPython/core/interactiveshell.py:3072: DtypeWarning: Columns (12,15) have mixed types.Specify dtype option on import or set low_memory=False.\n",
      "  interactivity=interactivity, compiler=compiler, result=result)\n"
     ]
    }
   ],
   "source": [
    "# Load log sources\n",
    "darshan_df = pd.read_csv('~/repos/jupyter-notebooks/data/mira_darshan_logs/ANL-ALCF-DARSHAN-MIRA_20190101_20191231.csv')\n",
    "autoperf_df = pd.read_csv('~/repos/jupyter-notebooks/data/autoperf_complete/ANL-ALCF-AUTOPERF-MIRA_20190101_20191231.csv')\n",
    "task_df = pd.read_csv('~/repos/jupyter-notebooks/data/mira_task_logs/ANL-ALCF-TH-MIRA_20190101_20191231.csv')\n",
    "djc_df = pd.read_csv('~/repos/jupyter-notebooks/data/mira_djc_logs/ANL-ALCF-DJC-MIRA_20190101_20191231.csv')\n",
    "ras_df = pd.read_csv('~/repos/jupyter-notebooks/data/mira_ras_logs/ANL-ALCF-RE-MIRA_20190101_20191231.csv')"
   ]
  },
  {
   "cell_type": "code",
   "execution_count": 9,
   "metadata": {},
   "outputs": [
    {
     "data": {
      "text/plain": [
       "1734792"
      ]
     },
     "execution_count": 9,
     "metadata": {},
     "output_type": "execute_result"
    }
   ],
   "source": [
    "# Get jobs that have both Autoperf and Darshan records\n",
    "autoperf_ids = autoperf_df.PROC_BATCHJOBID.unique()\n",
    "overlap_ids = darshan_df[darshan_df['COBALT_JOBID'].isin(autoperf_ids)].COBALT_JOBID.unique()\n",
    "random.choice(overlap_ids)"
   ]
  },
  {
   "cell_type": "code",
   "execution_count": 10,
   "metadata": {},
   "outputs": [],
   "source": [
    "jobid=1734792"
   ]
  },
  {
   "cell_type": "code",
   "execution_count": 11,
   "metadata": {},
   "outputs": [],
   "source": [
    "# Filter log sources by jobid\n",
    "job_dar_df = darshan_df[darshan_df['COBALT_JOBID'] == jobid]\n",
    "job_ap_df = autoperf_df[autoperf_df['PROC_BATCHJOBID'] == jobid]\n",
    "job_task_df = task_df[task_df['COBALT_JOBID'] == jobid]\n",
    "job_djc_df = djc_df[djc_df['COBALT_JOBID'] == jobid]\n",
    "job_ras_df = ras_df[ras_df['JOBID'] == jobid]"
   ]
  },
  {
   "cell_type": "code",
   "execution_count": 12,
   "metadata": {},
   "outputs": [
    {
     "name": "stdout",
     "output_type": "stream",
     "text": [
      "Job Info for Cobalt job 1734792 on machine mira \n",
      "\n",
      "Tasks:\t\t\t\t 1\n",
      "Darshan entries available:\t 1\n",
      "Autoperf entries available:\t 4\n",
      "Scheduler Log entries available: 1\n",
      "RAS entries available:\t\t 0\n"
     ]
    }
   ],
   "source": [
    "print (\"Job Info for Cobalt job\", jobid, \"on machine\", machine)\n",
    "print()\n",
    "print( \"Tasks:\\t\\t\\t\\t\", len(job_task_df.index))\n",
    "print( \"Darshan entries available:\\t\", len(job_dar_df.index))\n",
    "print( \"Autoperf entries available:\\t\", len(job_ap_df.index))\n",
    "print( \"Scheduler Log entries available:\", len(job_djc_df.index))\n",
    "print( \"RAS entries available:\\t\\t\", len(job_ras_df.index))\n",
    "print()\n",
    "# if (len(job_task_df) > 0):\n",
    "#     print(\"Task Info:\")\n",
    "#     for(\"\")"
   ]
  },
  {
   "cell_type": "code",
   "execution_count": 13,
   "metadata": {},
   "outputs": [
    {
     "data": {
      "text/html": [
       "<div>\n",
       "<style scoped>\n",
       "    .dataframe tbody tr th:only-of-type {\n",
       "        vertical-align: middle;\n",
       "    }\n",
       "\n",
       "    .dataframe tbody tr th {\n",
       "        vertical-align: top;\n",
       "    }\n",
       "\n",
       "    .dataframe thead th {\n",
       "        text-align: right;\n",
       "    }\n",
       "</style>\n",
       "<table border=\"1\" class=\"dataframe\">\n",
       "  <thead>\n",
       "    <tr style=\"text-align: right;\">\n",
       "      <th></th>\n",
       "      <th>ID</th>\n",
       "      <th>CONTROLSYSTEM_TASKID</th>\n",
       "      <th>TASK_USER_GENID</th>\n",
       "      <th>LOCATION</th>\n",
       "      <th>EXECUTABLE_GENID</th>\n",
       "      <th>TIME_START</th>\n",
       "      <th>TIME_END</th>\n",
       "      <th>COBALT_JOBID</th>\n",
       "      <th>EXITSTATUS</th>\n",
       "      <th>MACHINE_NAME</th>\n",
       "      <th>...</th>\n",
       "      <th>SHAPEB</th>\n",
       "      <th>SHAPEC</th>\n",
       "      <th>SHAPED</th>\n",
       "      <th>SHAPEE</th>\n",
       "      <th>CORNER</th>\n",
       "      <th>IS_SUBBLOCK</th>\n",
       "      <th>IS_CONSECUTIVE</th>\n",
       "      <th>IS_MULTILOCATION</th>\n",
       "      <th>IS_SINGLE</th>\n",
       "      <th>PROJECT_NAME_GENID</th>\n",
       "    </tr>\n",
       "  </thead>\n",
       "  <tbody>\n",
       "    <tr>\n",
       "      <th>29413</th>\n",
       "      <td>9924338</td>\n",
       "      <td>2903266</td>\n",
       "      <td>9.250003e+13</td>\n",
       "      <td>MIR-40C80-73FF1-1-1024</td>\n",
       "      <td>65342913551881</td>\n",
       "      <td>2019-01-26 09:54:19.762182</td>\n",
       "      <td>2019-01-26 15:45:16.710413</td>\n",
       "      <td>1734792.0</td>\n",
       "      <td>58368.0</td>\n",
       "      <td>mira</td>\n",
       "      <td>...</td>\n",
       "      <td>4</td>\n",
       "      <td>4</td>\n",
       "      <td>8</td>\n",
       "      <td>2</td>\n",
       "      <td>NaN</td>\n",
       "      <td>-1</td>\n",
       "      <td>-1</td>\n",
       "      <td>-1</td>\n",
       "      <td>-1</td>\n",
       "      <td>9.820092e+12</td>\n",
       "    </tr>\n",
       "  </tbody>\n",
       "</table>\n",
       "<p>1 rows × 22 columns</p>\n",
       "</div>"
      ],
      "text/plain": [
       "            ID  CONTROLSYSTEM_TASKID  TASK_USER_GENID                LOCATION  \\\n",
       "29413  9924338               2903266     9.250003e+13  MIR-40C80-73FF1-1-1024   \n",
       "\n",
       "       EXECUTABLE_GENID                  TIME_START  \\\n",
       "29413    65342913551881  2019-01-26 09:54:19.762182   \n",
       "\n",
       "                         TIME_END  COBALT_JOBID  EXITSTATUS MACHINE_NAME  ...  \\\n",
       "29413  2019-01-26 15:45:16.710413     1734792.0     58368.0         mira  ...   \n",
       "\n",
       "      SHAPEB  SHAPEC  SHAPED  SHAPEE  CORNER  IS_SUBBLOCK IS_CONSECUTIVE  \\\n",
       "29413      4       4       8       2     NaN           -1             -1   \n",
       "\n",
       "       IS_MULTILOCATION  IS_SINGLE  PROJECT_NAME_GENID  \n",
       "29413                -1         -1        9.820092e+12  \n",
       "\n",
       "[1 rows x 22 columns]"
      ]
     },
     "execution_count": 13,
     "metadata": {},
     "output_type": "execute_result"
    }
   ],
   "source": [
    "# Task timeline\n",
    "\n",
    "\n",
    "\n",
    "fig = go.Figure()\n",
    "fig.add_trace(\n",
    "    go.Scatter(\n",
    "        \n",
    "    )\n",
    ")"
   ]
  },
  {
   "cell_type": "code",
   "execution_count": null,
   "metadata": {},
   "outputs": [],
   "source": []
  }
 ],
 "metadata": {
  "kernelspec": {
   "display_name": "Python 3",
   "language": "python",
   "name": "python3"
  },
  "language_info": {
   "codemirror_mode": {
    "name": "ipython",
    "version": 3
   },
   "file_extension": ".py",
   "mimetype": "text/x-python",
   "name": "python",
   "nbconvert_exporter": "python",
   "pygments_lexer": "ipython3",
   "version": "3.7.7"
  }
 },
 "nbformat": 4,
 "nbformat_minor": 4
}
