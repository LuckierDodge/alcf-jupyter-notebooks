{
 "cells": [
  {
   "cell_type": "code",
   "execution_count": 1,
   "metadata": {},
   "outputs": [],
   "source": [
    "# rgb2xyz, xyz2lab, and ciede2000 functions\n",
    "# Copyright (c) 2017, JAMES MASON\n",
    "# All rights reserved.\n",
    "#\n",
    "# xyz2rgb, lab2xyz and all other code\n",
    "# Copyright (c) 2020, DAVID KOOP\n",
    "# All rights reserved.\n",
    "#\n",
    "# Redistribution and use in source and binary forms, with or without\n",
    "# modification, are permitted provided that the following conditions are met:\n",
    "#     * Redistributions of source code must retain the above copyright\n",
    "#       notice, this list of conditions and the following disclaimer.\n",
    "#     * Redistributions in binary form must reproduce the above copyright\n",
    "#       notice, this list of conditions and the following disclaimer in the\n",
    "#       documentation and/or other materials provided with the distribution.\n",
    "#     * Neither the name of the author nor the\n",
    "#       names of its contributors may be used to endorse or promote products\n",
    "#       derived from this software without specific prior written permission.\n",
    "#\n",
    "# THIS SOFTWARE IS PROVIDED BY THE COPYRIGHT HOLDERS AND CONTRIBUTORS \"AS IS\" AND\n",
    "# ANY EXPRESS OR IMPLIED WARRANTIES, INCLUDING, BUT NOT LIMITED TO, THE IMPLIED\n",
    "# WARRANTIES OF MERCHANTABILITY AND FITNESS FOR A PARTICULAR PURPOSE ARE\n",
    "# DISCLAIMED. IN NO EVENT SHALL JAMES MASON BE LIABLE FOR ANY\n",
    "# DIRECT, INDIRECT, INCIDENTAL, SPECIAL, EXEMPLARY, OR CONSEQUENTIAL DAMAGES\n",
    "# (INCLUDING, BUT NOT LIMITED TO, PROCUREMENT OF SUBSTITUTE GOODS OR SERVICES;\n",
    "# LOSS OF USE, DATA, OR PROFITS; OR BUSINESS INTERRUPTION) HOWEVER CAUSED AND\n",
    "# ON ANY THEORY OF LIABILITY, WHETHER IN CONTRACT, STRICT LIABILITY, OR TORT\n",
    "# (INCLUDING NEGLIGENCE OR OTHERWISE) ARISING IN ANY WAY OUT OF THE USE OF THIS\n",
    "# SOFTWARE, EVEN IF ADVISED OF THE POSSIBILITY OF SUCH DAMAGE.\n",
    "\n",
    "import numpy as np\n",
    "\n",
    "# Converts RGB pixel array to XYZ format.\n",
    "# Implementation derived from http://www.easyrgb.com/en/math.php\n",
    "def rgb2xyz(rgb):\n",
    "    def format(c):\n",
    "        c = c / 255.\n",
    "        if c > 0.04045: c = ((c + 0.055) / 1.055) ** 2.4\n",
    "        else: c = c / 12.92\n",
    "        return c * 100\n",
    "    rgb = list(map(format, rgb))\n",
    "    xyz = [None, None, None]\n",
    "    xyz[0] = rgb[0] * 0.4124 + rgb[1] * 0.3576 + rgb[2] * 0.1805\n",
    "    xyz[1] = rgb[0] * 0.2126 + rgb[1] * 0.7152 + rgb[2] * 0.0722\n",
    "    xyz[2] = rgb[0] * 0.0193 + rgb[1] * 0.1192 + rgb[2] * 0.9505\n",
    "    return xyz\n",
    "\n",
    "# Converts XYZ pixel array to LAB format.\n",
    "# Implementation derived from http://www.easyrgb.com/en/math.php\n",
    "def xyz2lab(xyz):\n",
    "    def format(c):\n",
    "        if c > 0.008856: c = c ** (1. / 3.)\n",
    "        else: c = (7.787 * c) + (16. / 116.)\n",
    "        return c\n",
    "    xyz[0] = xyz[0] / 95.047\n",
    "    xyz[1] = xyz[1] / 100.00\n",
    "    xyz[2] = xyz[2] / 108.883\n",
    "    xyz = list(map(format, xyz))\n",
    "    lab = [None, None, None]\n",
    "    lab[0] = (116. * xyz[1]) - 16.\n",
    "    lab[1] = 500. * (xyz[0] - xyz[1])\n",
    "    lab[2] = 200. * (xyz[1] - xyz[2])\n",
    "    return lab\n",
    "\n",
    "# Converts RGB pixel array into LAB format.\n",
    "def rgb2lab(rgb):\n",
    "    return xyz2lab(rgb2xyz(rgb))"
   ]
  },
  {
   "cell_type": "code",
   "execution_count": 2,
   "metadata": {},
   "outputs": [],
   "source": [
    "# Implementation derived from http://www.easyrgb.com/en/math.php\n",
    "def lab2xyz(lab):\n",
    "    def format(v):\n",
    "        if v**3 > 0.008856: \n",
    "            v = v**3\n",
    "        else:\n",
    "            v = ((v - 16)/116) / 7.787\n",
    "        return v\n",
    "    y = (lab[0] + 16) / 116\n",
    "    x = lab[1] / 500 + y\n",
    "    z = y - lab[2] / 200\n",
    "    xyz = [format(x) * 95.047, format(y) * 100.0, format(z) * 108.883]\n",
    "    return xyz\n",
    "\n",
    "# Implementation derived from http://www.easyrgb.com/en/math.php\n",
    "def xyz2rgb(xyz):\n",
    "    x = xyz[0] / 100\n",
    "    y = xyz[1] / 100\n",
    "    z = xyz[2] / 100\n",
    "    \n",
    "    r = x * 3.2406 + y * -1.5372 + z * -0.4986\n",
    "    g = x * -0.9689 + y * 1.8758 + z * 0.0415\n",
    "    b = x * 0.0557 + y * -0.2040 + z * 1.0570\n",
    "    \n",
    "    def format(c):\n",
    "        if c > 0.0031308:\n",
    "            c = 1.055 * (c ** (1/2.4)) - 0.055\n",
    "        else:\n",
    "            c = 12.92 * c\n",
    "        return c\n",
    "    rgb = [format(r) * 255, format(g) * 255, format(b) * 255]\n",
    "    return rgb\n",
    "\n",
    "def lab2rgb(lab):\n",
    "    return xyz2rgb(lab2xyz(lab))"
   ]
  },
  {
   "cell_type": "code",
   "execution_count": 3,
   "metadata": {},
   "outputs": [],
   "source": [
    "# Returns CIEDE2000 comparison results of two LAB formatted colors.\n",
    "# Translated from CIEDE2000 implementation in https://github.com/markusn/color-diff\n",
    "def ciede2000(lab1, lab2):\n",
    "    def degrees(n): return n * (180. / np.pi)\n",
    "    def radians(n): return n * (np.pi / 180.)\n",
    "    def hpf(x, y):\n",
    "        if x == 0 and y == 0: return 0\n",
    "        else:\n",
    "            tmphp = degrees(np.arctan2(x, y))\n",
    "            if tmphp >= 0: return tmphp\n",
    "            else: return tmphp + 360.\n",
    "        return None\n",
    "    def dhpf(c1, c2, h1p, h2p):\n",
    "        if c1 * c2 == 0: return 0\n",
    "        elif np.abs(h2p - h1p) <= 180: return h2p - h1p\n",
    "        elif h2p - h1p > 180: return (h2p - h1p) - 360.\n",
    "        elif h2p - h1p < 180: return (h2p - h1p) + 360.\n",
    "        else: return None\n",
    "    def ahpf(c1, c2, h1p, h2p):\n",
    "        if c1 * c2 == 0: return h1p + h2p\n",
    "        elif np.abs(h1p - h2p) <= 180: return (h1p + h2p) / 2.\n",
    "        elif np.abs(h1p - h2p) > 180 and h1p + h2p < 360: return (h1p + h2p + 360.) / 2.\n",
    "        elif np.abs(h1p - h2p) > 180 and h1p + h2p >= 360: return (h1p + h2p - 360.) / 2.\n",
    "        return None\n",
    "    L1 = lab1[0]\n",
    "    A1 = lab1[1]\n",
    "    B1 = lab1[2]\n",
    "    L2 = lab2[0]\n",
    "    A2 = lab2[1]\n",
    "    B2 = lab2[2]\n",
    "    kL = 1\n",
    "    kC = 1\n",
    "    kH = 1\n",
    "    C1 = np.sqrt((A1 ** 2.) + (B1 ** 2.))\n",
    "    C2 = np.sqrt((A2 ** 2.) + (B2 ** 2.))\n",
    "    aC1C2 = (C1 + C2) / 2.\n",
    "    G = 0.5 * (1. - np.sqrt((aC1C2 ** 7.) / ((aC1C2 ** 7.) + (25. ** 7.))))\n",
    "    a1P = (1. + G) * A1\n",
    "    a2P = (1. + G) * A2\n",
    "    c1P = np.sqrt((a1P ** 2.) + (B1 ** 2.))\n",
    "    c2P = np.sqrt((a2P ** 2.) + (B2 ** 2.))\n",
    "    h1P = hpf(B1, a1P)\n",
    "    h2P = hpf(B2, a2P)\n",
    "    dLP = L2 - L1\n",
    "    dCP = c2P - c1P\n",
    "    dhP = dhpf(C1, C2, h1P, h2P)\n",
    "    dHP = 2. * np.sqrt(c1P * c2P) * np.sin(radians(dhP) / 2.)\n",
    "    aL = (L1 + L2) / 2.\n",
    "    aCP = (c1P + c2P) / 2.\n",
    "    aHP = ahpf(C1, C2, h1P, h2P)\n",
    "    T = 1. - 0.17 * np.cos(radians(aHP - 39)) + 0.24 * np.cos(radians(2. * aHP)) + 0.32 * np.cos(radians(3. * aHP + 6.)) - 0.2 * np.cos(radians(4. * aHP - 63.))\n",
    "    dRO = 30. * np.exp(-1. * (((aHP - 275.) / 25.) ** 2.))\n",
    "    rC = np.sqrt((aCP ** 7.) / ((aCP ** 7.) + (25. ** 7.)))\n",
    "    sL = 1. + ((0.015 * ((aL - 50.) ** 2.)) / np.sqrt(20. + ((aL - 50.) ** 2.)))\n",
    "    sC = 1. + 0.045 * aCP\n",
    "    sH = 1. + 0.015 * aCP * T\n",
    "    rT = -2. * rC * np.sin(radians(2. * dRO))\n",
    "    return np.sqrt(((dLP / (sL * kL)) ** 2.) + ((dCP / (sC * kC)) ** 2.) + ((dHP / (sH * kH)) ** 2.) + rT * (dCP / (sC * kC)) * (dHP / (sH * kH)))"
   ]
  },
  {
   "cell_type": "code",
   "execution_count": 13,
   "metadata": {},
   "outputs": [],
   "source": [
    "# str from D3\n",
    "tableau10_str = \"4e79a7f28e2ce1575976b7b259a14fedc949af7aa1ff9da79c755fbab0ab\"\n",
    "colors_html = [tableau10_str[i:i+6] for i in range(0, len(tableau10_str), 6)]"
   ]
  },
  {
   "cell_type": "code",
   "execution_count": 22,
   "metadata": {},
   "outputs": [
    {
     "data": {
      "text/html": [
       "<div style=\"background: #4e79a7;\">&nbsp;</div><div style=\"background: #f28e2c;\">&nbsp;</div><div style=\"background: #e15759;\">&nbsp;</div><div style=\"background: #76b7b2;\">&nbsp;</div><div style=\"background: #59a14f;\">&nbsp;</div><div style=\"background: #edc949;\">&nbsp;</div><div style=\"background: #af7aa1;\">&nbsp;</div><div style=\"background: #ff9da7;\">&nbsp;</div><div style=\"background: #9c755f;\">&nbsp;</div><div style=\"background: #bab0ab;\">&nbsp;</div>"
      ],
      "text/plain": [
       "<IPython.core.display.HTML object>"
      ]
     },
     "execution_count": 22,
     "metadata": {},
     "output_type": "execute_result"
    }
   ],
   "source": [
    "from IPython.display import HTML\n",
    "html_str = ''.join([f'<div style=\"background: #{c};\">&nbsp;</div>' for c in colors_html])    \n",
    "HTML(html_str)"
   ]
  },
  {
   "cell_type": "code",
   "execution_count": 23,
   "metadata": {},
   "outputs": [],
   "source": [
    "colors = [[int(c[i:i+2],16) for i in range(0,6,2)] for c in colors_html]"
   ]
  },
  {
   "cell_type": "code",
   "execution_count": 24,
   "metadata": {},
   "outputs": [],
   "source": [
    "import random\n",
    "import numpy as np\n",
    "in_colors = np.array([random.choice(colors) for i in range(6)])\n",
    "# perturb a bit since having the same color leads to multiple zeros\n",
    "in_colors += np.random.randint(-5,5,in_colors.shape)"
   ]
  },
  {
   "cell_type": "code",
   "execution_count": 25,
   "metadata": {},
   "outputs": [
    {
     "data": {
      "text/html": [
       "<div style=\"background: #9f785c;\">&nbsp;</div><div style=\"background: #549c4b;\">&nbsp;</div><div style=\"background: #b07da4;\">&nbsp;</div><div style=\"background: #9c745d;\">&nbsp;</div><div style=\"background: #77b7af;\">&nbsp;</div><div style=\"background: #fd9ca2;\">&nbsp;</div>"
      ],
      "text/plain": [
       "<IPython.core.display.HTML object>"
      ]
     },
     "execution_count": 25,
     "metadata": {},
     "output_type": "execute_result"
    }
   ],
   "source": [
    "from IPython.display import HTML\n",
    "html_str = ''.join([f'<div style=\"background: #{c[0]:02x}{c[1]:02x}{c[2]:02x};\">&nbsp;</div>' for c in in_colors])    \n",
    "HTML(html_str)"
   ]
  },
  {
   "cell_type": "code",
   "execution_count": 26,
   "metadata": {},
   "outputs": [],
   "source": [
    "# # set up the initial simplex?\n",
    "# all_colors = []\n",
    "# all_diffs = []\n",
    "# for i in range(np.array(in_colors).shape[0]):\n",
    "#     for j in range(3):\n",
    "#         for k in range(2):\n",
    "#             new_color = np.array(in_colors)\n",
    "#             new_color[i,j] += 2*k-1\n",
    "#             all_diffs.append(dmin(new_color))\n",
    "# idxs = np.argsort(np.array(all_diffs))\n",
    "# all_diffs"
   ]
  },
  {
   "cell_type": "code",
   "execution_count": 27,
   "metadata": {},
   "outputs": [
    {
     "name": "stdout",
     "output_type": "stream",
     "text": [
      "Warning: Maximum number of function evaluations has been exceeded.\n"
     ]
    }
   ],
   "source": [
    "# >>> x0 = np.array([1.3, 0.7, 0.8, 1.9, 1.2])\n",
    "# >>> res = minimize(rosen, x0, method='nelder-mead',\n",
    "\n",
    "import numpy as np\n",
    "from scipy.optimize import minimize\n",
    "from scipy.spatial.distance import pdist\n",
    "\n",
    "def dmin(x):\n",
    "#     colors = x.reshape((-1,3))\n",
    "#     np.clip(colors,0,255,colors)\n",
    "#     colors_lab = np.array([rgb2lab(c) for c in colors])\n",
    "    colors_lab = x.reshape((-1,3))\n",
    "    # normal L*a*b* range is L* -> [0-100], a* -> [-128,127], b* -> [-128,127]    \n",
    "    np.clip(colors_lab[:,0],0,100, colors_lab[:,0])\n",
    "    np.clip(colors_lab[:,1],-128,127, colors_lab[:,1])\n",
    "    np.clip(colors_lab[:,2],-128,127, colors_lab[:,2])\n",
    "    diffs = pdist(colors_lab, ciede2000)\n",
    "    return - np.min(diffs)\n",
    "\n",
    "x0 = np.array([rgb2lab(c) for c in in_colors]).reshape((1,-1))\n",
    "\n",
    "# // try a 3n ordering\n",
    "xout = minimize(dmin, x0, method='Nelder-Mead', options={'disp': True})"
   ]
  },
  {
   "cell_type": "code",
   "execution_count": 28,
   "metadata": {},
   "outputs": [
    {
     "data": {
      "text/html": [
       "<div style=\"background: #9f785c;\">&nbsp;</div><div style=\"background: #549c4b;\">&nbsp;</div><div style=\"background: #b07da4;\">&nbsp;</div><div style=\"background: #9c745d;\">&nbsp;</div><div style=\"background: #77b7af;\">&nbsp;</div><div style=\"background: #fd9ca2;\">&nbsp;</div>"
      ],
      "text/plain": [
       "<IPython.core.display.HTML object>"
      ]
     },
     "execution_count": 28,
     "metadata": {},
     "output_type": "execute_result"
    }
   ],
   "source": [
    "from IPython.display import HTML\n",
    "html_str = ''.join([f'<div style=\"background: #{c[0]:02x}{c[1]:02x}{c[2]:02x};\">&nbsp;</div>' for c in in_colors])    \n",
    "HTML(html_str)"
   ]
  },
  {
   "cell_type": "code",
   "execution_count": 29,
   "metadata": {},
   "outputs": [
    {
     "data": {
      "text/html": [
       "<div style=\"background: #996e00;\">&nbsp;</div><div style=\"background: #000000;\">&nbsp;</div><div style=\"background: #00005c;\">&nbsp;</div><div style=\"background: #000000;\">&nbsp;</div><div style=\"background: #c7fffe;\">&nbsp;</div><div style=\"background: #ffd3f2;\">&nbsp;</div>"
      ],
      "text/plain": [
       "<IPython.core.display.HTML object>"
      ]
     },
     "execution_count": 29,
     "metadata": {},
     "output_type": "execute_result"
    }
   ],
   "source": [
    "from IPython.display import HTML\n",
    "# out_colors = np.round(xout.x).astype(int).reshape((-1,3))\n",
    "out_colors = np.clip(np.round(np.array([lab2rgb(c) for c in xout.x.reshape((-1,3))])).astype(int),0,255)\n",
    "html_str = ''.join([f'<div style=\"background: #{c[0]:02x}{c[1]:02x}{c[2]:02x};\">&nbsp;</div>' for c in out_colors])    \n",
    "HTML(html_str)"
   ]
  },
  {
   "cell_type": "code",
   "execution_count": null,
   "metadata": {},
   "outputs": [],
   "source": []
  }
 ],
 "metadata": {
  "kernelspec": {
   "display_name": "Python 3",
   "language": "python",
   "name": "python3"
  },
  "language_info": {
   "codemirror_mode": {
    "name": "ipython",
    "version": 3
   },
   "file_extension": ".py",
   "mimetype": "text/x-python",
   "name": "python",
   "nbconvert_exporter": "python",
   "pygments_lexer": "ipython3",
   "version": "3.7.7"
  }
 },
 "nbformat": 4,
 "nbformat_minor": 4
}
