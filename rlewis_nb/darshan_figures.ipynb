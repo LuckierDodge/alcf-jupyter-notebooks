{
 "cells": [
  {
   "cell_type": "code",
   "execution_count": 1,
   "metadata": {},
   "outputs": [],
   "source": [
    "from __future__ import division\n",
    "import numpy as np\n",
    "from matplotlib import pyplot as plt\n",
    "import glob, operator, time, shutil, scipy, sys\n",
    "import pandas as pd\n",
    "\n",
    "pd.set_option('display.max_columns', 100)\n",
    "plt.style.use('classic')"
   ]
  },
  {
   "cell_type": "code",
   "execution_count": 2,
   "metadata": {},
   "outputs": [],
   "source": [
    "def new_fig(figsize=(8.9, 5)):\n",
    "    plt.close()\n",
    "    fig = plt.figure(figsize=figsize)\n",
    "    ax = fig.add_subplot(111)\n",
    "    for axis in ['top','bottom','left','right']:\n",
    "        ax.spines[axis].set_linewidth(3)    \n",
    "    ax.yaxis.grid(linestyle='--')\n",
    "    for tick in ax.xaxis.get_major_ticks():\n",
    "        tick.label.set_fontsize(18) \n",
    "    for tick in ax.yaxis.get_major_ticks():\n",
    "        tick.label.set_fontsize(18) \n",
    "    for line in ax.get_xticklines() + ax.get_yticklines():\n",
    "        line.set_markersize(8)\n",
    "    return ax"
   ]
  },
  {
   "cell_type": "code",
   "execution_count": null,
   "metadata": {
    "scrolled": true
   },
   "outputs": [],
   "source": [
    "year = '2015'\n",
    "\n",
    "out_path = '/lus/theta-fs0/projects/AMASE/rlewis/darshan/organized/' + year + '_summary.csv'\n",
    "f = open(outpath, 'w+')\n",
    "\n",
    "f.write(('jid,start_time,end_time,nprocs,cul_iotime,posix_time,mpiio_time,posix_cnt,mpiio_cnt,'\n",
    "        'read_bytes,write_bytes,wr_bytes,unique_bytes,shared_bytes,read_nf,write_nf,wr_nf,unique_nf,'\n",
    "        'shared_nf,posix_wr_time,posix_rd_time,posix_meta_time,mpiio_wr_time,mpiio_rd_time,mpiio_meta_time\\n'))\n",
    "\n",
    "for filename in glob.glob(\"/lus/theta-fs0/projects/AMASE/rlewis/darshan/organized/\" + year + \"/*.csv\"):\n",
    "    df = pd.read_csv(filename, header=0)\n",
    "    \n",
    "    job_id = df['jobid'][0]\n",
    "    start_time = df['start_time'][0]\n",
    "    end_time = df['end_time'][0]\n",
    "    nprocs = df['nprocs'][0]\n",
    "    read_bytes = df[(df['CP_BYTES_READ'] > 0) & (df['CP_BYTES_WRITTEN'] <= 0)]['CP_BYTES_READ'].sum()\n",
    "    write_bytes = df[(df['CP_BYTES_WRITTEN'] > 0) & (df['CP_BYTES_READ'] <= 0)]['CP_BYTES_WRITTEN'].sum()\n",
    "    wr_bytes = df[(df['CP_BYTES_WRITTEN'] > 0) & (df['CP_BYTES_READ'] > 0)]['CP_BYTES_WRITTEN'].sum() + df[(df['CP_BYTES_WRITTEN'] > 0) & (df['CP_BYTES_READ'] > 0)]['CP_BYTES_READ'].sum()\n",
    "    unique_bytes = df[df['CP_INDEP_OPENS'] > 0]['CP_BYTES_READ'].sum() + df[df['CP_INDEP_OPENS'] > 0]['CP_BYTES_WRITTEN'].sum()\n",
    "    shared_bytes = df[df['CP_COLL_OPENS'] > 0]['CP_BYTES_READ'].sum() + df[df['CP_COLL_OPENS'] > 0]['CP_BYTES_WRITTEN'].sum()\n",
    "    posix_wr_time = df['CP_F_POSIX_WRITE_TIME'].sum()\n",
    "    posix_rd_time = df['CP_F_POSIX_READ_TIME'].sum()\n",
    "    posix_meta_time = df['CP_F_POSIX_META_TIME'].sum()\n",
    "    mpiio_wr_time = df['CP_F_MPI_WRITE_TIME'].sum()\n",
    "    mpiio_rd_time = df['CP_F_MPI_READ_TIME'].sum()\n",
    "    mpiio_meta_time = df['CP_F_MPI_META_TIME'].sum()\n",
    "    posix_time = posix_wr_time + posix_rd_time + posix_meta_time\n",
    "    mpiio_time = mpiio_wr_time + mpiio_rd_time + mpiio_meta_time\n",
    "    cul_iotime = posix_time + mpiio_time\n",
    "    read_nf = df[df['CP_POSIX_READS'] > 0].count()[0]\n",
    "    write_nf = df[df['CP_POSIX_WRITES'] > 0].count()[0]\n",
    "    wr_nf = df[(df['CP_POSIX_READS'] > 0) & (df['CP_POSIX_WRITES'] > 0)].count()[0]\n",
    "    unique_nf = df[df['CP_INDEP_OPENS'] > 0].count()[0]\n",
    "    shared_nf = df[df['CP_COLL_OPENS'] > 0].count()[0]\n",
    "    posix_cnt = read_nf + write_nf + wr_nf\n",
    "    mpiio_cnt = unique_nf + shared_nf\n",
    "    \n",
    "    f.write('{},{},{},{},{},{},{},{},{},{},{},{},{},{},{},{},{},{},{},{},{},{},{},{},{}\\n'.format(job_id,\n",
    "            start_time,end_time,nprocs,cul_iotime,posix_time,mpiio_time,posix_cnt,mpiio_cnt,read_bytes,write_bytes,\n",
    "            wr_bytes,unique_bytes,shared_bytes,read_nf,write_nf,wr_nf,unique_nf,shared_nf,posix_wr_time,posix_rd_time,\n",
    "            posix_meta_time,mpiio_wr_time,mpiio_rd_time,mpiio_meta_time))\n",
    "\n",
    "f.close()"
   ]
  },
  {
   "cell_type": "code",
   "execution_count": 57,
   "metadata": {},
   "outputs": [
    {
     "data": {
      "text/plain": [
       "count         98.0\n",
       "mean     2368840.0\n",
       "std            0.0\n",
       "min      2368840.0\n",
       "25%      2368840.0\n",
       "50%      2368840.0\n",
       "75%      2368840.0\n",
       "max      2368840.0\n",
       "Name: CP_F_READ_END_TIMESTAMP, dtype: float64"
      ]
     },
     "execution_count": 57,
     "metadata": {},
     "output_type": "execute_result"
    }
   ],
   "source": [
    "# df['CP_F_POSIX_WRITE_TIME'].describe()\n",
    "# df['CP_F_READ_END_TIMESTAMP'].describe()"
   ]
  },
  {
   "cell_type": "code",
   "execution_count": null,
   "metadata": {},
   "outputs": [],
   "source": []
  }
 ],
 "metadata": {
  "kernelspec": {
   "display_name": "Python 3",
   "language": "python",
   "name": "python3"
  },
  "language_info": {
   "codemirror_mode": {
    "name": "ipython",
    "version": 3
   },
   "file_extension": ".py",
   "mimetype": "text/x-python",
   "name": "python",
   "nbconvert_exporter": "python",
   "pygments_lexer": "ipython3",
   "version": "3.6.8"
  }
 },
 "nbformat": 4,
 "nbformat_minor": 2
}
