{
 "cells": [
  {
   "cell_type": "code",
   "execution_count": 1,
   "metadata": {},
   "outputs": [],
   "source": [
    "import plotly.express as px\n",
    "import plotly.graph_objects as go\n",
    "from plotly.subplots import make_subplots\n",
    "import pandas as pd\n",
    "import numpy as np\n",
    "from sklearn import preprocessing\n",
    "from ipywidgets import interact, interactive, fixed, interact_manual\n",
    "import ipywidgets as widgets\n",
    "import glob"
   ]
  },
  {
   "cell_type": "code",
   "execution_count": 54,
   "metadata": {},
   "outputs": [],
   "source": [
    "machine = 'mira'\n",
    "# jobid = 1727422\n",
    "jobid =\t1726336"
   ]
  },
  {
   "cell_type": "code",
   "execution_count": null,
   "metadata": {},
   "outputs": [],
   "source": [
    "# Load log sources\n",
    "darshan_df = pd.read_csv('~/repos/jupyter-notebooks/data/mira_darshan_logs/ANL-ALCF-DARSHAN-MIRA_20190101_20191231.csv')\n",
    "autoperf_df = pd.read_csv('~/repos/jupyter-notebooks/data/autoperf_complete/ANL-ALCF-AUTOPERF-MIRA_20190101_20191231.csv')\n",
    "task_df = pd.read_csv('~/repos/jupyter-notebooks/data/mira_task_logs/ANL-ALCF-TH-MIRA_20190101_20191231.csv')\n",
    "djc_df = pd.read_csv('~/repos/jupyter-notebooks/data/mira_djc_logs/ANL-ALCF-DJC-MIRA_20190101_20191231.csv')\n",
    "ras_df = pd.read_csv('~/repos/jupyter-notebooks/data/mira_ras_logs/ANL-ALCF-RE-MIRA_20190101_20191231.csv')"
   ]
  },
  {
   "cell_type": "code",
   "execution_count": null,
   "metadata": {},
   "outputs": [],
   "source": [
    "# Filter log sources by jobid\n",
    "darshan_df = darshan_df[darshan_df['COBALT_JOBID'] == jobid]\n",
    "autoperf_df = autoperf_df[autoperf_df['PROC_CSJOBID'] == jobid]\n",
    "task_df = task_df[task_df['COBALT_JOBID'] == jobid]\n",
    "djc_df = djc_df[djc_df['COBALT_JOBID'] == jobid]\n",
    "ras_df = ras_df[ras_df['JOBID'] == jobid]"
   ]
  },
  {
   "cell_type": "code",
   "execution_count": null,
   "metadata": {},
   "outputs": [],
   "source": [
    "print (\"Job Info for Cobalt job\", jobid, \"on machine\", machine, '\\n')\n",
    "\n",
    "print( \"Tasks:\\t\\t\\t\\t\", len(task_df.index))\n",
    "print( \"Darshan entries available:\\t\", len(darshan_df.index))\n",
    "print( \"Autoperf entries available:\\t\", len(autoperf_df.index))\n",
    "print( \"Scheduler Log entries available:\", len(djc_df.index))\n",
    "print( \"RAS entries available:\\t\\t\", len(ras_df.index))"
   ]
  },
  {
   "cell_type": "code",
   "execution_count": null,
   "metadata": {},
   "outputs": [],
   "source": []
  }
 ],
 "metadata": {
  "kernelspec": {
   "display_name": "Python 3",
   "language": "python",
   "name": "python3"
  },
  "language_info": {
   "codemirror_mode": {
    "name": "ipython",
    "version": 3
   },
   "file_extension": ".py",
   "mimetype": "text/x-python",
   "name": "python",
   "nbconvert_exporter": "python",
   "pygments_lexer": "ipython3",
   "version": "3.7.7"
  }
 },
 "nbformat": 4,
 "nbformat_minor": 4
}
