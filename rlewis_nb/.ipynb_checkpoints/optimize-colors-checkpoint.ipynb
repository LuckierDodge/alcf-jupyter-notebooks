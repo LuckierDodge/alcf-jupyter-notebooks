{
 "cells": [
  {
   "cell_type": "code",
   "execution_count": 17,
   "metadata": {},
   "outputs": [],
   "source": [
    "# rgb2xyz, xyz2lab, and ciede2000 functions\n",
    "# Copyright (c) 2017, JAMES MASON\n",
    "# All rights reserved.\n",
    "#\n",
    "# xyz2rgb, lab2xyz and all other code\n",
    "# Copyright (c) 2020, DAVID KOOP\n",
    "# All rights reserved.\n",
    "#\n",
    "# Redistribution and use in source and binary forms, with or without\n",
    "# modification, are permitted provided that the following conditions are met:\n",
    "#     * Redistributions of source code must retain the above copyright\n",
    "#       notice, this list of conditions and the following disclaimer.\n",
    "#     * Redistributions in binary form must reproduce the above copyright\n",
    "#       notice, this list of conditions and the following disclaimer in the\n",
    "#       documentation and/or other materials provided with the distribution.\n",
    "#     * Neither the name of the author nor the\n",
    "#       names of its contributors may be used to endorse or promote products\n",
    "#       derived from this software without specific prior written permission.\n",
    "#\n",
    "# THIS SOFTWARE IS PROVIDED BY THE COPYRIGHT HOLDERS AND CONTRIBUTORS \"AS IS\" AND\n",
    "# ANY EXPRESS OR IMPLIED WARRANTIES, INCLUDING, BUT NOT LIMITED TO, THE IMPLIED\n",
    "# WARRANTIES OF MERCHANTABILITY AND FITNESS FOR A PARTICULAR PURPOSE ARE\n",
    "# DISCLAIMED. IN NO EVENT SHALL JAMES MASON BE LIABLE FOR ANY\n",
    "# DIRECT, INDIRECT, INCIDENTAL, SPECIAL, EXEMPLARY, OR CONSEQUENTIAL DAMAGES\n",
    "# (INCLUDING, BUT NOT LIMITED TO, PROCUREMENT OF SUBSTITUTE GOODS OR SERVICES;\n",
    "# LOSS OF USE, DATA, OR PROFITS; OR BUSINESS INTERRUPTION) HOWEVER CAUSED AND\n",
    "# ON ANY THEORY OF LIABILITY, WHETHER IN CONTRACT, STRICT LIABILITY, OR TORT\n",
    "# (INCLUDING NEGLIGENCE OR OTHERWISE) ARISING IN ANY WAY OUT OF THE USE OF THIS\n",
    "# SOFTWARE, EVEN IF ADVISED OF THE POSSIBILITY OF SUCH DAMAGE.\n",
    "\n",
    "import numpy as np\n",
    "\n",
    "# Converts RGB pixel array to XYZ format.\n",
    "# Implementation derived from http://www.easyrgb.com/en/math.php\n",
    "def rgb2xyz(rgb):\n",
    "    def format(c):\n",
    "        c = c / 255.\n",
    "        if c > 0.04045: c = ((c + 0.055) / 1.055) ** 2.4\n",
    "        else: c = c / 12.92\n",
    "        return c * 100\n",
    "    rgb = list(map(format, rgb))\n",
    "    xyz = [None, None, None]\n",
    "    xyz[0] = rgb[0] * 0.4124 + rgb[1] * 0.3576 + rgb[2] * 0.1805\n",
    "    xyz[1] = rgb[0] * 0.2126 + rgb[1] * 0.7152 + rgb[2] * 0.0722\n",
    "    xyz[2] = rgb[0] * 0.0193 + rgb[1] * 0.1192 + rgb[2] * 0.9505\n",
    "    return xyz\n",
    "\n",
    "# Converts XYZ pixel array to LAB format.\n",
    "# Implementation derived from http://www.easyrgb.com/en/math.php\n",
    "def xyz2lab(xyz):\n",
    "    def format(c):\n",
    "        if c > 0.008856: c = c ** (1. / 3.)\n",
    "        else: c = (7.787 * c) + (16. / 116.)\n",
    "        return c\n",
    "    xyz[0] = xyz[0] / 95.047\n",
    "    xyz[1] = xyz[1] / 100.00\n",
    "    xyz[2] = xyz[2] / 108.883\n",
    "    xyz = list(map(format, xyz))\n",
    "    lab = [None, None, None]\n",
    "    lab[0] = (116. * xyz[1]) - 16.\n",
    "    lab[1] = 500. * (xyz[0] - xyz[1])\n",
    "    lab[2] = 200. * (xyz[1] - xyz[2])\n",
    "    return lab\n",
    "\n",
    "# Converts RGB pixel array into LAB format.\n",
    "def rgb2lab(rgb):\n",
    "    return xyz2lab(rgb2xyz(rgb))"
   ]
  },
  {
   "cell_type": "code",
   "execution_count": 18,
   "metadata": {},
   "outputs": [],
   "source": [
    "# Implementation derived from http://www.easyrgb.com/en/math.php\n",
    "def lab2xyz(lab):\n",
    "    def format(v):\n",
    "        if v**3 > 0.008856: \n",
    "            v = v**3\n",
    "        else:\n",
    "            v = ((v - 16)/116) / 7.787\n",
    "        return v\n",
    "    y = (lab[0] + 16) / 116\n",
    "    x = lab[1] / 500 + y\n",
    "    z = y - lab[2] / 200\n",
    "    xyz = [format(x) * 95.047, format(y) * 100.0, format(z) * 108.883]\n",
    "    return xyz\n",
    "\n",
    "# Implementation derived from http://www.easyrgb.com/en/math.php\n",
    "def xyz2rgb(xyz):\n",
    "    x = xyz[0] / 100\n",
    "    y = xyz[1] / 100\n",
    "    z = xyz[2] / 100\n",
    "    \n",
    "    r = x * 3.2406 + y * -1.5372 + z * -0.4986\n",
    "    g = x * -0.9689 + y * 1.8758 + z * 0.0415\n",
    "    b = x * 0.0557 + y * -0.2040 + z * 1.0570\n",
    "    \n",
    "    def format(c):\n",
    "        if c > 0.0031308:\n",
    "            c = 1.055 * (c ** (1/2.4)) - 0.055\n",
    "        else:\n",
    "            c = 12.92 * c\n",
    "        return c\n",
    "    rgb = [format(r) * 255, format(g) * 255, format(b) * 255]\n",
    "    return rgb\n",
    "\n",
    "def lab2rgb(lab):\n",
    "    return xyz2rgb(lab2xyz(lab))"
   ]
  },
  {
   "cell_type": "code",
   "execution_count": 19,
   "metadata": {},
   "outputs": [],
   "source": [
    "# Returns CIEDE2000 comparison results of two LAB formatted colors.\n",
    "# Translated from CIEDE2000 implementation in https://github.com/markusn/color-diff\n",
    "def ciede2000(lab1, lab2):\n",
    "    def degrees(n): return n * (180. / np.pi)\n",
    "    def radians(n): return n * (np.pi / 180.)\n",
    "    def hpf(x, y):\n",
    "        if x == 0 and y == 0: return 0\n",
    "        else:\n",
    "            tmphp = degrees(np.arctan2(x, y))\n",
    "            if tmphp >= 0: return tmphp\n",
    "            else: return tmphp + 360.\n",
    "        return None\n",
    "    def dhpf(c1, c2, h1p, h2p):\n",
    "        if c1 * c2 == 0: return 0\n",
    "        elif np.abs(h2p - h1p) <= 180: return h2p - h1p\n",
    "        elif h2p - h1p > 180: return (h2p - h1p) - 360.\n",
    "        elif h2p - h1p < 180: return (h2p - h1p) + 360.\n",
    "        else: return None\n",
    "    def ahpf(c1, c2, h1p, h2p):\n",
    "        if c1 * c2 == 0: return h1p + h2p\n",
    "        elif np.abs(h1p - h2p) <= 180: return (h1p + h2p) / 2.\n",
    "        elif np.abs(h1p - h2p) > 180 and h1p + h2p < 360: return (h1p + h2p + 360.) / 2.\n",
    "        elif np.abs(h1p - h2p) > 180 and h1p + h2p >= 360: return (h1p + h2p - 360.) / 2.\n",
    "        return None\n",
    "    L1 = lab1[0]\n",
    "    A1 = lab1[1]\n",
    "    B1 = lab1[2]\n",
    "    L2 = lab2[0]\n",
    "    A2 = lab2[1]\n",
    "    B2 = lab2[2]\n",
    "    kL = 1\n",
    "    kC = 1\n",
    "    kH = 1\n",
    "    C1 = np.sqrt((A1 ** 2.) + (B1 ** 2.))\n",
    "    C2 = np.sqrt((A2 ** 2.) + (B2 ** 2.))\n",
    "    aC1C2 = (C1 + C2) / 2.\n",
    "    G = 0.5 * (1. - np.sqrt((aC1C2 ** 7.) / ((aC1C2 ** 7.) + (25. ** 7.))))\n",
    "    a1P = (1. + G) * A1\n",
    "    a2P = (1. + G) * A2\n",
    "    c1P = np.sqrt((a1P ** 2.) + (B1 ** 2.))\n",
    "    c2P = np.sqrt((a2P ** 2.) + (B2 ** 2.))\n",
    "    h1P = hpf(B1, a1P)\n",
    "    h2P = hpf(B2, a2P)\n",
    "    dLP = L2 - L1\n",
    "    dCP = c2P - c1P\n",
    "    dhP = dhpf(C1, C2, h1P, h2P)\n",
    "    dHP = 2. * np.sqrt(c1P * c2P) * np.sin(radians(dhP) / 2.)\n",
    "    aL = (L1 + L2) / 2.\n",
    "    aCP = (c1P + c2P) / 2.\n",
    "    aHP = ahpf(C1, C2, h1P, h2P)\n",
    "    T = 1. - 0.17 * np.cos(radians(aHP - 39)) + 0.24 * np.cos(radians(2. * aHP)) + 0.32 * np.cos(radians(3. * aHP + 6.)) - 0.2 * np.cos(radians(4. * aHP - 63.))\n",
    "    dRO = 30. * np.exp(-1. * (((aHP - 275.) / 25.) ** 2.))\n",
    "    rC = np.sqrt((aCP ** 7.) / ((aCP ** 7.) + (25. ** 7.)))\n",
    "    sL = 1. + ((0.015 * ((aL - 50.) ** 2.)) / np.sqrt(20. + ((aL - 50.) ** 2.)))\n",
    "    sC = 1. + 0.045 * aCP\n",
    "    sH = 1. + 0.015 * aCP * T\n",
    "    rT = -2. * rC * np.sin(radians(2. * dRO))\n",
    "    return np.sqrt(((dLP / (sL * kL)) ** 2.) + ((dCP / (sC * kC)) ** 2.) + ((dHP / (sH * kH)) ** 2.) + rT * (dCP / (sC * kC)) * (dHP / (sH * kH)))"
   ]
  },
  {
   "cell_type": "code",
   "execution_count": 20,
   "metadata": {},
   "outputs": [
    {
     "data": {
      "text/plain": [
       "['4e79a7',\n",
       " 'f28e2c',\n",
       " 'e15759',\n",
       " '76b7b2',\n",
       " '59a14f',\n",
       " 'edc949',\n",
       " 'af7aa1',\n",
       " 'ff9da7',\n",
       " '9c755f',\n",
       " 'bab0ab']"
      ]
     },
     "execution_count": 20,
     "metadata": {},
     "output_type": "execute_result"
    }
   ],
   "source": [
    "# str from D3\n",
    "tableau10_str = \"4e79a7f28e2ce1575976b7b259a14fedc949af7aa1ff9da79c755fbab0ab\"\n",
    "colors_html = [tableau10_str[i:i+6] for i in range(0, len(tableau10_str), 6)]"
   ]
  },
  {
   "cell_type": "code",
   "execution_count": 21,
   "metadata": {},
   "outputs": [
    {
     "data": {
      "text/html": [
       "<div style=\"background: #4e79a7;\">&nbsp;</div><div style=\"background: #f28e2c;\">&nbsp;</div><div style=\"background: #e15759;\">&nbsp;</div><div style=\"background: #76b7b2;\">&nbsp;</div><div style=\"background: #59a14f;\">&nbsp;</div><div style=\"background: #edc949;\">&nbsp;</div><div style=\"background: #af7aa1;\">&nbsp;</div><div style=\"background: #ff9da7;\">&nbsp;</div><div style=\"background: #9c755f;\">&nbsp;</div><div style=\"background: #bab0ab;\">&nbsp;</div>"
      ],
      "text/plain": [
       "<IPython.core.display.HTML object>"
      ]
     },
     "execution_count": 21,
     "metadata": {},
     "output_type": "execute_result"
    }
   ],
   "source": [
    "from IPython.display import HTML\n",
    "html_str = ''.join([f'<div style=\"background: #{c};\">&nbsp;</div>' for c in colors_html])    \n",
    "HTML(html_str)"
   ]
  },
  {
   "cell_type": "code",
   "execution_count": 22,
   "metadata": {},
   "outputs": [
    {
     "data": {
      "text/plain": [
       "[[78, 121, 167],\n",
       " [242, 142, 44],\n",
       " [225, 87, 89],\n",
       " [118, 183, 178],\n",
       " [89, 161, 79],\n",
       " [237, 201, 73],\n",
       " [175, 122, 161],\n",
       " [255, 157, 167],\n",
       " [156, 117, 95],\n",
       " [186, 176, 171]]"
      ]
     },
     "execution_count": 22,
     "metadata": {},
     "output_type": "execute_result"
    }
   ],
   "source": [
    "colors = [[int(c[i:i+2],16) for i in range(0,6,2)] for c in colors_html]"
   ]
  },
  {
   "cell_type": "code",
   "execution_count": 27,
   "metadata": {},
   "outputs": [
    {
     "data": {
      "text/plain": [
       "array([[160, 119,  95],\n",
       "       [229,  84,  86],\n",
       "       [ 80, 125, 165],\n",
       "       [ 80, 125, 171],\n",
       "       [234, 203,  70],\n",
       "       [171, 117, 165]])"
      ]
     },
     "execution_count": 27,
     "metadata": {},
     "output_type": "execute_result"
    }
   ],
   "source": [
    "import random\n",
    "import numpy as np\n",
    "in_colors = np.array([random.choice(colors) for i in range(6)])\n",
    "# perturb a bit since having the same color leads to multiple zeros\n",
    "in_colors += np.random.randint(-5,5,in_colors.shape)"
   ]
  },
  {
   "cell_type": "code",
   "execution_count": 28,
   "metadata": {},
   "outputs": [
    {
     "data": {
      "text/html": [
       "<div style=\"background: #a0775f;\">&nbsp;</div><div style=\"background: #e55456;\">&nbsp;</div><div style=\"background: #507da5;\">&nbsp;</div><div style=\"background: #507dab;\">&nbsp;</div><div style=\"background: #eacb46;\">&nbsp;</div><div style=\"background: #ab75a5;\">&nbsp;</div>"
      ],
      "text/plain": [
       "<IPython.core.display.HTML object>"
      ]
     },
     "execution_count": 28,
     "metadata": {},
     "output_type": "execute_result"
    }
   ],
   "source": [
    "from IPython.display import HTML\n",
    "html_str = ''.join([f'<div style=\"background: #{c[0]:02x}{c[1]:02x}{c[2]:02x};\">&nbsp;</div>' for c in in_colors])    \n",
    "HTML(html_str)"
   ]
  },
  {
   "cell_type": "code",
   "execution_count": null,
   "metadata": {},
   "outputs": [],
   "source": [
    "# # set up the initial simplex?\n",
    "# all_colors = []\n",
    "# all_diffs = []\n",
    "# for i in range(np.array(in_colors).shape[0]):\n",
    "#     for j in range(3):\n",
    "#         for k in range(2):\n",
    "#             new_color = np.array(in_colors)\n",
    "#             new_color[i,j] += 2*k-1\n",
    "#             all_diffs.append(dmin(new_color))\n",
    "# idxs = np.argsort(np.array(all_diffs))\n",
    "# all_diffs"
   ]
  },
  {
   "cell_type": "code",
   "execution_count": 29,
   "metadata": {},
   "outputs": [
    {
     "name": "stdout",
     "output_type": "stream",
     "text": [
      "Optimization terminated successfully.\n",
      "         Current function value: -44.105400\n",
      "         Iterations: 2537\n",
      "         Function evaluations: 3529\n"
     ]
    },
    {
     "data": {
      "text/plain": [
       " final_simplex: (array([[ 38.63956754,   3.08190178,  31.28234259,  96.05556424,\n",
       "        101.71193431,  41.85568959,   0.17361127,  -1.91760564,\n",
       "        -25.42331562, 100.        ,  -2.59395479, -17.77967342,\n",
       "         93.30185692,  -1.3994058 ,  68.64969964,  47.42954702,\n",
       "         41.03568648, -22.61847454],\n",
       "       [ 38.63960984,   3.08189688,  31.28235252,  96.05556743,\n",
       "        101.71186171,  41.85564539,   0.17362341,  -1.91760728,\n",
       "        -25.42325681, 100.        ,  -2.59395298, -17.77969434,\n",
       "         93.30187007,  -1.3994106 ,  68.64971623,  47.42960183,\n",
       "         41.03564768, -22.61846563],\n",
       "       [ 38.63955205,   3.08190276,  31.28234058,  96.05556282,\n",
       "        101.7119655 ,  41.85570701,   0.17360699,  -1.91760507,\n",
       "        -25.42333836, 100.        ,  -2.59395547, -17.77966328,\n",
       "         93.30185216,  -1.39940391,  68.64969735,  47.42952711,\n",
       "         41.03570166, -22.61847782],\n",
       "       [ 38.63957642,   3.08190109,  31.2823475 ,  96.05556339,\n",
       "        101.71192507,  41.8556799 ,   0.17361522,  -1.91760672,\n",
       "        -25.42330572, 100.        ,  -2.59395444, -17.77967414,\n",
       "         93.30185887,  -1.39940651,  68.64971772,  47.42956416,\n",
       "         41.03568771, -22.61846996],\n",
       "       [ 38.63952651,   3.08190876,  31.28233244,  96.05556203,\n",
       "        101.71199465,  41.85572658,   0.17359931,  -1.91760466,\n",
       "        -25.42337756, 100.        ,  -2.5939562 , -17.7796535 ,\n",
       "         93.3018441 ,  -1.3994015 ,  68.64969611,  47.42950292,\n",
       "         41.03572757, -22.61847848],\n",
       "       [ 38.63952857,   3.08190765,  31.2823329 ,  96.05556238,\n",
       "        101.71199366,  41.85572656,   0.17359966,  -1.91760442,\n",
       "        -25.42337338, 100.        ,  -2.5939562 , -17.77965453,\n",
       "         93.30184484,  -1.39940166,  68.64969071,  47.4295022 ,\n",
       "         41.03572283, -22.61847996],\n",
       "       [ 38.63953784,   3.08190606,  31.28233679,  96.05556267,\n",
       "        101.71198435,  41.85571936,   0.17360282,  -1.91760497,\n",
       "        -25.42336237, 100.        ,  -2.59395589, -17.77965603,\n",
       "         93.30184743,  -1.39940241,  68.64969803,  47.42951422,\n",
       "         41.03571744, -22.6184781 ],\n",
       "       [ 38.63953499,   3.08190688,  31.28233602,  96.05556231,\n",
       "        101.71198759,  41.85572109,   0.17360216,  -1.91760501,\n",
       "        -25.42336651, 100.        ,  -2.59395597, -17.77965501,\n",
       "         93.30184641,  -1.39940214,  68.64969933,  47.4295123 ,\n",
       "         41.03572147, -22.61847779],\n",
       "       [ 38.6395418 ,   3.08190465,  31.28233846,  96.05556317,\n",
       "        101.7119831 ,  41.85571874,   0.1736039 ,  -1.91760494,\n",
       "        -25.42335737, 100.        ,  -2.59395583, -17.77965617,\n",
       "         93.30184866,  -1.39940263,  68.64969569,  47.42951615,\n",
       "         41.03571264, -22.61847904],\n",
       "       [ 38.63953184,   3.08190861,  31.28233327,  96.05556224,\n",
       "        101.71198266,  41.85571914,   0.17360088,  -1.91760496,\n",
       "        -25.42336968, 100.        ,  -2.59395592, -17.77965716,\n",
       "         93.30184581,  -1.39940223,  68.64970032,  47.42951125,\n",
       "         41.03572327, -22.61847646],\n",
       "       [ 38.6395586 ,   3.08190125,  31.28234061,  96.05556461,\n",
       "        101.71195327,  41.85570259,   0.17360784,  -1.91760471,\n",
       "        -25.42332826, 100.        ,  -2.59395522, -17.77966785,\n",
       "         93.30185473,  -1.39940472,  68.64968754,  47.42953   ,\n",
       "         41.03568845, -22.61847933],\n",
       "       [ 38.63954577,   3.08190932,  31.28233603,  96.05556386,\n",
       "        101.71195421,  41.85570266,   0.17360536,  -1.9176062 ,\n",
       "        -25.42335442, 100.        ,  -2.59395521, -17.77966405,\n",
       "         93.30184908,  -1.39940377,  68.64971154,  47.42953591,\n",
       "         41.03571654, -22.61847054],\n",
       "       [ 38.63952146,   3.0819083 ,  31.28233106,  96.0555619 ,\n",
       "        101.71200536,  41.85573382,   0.17359743,  -1.91760405,\n",
       "        -25.42338307, 100.        ,  -2.59395648, -17.77965117,\n",
       "         93.30184293,  -1.39940091,  68.6496877 ,  47.42949224,\n",
       "         41.03572819, -22.61848163],\n",
       "       [ 38.63953112,   3.08190799,  31.28233548,  96.05556225,\n",
       "        101.71199421,  41.85572503,   0.17360128,  -1.91760516,\n",
       "        -25.4233743 , 100.        ,  -2.5939561 , -17.77965203,\n",
       "         93.3018448 ,  -1.39940162,  68.64970137,  47.42950993,\n",
       "         41.0357278 , -22.61847744],\n",
       "       [ 38.63953109,   3.08190977,  31.28233437,  96.05556201,\n",
       "        101.71198556,  41.85571958,   0.17360144,  -1.91760557,\n",
       "        -25.42337454, 100.        ,  -2.59395591, -17.77965444,\n",
       "         93.30184472,  -1.39940194,  68.64970896,  47.42951564,\n",
       "         41.0357307 , -22.61847422],\n",
       "       [ 38.63953143,   3.08190821,  31.28233555,  96.05556206,\n",
       "        101.71199256,  41.85572362,   0.17360148,  -1.91760527,\n",
       "        -25.42337381, 100.        ,  -2.59395606, -17.77965244,\n",
       "         93.3018449 ,  -1.3994017 ,  68.64970385,  47.4295115 ,\n",
       "         41.03572843, -22.61847668],\n",
       "       [ 38.63953314,   3.08190957,  31.28233483,  96.05556241,\n",
       "        101.7119828 ,  41.85571837,   0.17360201,  -1.91760565,\n",
       "        -25.4233723 , 100.        ,  -2.59395585, -17.77965512,\n",
       "         93.30184521,  -1.39940211,  68.64970825,  47.42951791,\n",
       "         41.03572882, -22.61847412],\n",
       "       [ 38.63952662,   3.08191093,  31.2823327 ,  96.05556221,\n",
       "        101.71199057,  41.85572365,   0.17359998,  -1.91760548,\n",
       "        -25.42338195, 100.        ,  -2.59395605, -17.77965271,\n",
       "         93.30184322,  -1.39940149,  68.64970689,  47.42951099,\n",
       "         41.03573479, -22.61847463],\n",
       "       [ 38.6395336 ,   3.08190849,  31.28233591,  96.05556233,\n",
       "        101.71198755,  41.85572073,   0.1736022 ,  -1.91760551,\n",
       "        -25.42337162, 100.        ,  -2.59395593, -17.77965362,\n",
       "         93.30184537,  -1.39940196,  68.64970619,  47.42951587,\n",
       "         41.03572775, -22.6184755 ]]), array([-44.10540029, -44.10539995, -44.10539983, -44.10539928,\n",
       "       -44.10539921, -44.10539915, -44.10539912, -44.10539911,\n",
       "       -44.10539899, -44.10539896, -44.10539894, -44.10539885,\n",
       "       -44.10539869, -44.10539866, -44.10539864, -44.10539863,\n",
       "       -44.10539859, -44.10539857, -44.1053985 ]))\n",
       "           fun: -44.10540028691481\n",
       "       message: 'Optimization terminated successfully.'\n",
       "          nfev: 3529\n",
       "           nit: 2537\n",
       "        status: 0\n",
       "       success: True\n",
       "             x: array([ 38.63956754,   3.08190178,  31.28234259,  96.05556424,\n",
       "       101.71193431,  41.85568959,   0.17361127,  -1.91760564,\n",
       "       -25.42331562, 100.        ,  -2.59395479, -17.77967342,\n",
       "        93.30185692,  -1.3994058 ,  68.64969964,  47.42954702,\n",
       "        41.03568648, -22.61847454])"
      ]
     },
     "execution_count": 29,
     "metadata": {},
     "output_type": "execute_result"
    }
   ],
   "source": [
    "# >>> x0 = np.array([1.3, 0.7, 0.8, 1.9, 1.2])\n",
    "# >>> res = minimize(rosen, x0, method='nelder-mead',\n",
    "\n",
    "import numpy as np\n",
    "from scipy.optimize import minimize\n",
    "from scipy.spatial.distance import pdist\n",
    "\n",
    "def dmin(x):\n",
    "#     colors = x.reshape((-1,3))\n",
    "#     np.clip(colors,0,255,colors)\n",
    "#     colors_lab = np.array([rgb2lab(c) for c in colors])\n",
    "    colors_lab = x.reshape((-1,3))\n",
    "    # normal L*a*b* range is L* -> [0-100], a* -> [-128,127], b* -> [-128,127]    \n",
    "    np.clip(colors_lab[:,0],0,100, colors_lab[:,0])\n",
    "    np.clip(colors_lab[:,1],-128,127, colors_lab[:,1])\n",
    "    np.clip(colors_lab[:,2],-128,127, colors_lab[:,2])\n",
    "    diffs = pdist(colors_lab, ciede2000)\n",
    "    return - np.min(diffs)\n",
    "\n",
    "x0 = np.array([rgb2lab(c) for c in in_colors]).reshape((1,-1))\n",
    "\n",
    "# // try a 3n ordering\n",
    "xout = minimize(dmin, x0, method='Nelder-Mead', options={'disp': True})"
   ]
  },
  {
   "cell_type": "code",
   "execution_count": 30,
   "metadata": {},
   "outputs": [
    {
     "data": {
      "text/html": [
       "<div style=\"background: #a0775f;\">&nbsp;</div><div style=\"background: #e55456;\">&nbsp;</div><div style=\"background: #507da5;\">&nbsp;</div><div style=\"background: #507dab;\">&nbsp;</div><div style=\"background: #eacb46;\">&nbsp;</div><div style=\"background: #ab75a5;\">&nbsp;</div>"
      ],
      "text/plain": [
       "<IPython.core.display.HTML object>"
      ]
     },
     "execution_count": 30,
     "metadata": {},
     "output_type": "execute_result"
    }
   ],
   "source": [
    "from IPython.display import HTML\n",
    "html_str = ''.join([f'<div style=\"background: #{c[0]:02x}{c[1]:02x}{c[2]:02x};\">&nbsp;</div>' for c in in_colors])    \n",
    "HTML(html_str)"
   ]
  },
  {
   "cell_type": "code",
   "execution_count": 31,
   "metadata": {},
   "outputs": [
    {
     "data": {
      "text/html": [
       "<div style=\"background: #6e5827;\">&nbsp;</div><div style=\"background: #ff86aa;\">&nbsp;</div><div style=\"background: #00002b;\">&nbsp;</div><div style=\"background: #e6ffff;\">&nbsp;</div><div style=\"background: #ffe961;\">&nbsp;</div><div style=\"background: #a15597;\">&nbsp;</div>"
      ],
      "text/plain": [
       "<IPython.core.display.HTML object>"
      ]
     },
     "execution_count": 31,
     "metadata": {},
     "output_type": "execute_result"
    }
   ],
   "source": [
    "from IPython.display import HTML\n",
    "# out_colors = np.round(xout.x).astype(int).reshape((-1,3))\n",
    "out_colors = np.clip(np.round(np.array([lab2rgb(c) for c in xout.x.reshape((-1,3))])).astype(int),0,255)\n",
    "html_str = ''.join([f'<div style=\"background: #{c[0]:02x}{c[1]:02x}{c[2]:02x};\">&nbsp;</div>' for c in out_colors])    \n",
    "HTML(html_str)"
   ]
  },
  {
   "cell_type": "code",
   "execution_count": null,
   "metadata": {},
   "outputs": [],
   "source": []
  }
 ],
 "metadata": {
  "kernelspec": {
   "display_name": "Python 3",
   "language": "python",
   "name": "python3"
  },
  "language_info": {
   "codemirror_mode": {
    "name": "ipython",
    "version": 3
   },
   "file_extension": ".py",
   "mimetype": "text/x-python",
   "name": "python",
   "nbconvert_exporter": "python",
   "pygments_lexer": "ipython3",
   "version": "3.8.1"
  }
 },
 "nbformat": 4,
 "nbformat_minor": 4
}
