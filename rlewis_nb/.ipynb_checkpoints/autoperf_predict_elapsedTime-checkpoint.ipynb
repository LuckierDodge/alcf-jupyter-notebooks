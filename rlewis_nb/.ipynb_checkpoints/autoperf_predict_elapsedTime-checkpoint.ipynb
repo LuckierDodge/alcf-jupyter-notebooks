{
 "cells": [
  {
   "cell_type": "code",
   "execution_count": 1,
   "metadata": {},
   "outputs": [],
   "source": [
    "import pandas as pd\n",
    "import numpy as np\n",
    "import glob\n",
    "from matplotlib import pyplot as plt\n",
    "from sklearn import metrics\n",
    "pd.options.display.max_columns = 1200\n",
    "pd.options.display.max_rows = 1200"
   ]
  },
  {
   "cell_type": "markdown",
   "metadata": {},
   "source": [
    "# Read in and Prep Data"
   ]
  },
  {
   "cell_type": "code",
   "execution_count": 2,
   "metadata": {},
   "outputs": [
    {
     "name": "stderr",
     "output_type": "stream",
     "text": [
      "/home/luckierdodge/miniconda3/envs/jupyterlab/lib/python3.7/site-packages/IPython/core/interactiveshell.py:3051: DtypeWarning: Columns (877) have mixed types.Specify dtype option on import or set low_memory=False.\n",
      "  interactivity=interactivity, compiler=compiler, result=result)\n"
     ]
    }
   ],
   "source": [
    "# df = pd.read_csv('data/autoperf_filtered_1000000ch', header=0).sample(frac=1)\n",
    "df = pd.read_csv('../data/composed/mira_top_20.csv', header=0).sample(frac=1)\n",
    "\n",
    "# li = []\n",
    "# for filename in glob.glob(\"/home/luckierdodge/repos/jupyter-notebooks/data/autoperf_complete/autoperf-201*.csv\"):\n",
    "#     frame = pd.read_csv(filename, header=0)\n",
    "#     li.append(frame)\n",
    "# df = pd.concat(li, axis=0, ignore_index=True)\n",
    "\n",
    "# df.dropna(inplace=True);"
   ]
  },
  {
   "cell_type": "code",
   "execution_count": 3,
   "metadata": {},
   "outputs": [],
   "source": [
    "# counts = df.zero_execName.value_counts().to_dict()\n",
    "# df_filtered = pd.DataFrame()\n",
    "# for name in counts:\n",
    "#     if counts[name] >= 500:\n",
    "#         df_filtered = df_filtered.append(df[df[\"zero_execName\"] == name])\n",
    "# df = df_filtered.copy()"
   ]
  },
  {
   "cell_type": "code",
   "execution_count": 4,
   "metadata": {},
   "outputs": [
    {
     "data": {
      "text/plain": [
       "count    57006.000000\n",
       "mean      3353.821631\n",
       "std       9283.513657\n",
       "min          0.000535\n",
       "25%        277.108701\n",
       "50%        981.541019\n",
       "75%       1672.278065\n",
       "max      86128.186225\n",
       "Name: zero_elapsedTime, dtype: float64"
      ]
     },
     "execution_count": 4,
     "metadata": {},
     "output_type": "execute_result"
    }
   ],
   "source": [
    "df.zero_elapsedTime.describe()"
   ]
  },
  {
   "cell_type": "code",
   "execution_count": 5,
   "metadata": {},
   "outputs": [],
   "source": [
    "train_size = .8\n",
    "train = df.head(int(df.size * train_size))\n",
    "test = df.tail(int(df.size * (1-train_size)))"
   ]
  },
  {
   "cell_type": "code",
   "execution_count": 6,
   "metadata": {},
   "outputs": [],
   "source": [
    "features = [\"zero_execName\", \"zero_userName\"]\n",
    "targets = [\"zero_elapsedTime\"]\n",
    "# targets = [\"zero_numRanks\"]\n",
    "\n",
    "X_train = train[features]\n",
    "X_test = test[features]\n",
    "Y_train = train[targets]\n",
    "Y_test = train[targets]"
   ]
  },
  {
   "cell_type": "markdown",
   "metadata": {},
   "source": [
    "# Linear Regression using SciKit Learn (One-Hot Encoding)"
   ]
  },
  {
   "cell_type": "code",
   "execution_count": 7,
   "metadata": {},
   "outputs": [
    {
     "data": {
      "text/plain": [
       "OneHotEncoder(categories='auto', drop=None, dtype=<class 'numpy.float64'>,\n",
       "              handle_unknown='ignore', sparse=True)"
      ]
     },
     "execution_count": 7,
     "metadata": {},
     "output_type": "execute_result"
    }
   ],
   "source": [
    "from sklearn import preprocessing\n",
    "from sklearn.preprocessing import OneHotEncoder\n",
    "enc = OneHotEncoder(handle_unknown='ignore', sparse=True)\n",
    "enc.fit(X_train.values)"
   ]
  },
  {
   "cell_type": "code",
   "execution_count": 8,
   "metadata": {},
   "outputs": [],
   "source": [
    "X_train_one_hot = enc.transform(X_train.values)\n",
    "X_test_one_hot = enc.transform(X_test.values)"
   ]
  },
  {
   "cell_type": "code",
   "execution_count": 9,
   "metadata": {},
   "outputs": [
    {
     "data": {
      "text/plain": [
       "LinearRegression(copy_X=True, fit_intercept=False, n_jobs=None, normalize=False)"
      ]
     },
     "execution_count": 9,
     "metadata": {},
     "output_type": "execute_result"
    }
   ],
   "source": [
    "from sklearn.linear_model import LinearRegression\n",
    "\n",
    "model = LinearRegression(fit_intercept=False)\n",
    "model.fit(X_train_one_hot, Y_train)"
   ]
  },
  {
   "cell_type": "code",
   "execution_count": 10,
   "metadata": {},
   "outputs": [
    {
     "data": {
      "text/plain": [
       "0.5468586354105298"
      ]
     },
     "execution_count": 10,
     "metadata": {},
     "output_type": "execute_result"
    }
   ],
   "source": [
    "model.score(X_test_one_hot, Y_test)"
   ]
  },
  {
   "cell_type": "code",
   "execution_count": 11,
   "metadata": {},
   "outputs": [
    {
     "data": {
      "text/plain": [
       "6249.214409670535"
      ]
     },
     "execution_count": 11,
     "metadata": {},
     "output_type": "execute_result"
    }
   ],
   "source": [
    "import math\n",
    "Y_predict = model.predict(X_test_one_hot)\n",
    "regression_model_mse = metrics.mean_squared_error(Y_predict, Y_test)\n",
    "math.sqrt(regression_model_mse)"
   ]
  },
  {
   "cell_type": "code",
   "execution_count": 12,
   "metadata": {},
   "outputs": [
    {
     "name": "stdout",
     "output_type": "stream",
     "text": [
      "[0.07255714]\n"
     ]
    }
   ],
   "source": [
    "print(math.sqrt(regression_model_mse) / (max(Y_test.values) - min(Y_test.values)))"
   ]
  },
  {
   "cell_type": "markdown",
   "metadata": {},
   "source": [
    "# Keras Analysis"
   ]
  },
  {
   "cell_type": "code",
   "execution_count": 26,
   "metadata": {},
   "outputs": [
    {
     "name": "stdout",
     "output_type": "stream",
     "text": [
      "WARNING:tensorflow:From /home/luckierdodge/miniconda3/envs/jupyterlab/lib/python3.7/site-packages/tensorflow_core/python/compat/v2_compat.py:88: disable_resource_variables (from tensorflow.python.ops.variable_scope) is deprecated and will be removed in a future version.\n",
      "Instructions for updating:\n",
      "non-resource variables are not supported in the long term\n"
     ]
    },
    {
     "name": "stderr",
     "output_type": "stream",
     "text": [
      "WARNING:tensorflow:From /home/luckierdodge/miniconda3/envs/jupyterlab/lib/python3.7/site-packages/tensorflow_core/python/compat/v2_compat.py:88: disable_resource_variables (from tensorflow.python.ops.variable_scope) is deprecated and will be removed in a future version.\n",
      "Instructions for updating:\n",
      "non-resource variables are not supported in the long term\n"
     ]
    }
   ],
   "source": [
    "import tensorflow.compat.v1 as tf\n",
    "tf.disable_v2_behavior()"
   ]
  },
  {
   "cell_type": "code",
   "execution_count": 27,
   "metadata": {},
   "outputs": [],
   "source": [
    "train_examples = X_train_one_hot\n",
    "train_targets = Y_train\n",
    "test_examples = X_test_one_hot\n",
    "test_targets = Y_test"
   ]
  },
  {
   "cell_type": "code",
   "execution_count": 28,
   "metadata": {},
   "outputs": [
    {
     "data": {
      "text/plain": [
       "(57006, 1)"
      ]
     },
     "execution_count": 28,
     "metadata": {},
     "output_type": "execute_result"
    }
   ],
   "source": [
    "train_targets.shape"
   ]
  },
  {
   "cell_type": "code",
   "execution_count": 29,
   "metadata": {},
   "outputs": [
    {
     "name": "stdout",
     "output_type": "stream",
     "text": [
      "WARNING:tensorflow:From /home/luckierdodge/miniconda3/envs/jupyterlab/lib/python3.7/site-packages/tensorflow_core/python/ops/resource_variable_ops.py:1635: calling BaseResourceVariable.__init__ (from tensorflow.python.ops.resource_variable_ops) with constraint is deprecated and will be removed in a future version.\n",
      "Instructions for updating:\n",
      "If using Keras pass *_constraint arguments to layers.\n"
     ]
    },
    {
     "name": "stderr",
     "output_type": "stream",
     "text": [
      "WARNING:tensorflow:From /home/luckierdodge/miniconda3/envs/jupyterlab/lib/python3.7/site-packages/tensorflow_core/python/ops/resource_variable_ops.py:1635: calling BaseResourceVariable.__init__ (from tensorflow.python.ops.resource_variable_ops) with constraint is deprecated and will be removed in a future version.\n",
      "Instructions for updating:\n",
      "If using Keras pass *_constraint arguments to layers.\n"
     ]
    }
   ],
   "source": [
    "model = tf.keras.models.Sequential()\n",
    "model.add(tf.keras.layers.Dense(64, activation='relu', input_shape=(train_examples.shape[1],)))\n",
    "model.add(tf.keras.layers.BatchNormalization())\n",
    "model.add(tf.keras.layers.Dense(64, activation='relu',))\n",
    "model.add(tf.keras.layers.BatchNormalization())\n",
    "model.add(tf.keras.layers.Dense(1))"
   ]
  },
  {
   "cell_type": "code",
   "execution_count": 30,
   "metadata": {},
   "outputs": [],
   "source": [
    "optimizer = tf.keras.optimizers.RMSprop(0.001)\n",
    "model.compile(optimizer=optimizer,\n",
    "             loss='mean_squared_error',\n",
    "             metrics=['mean_absolute_error', 'mean_squared_error'],\n",
    "             )"
   ]
  },
  {
   "cell_type": "code",
   "execution_count": 31,
   "metadata": {},
   "outputs": [
    {
     "name": "stdout",
     "output_type": "stream",
     "text": [
      "Train on 57006 samples\n",
      "Epoch 1/10\n",
      "57006/57006 [==============================] - 2s 43us/sample - loss: 95896323.8769 - mean_absolute_error: 3303.8218 - mean_squared_error: 95896432.0000\n",
      "Epoch 2/10\n",
      "57006/57006 [==============================] - 2s 39us/sample - loss: 89720437.9281 - mean_absolute_error: 3083.6045 - mean_squared_error: 89720488.0000\n",
      "Epoch 3/10\n",
      "57006/57006 [==============================] - 2s 39us/sample - loss: 80509065.5680 - mean_absolute_error: 2781.7654 - mean_squared_error: 80509088.0000\n",
      "Epoch 4/10\n",
      "57006/57006 [==============================] - 2s 39us/sample - loss: 70817709.0859 - mean_absolute_error: 2572.7539 - mean_squared_error: 70817712.0000\n",
      "Epoch 5/10\n",
      "57006/57006 [==============================] - 2s 40us/sample - loss: 62948425.3274 - mean_absolute_error: 2622.0317 - mean_squared_error: 62948388.0000\n",
      "Epoch 6/10\n",
      "57006/57006 [==============================] - 2s 40us/sample - loss: 57353573.6242 - mean_absolute_error: 2756.9236 - mean_squared_error: 57353600.0000\n",
      "Epoch 7/10\n",
      "57006/57006 [==============================] - 2s 41us/sample - loss: 54684274.6540 - mean_absolute_error: 2824.0935 - mean_squared_error: 54684316.0000\n",
      "Epoch 8/10\n",
      "57006/57006 [==============================] - 2s 40us/sample - loss: 52582220.9281 - mean_absolute_error: 2849.4136 - mean_squared_error: 52582192.0000\n",
      "Epoch 9/10\n",
      "57006/57006 [==============================] - 2s 39us/sample - loss: 50732039.3106 - mean_absolute_error: 2833.8962 - mean_squared_error: 50732064.0000\n",
      "Epoch 10/10\n",
      "57006/57006 [==============================] - 2s 39us/sample - loss: 49398174.6499 - mean_absolute_error: 2805.6409 - mean_squared_error: 49398176.0000\n"
     ]
    },
    {
     "data": {
      "text/plain": [
       "<tensorflow.python.keras.callbacks.History at 0x7fb9498bd250>"
      ]
     },
     "execution_count": 31,
     "metadata": {},
     "output_type": "execute_result"
    }
   ],
   "source": [
    "model.fit(train_examples, train_targets, epochs=10)"
   ]
  },
  {
   "cell_type": "code",
   "execution_count": 32,
   "metadata": {},
   "outputs": [
    {
     "name": "stdout",
     "output_type": "stream",
     "text": [
      "57006/57006 [==============================] - 1s 18us/sample - loss: 42473673.9440 - mean_absolute_error: 2527.7949 - mean_squared_error: 42473656.0000\n"
     ]
    }
   ],
   "source": [
    "test_loss, test_abs_err, test_sqr_err = model.evaluate(test_examples, test_targets)\n",
    "# print('Test accuracy:', test_acc)"
   ]
  },
  {
   "cell_type": "code",
   "execution_count": 34,
   "metadata": {},
   "outputs": [
    {
     "name": "stdout",
     "output_type": "stream",
     "text": [
      "0.7021652560763889\n"
     ]
    }
   ],
   "source": [
    "print(test_abs_err / 3600)"
   ]
  },
  {
   "cell_type": "code",
   "execution_count": null,
   "metadata": {},
   "outputs": [],
   "source": []
  },
  {
   "cell_type": "code",
   "execution_count": null,
   "metadata": {},
   "outputs": [],
   "source": []
  }
 ],
 "metadata": {
  "kernelspec": {
   "display_name": "Python 3",
   "language": "python",
   "name": "python3"
  },
  "language_info": {
   "codemirror_mode": {
    "name": "ipython",
    "version": 3
   },
   "file_extension": ".py",
   "mimetype": "text/x-python",
   "name": "python",
   "nbconvert_exporter": "python",
   "pygments_lexer": "ipython3",
   "version": "3.7.6"
  }
 },
 "nbformat": 4,
 "nbformat_minor": 4
}
