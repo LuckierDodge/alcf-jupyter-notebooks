{
 "cells": [
  {
   "cell_type": "code",
   "execution_count": 1,
   "metadata": {},
   "outputs": [],
   "source": [
    "import pandas as pd\n",
    "import numpy as np\n",
    "import glob\n",
    "from matplotlib import pyplot as plt\n",
    "from sklearn import metrics\n",
    "pd.options.display.max_columns = 1200\n",
    "pd.options.display.max_rows = 1200"
   ]
  },
  {
   "cell_type": "markdown",
   "metadata": {},
   "source": [
    "# Read in and Prep Data"
   ]
  },
  {
   "cell_type": "code",
   "execution_count": 2,
   "metadata": {},
   "outputs": [],
   "source": [
    "df = pd.read_csv('data/autoperf_filtered_1000000ch', header=0).sample(frac=1)\n",
    "\n",
    "# li = []\n",
    "# for filename in glob.glob(\"/home/luckierdodge/repos/jupyter-notebooks/data/autoperf_complete/autoperf-201*.csv\"):\n",
    "#     frame = pd.read_csv(filename, header=0)\n",
    "#     li.append(frame)\n",
    "# df = pd.concat(li, axis=0, ignore_index=True)\n",
    "\n",
    "# df.dropna(inplace=True);"
   ]
  },
  {
   "cell_type": "code",
   "execution_count": 3,
   "metadata": {},
   "outputs": [],
   "source": [
    "# counts = df.zero_execName.value_counts().to_dict()\n",
    "# df_filtered = pd.DataFrame()\n",
    "# for name in counts:\n",
    "#     if counts[name] >= 500:\n",
    "#         df_filtered = df_filtered.append(df[df[\"zero_execName\"] == name])\n",
    "# df = df_filtered.copy()"
   ]
  },
  {
   "cell_type": "code",
   "execution_count": 4,
   "metadata": {},
   "outputs": [
    {
     "data": {
      "text/plain": [
       "count    953803.000000\n",
       "mean       2484.694284\n",
       "std        6904.244183\n",
       "min           0.000409\n",
       "25%          55.176543\n",
       "50%         568.214495\n",
       "75%        2597.903987\n",
       "max       86150.320240\n",
       "Name: zero_elapsedTime, dtype: float64"
      ]
     },
     "execution_count": 4,
     "metadata": {},
     "output_type": "execute_result"
    }
   ],
   "source": [
    "df.zero_elapsedTime.describe()"
   ]
  },
  {
   "cell_type": "code",
   "execution_count": 5,
   "metadata": {},
   "outputs": [],
   "source": [
    "train_size = .8\n",
    "train = df.head(int(df.size * train_size))\n",
    "test = df.tail(int(df.size * (1-train_size)))"
   ]
  },
  {
   "cell_type": "code",
   "execution_count": 6,
   "metadata": {},
   "outputs": [],
   "source": [
    "features = [\"zero_execName\", \"zero_userName\"]\n",
    "# targets = [\"zero_elapsedTime\"]\n",
    "targets = [\"zero_numRanks\"]\n",
    "\n",
    "X_train = train[features]\n",
    "X_test = test[features]\n",
    "Y_train = train[targets]\n",
    "Y_test = train[targets]"
   ]
  },
  {
   "cell_type": "markdown",
   "metadata": {},
   "source": [
    "# Linear Regression using SciKit Learn (One-Hot Encoding)"
   ]
  },
  {
   "cell_type": "code",
   "execution_count": 7,
   "metadata": {},
   "outputs": [
    {
     "data": {
      "text/plain": [
       "OneHotEncoder(categorical_features=None, categories=None, drop=None,\n",
       "              dtype=<class 'numpy.float64'>, handle_unknown='ignore',\n",
       "              n_values=None, sparse=True)"
      ]
     },
     "execution_count": 7,
     "metadata": {},
     "output_type": "execute_result"
    }
   ],
   "source": [
    "from sklearn import preprocessing\n",
    "from sklearn.preprocessing import OneHotEncoder\n",
    "enc = OneHotEncoder(handle_unknown='ignore', sparse=True)\n",
    "enc.fit(X_train.values)"
   ]
  },
  {
   "cell_type": "code",
   "execution_count": 8,
   "metadata": {},
   "outputs": [],
   "source": [
    "X_train_one_hot = enc.transform(X_train.values)\n",
    "X_test_one_hot = enc.transform(X_test.values)"
   ]
  },
  {
   "cell_type": "code",
   "execution_count": 9,
   "metadata": {},
   "outputs": [
    {
     "data": {
      "text/plain": [
       "LinearRegression(copy_X=True, fit_intercept=False, n_jobs=None, normalize=False)"
      ]
     },
     "execution_count": 9,
     "metadata": {},
     "output_type": "execute_result"
    }
   ],
   "source": [
    "from sklearn.linear_model import LinearRegression\n",
    "\n",
    "model = LinearRegression(fit_intercept=False)\n",
    "model.fit(X_train_one_hot, Y_train)"
   ]
  },
  {
   "cell_type": "code",
   "execution_count": 10,
   "metadata": {},
   "outputs": [
    {
     "data": {
      "text/plain": [
       "0.4972724355989899"
      ]
     },
     "execution_count": 10,
     "metadata": {},
     "output_type": "execute_result"
    }
   ],
   "source": [
    "model.score(X_test_one_hot, Y_test)"
   ]
  },
  {
   "cell_type": "code",
   "execution_count": 11,
   "metadata": {},
   "outputs": [
    {
     "data": {
      "text/plain": [
       "20519.52016717523"
      ]
     },
     "execution_count": 11,
     "metadata": {},
     "output_type": "execute_result"
    }
   ],
   "source": [
    "import math\n",
    "Y_predict = model.predict(X_test_one_hot)\n",
    "regression_model_mse = metrics.mean_squared_error(Y_predict, Y_test)\n",
    "math.sqrt(regression_model_mse)"
   ]
  },
  {
   "cell_type": "code",
   "execution_count": 12,
   "metadata": {},
   "outputs": [
    {
     "name": "stdout",
     "output_type": "stream",
     "text": [
      "[0.01956896]\n"
     ]
    }
   ],
   "source": [
    "print(math.sqrt(regression_model_mse) / (max(Y_test.values) - min(Y_test.values)))"
   ]
  },
  {
   "cell_type": "markdown",
   "metadata": {},
   "source": [
    "# Keras Analysis"
   ]
  },
  {
   "cell_type": "code",
   "execution_count": 13,
   "metadata": {},
   "outputs": [],
   "source": [
    "import tensorflow as tf"
   ]
  },
  {
   "cell_type": "code",
   "execution_count": 14,
   "metadata": {},
   "outputs": [],
   "source": [
    "train_examples = X_train_one_hot\n",
    "train_targets = Y_train\n",
    "test_examples = X_test_one_hot\n",
    "test_targets = Y_test"
   ]
  },
  {
   "cell_type": "code",
   "execution_count": 15,
   "metadata": {},
   "outputs": [
    {
     "data": {
      "text/plain": [
       "(953803, 1)"
      ]
     },
     "execution_count": 15,
     "metadata": {},
     "output_type": "execute_result"
    }
   ],
   "source": [
    "train_targets.shape"
   ]
  },
  {
   "cell_type": "code",
   "execution_count": 16,
   "metadata": {},
   "outputs": [
    {
     "name": "stdout",
     "output_type": "stream",
     "text": [
      "WARNING:tensorflow:From /home/luckierdodge/anaconda3/envs/autoperf_tf/lib/python3.7/site-packages/tensorflow/python/ops/resource_variable_ops.py:435: colocate_with (from tensorflow.python.framework.ops) is deprecated and will be removed in a future version.\n",
      "Instructions for updating:\n",
      "Colocations handled automatically by placer.\n"
     ]
    }
   ],
   "source": [
    "model = tf.keras.models.Sequential()\n",
    "model.add(tf.keras.layers.Dense(64, activation='relu', input_shape=(train_examples.shape[1],)))\n",
    "model.add(tf.keras.layers.BatchNormalization())\n",
    "model.add(tf.keras.layers.Dense(64, activation='relu',))\n",
    "model.add(tf.keras.layers.BatchNormalization())\n",
    "model.add(tf.keras.layers.Dense(1))"
   ]
  },
  {
   "cell_type": "code",
   "execution_count": 17,
   "metadata": {},
   "outputs": [
    {
     "name": "stdout",
     "output_type": "stream",
     "text": [
      "WARNING:tensorflow:From /home/luckierdodge/anaconda3/envs/autoperf_tf/lib/python3.7/site-packages/tensorflow/python/keras/utils/losses_utils.py:170: to_float (from tensorflow.python.ops.math_ops) is deprecated and will be removed in a future version.\n",
      "Instructions for updating:\n",
      "Use tf.cast instead.\n"
     ]
    }
   ],
   "source": [
    "optimizer = tf.keras.optimizers.RMSprop(0.001)\n",
    "model.compile(optimizer=optimizer,\n",
    "             loss='mean_squared_error',\n",
    "             metrics=['mean_absolute_error', 'mean_squared_error'],\n",
    "             )"
   ]
  },
  {
   "cell_type": "code",
   "execution_count": 18,
   "metadata": {},
   "outputs": [
    {
     "name": "stdout",
     "output_type": "stream",
     "text": [
      "WARNING:tensorflow:From /home/luckierdodge/anaconda3/envs/autoperf_tf/lib/python3.7/site-packages/tensorflow/python/ops/math_ops.py:3066: to_int32 (from tensorflow.python.ops.math_ops) is deprecated and will be removed in a future version.\n",
      "Instructions for updating:\n",
      "Use tf.cast instead.\n",
      "Epoch 1/10\n",
      "953803/953803 [==============================] - 88s 92us/sample - loss: 663849366.9262 - mean_absolute_error: 6721.5493 - mean_squared_error: 663849088.0000\n",
      "Epoch 2/10\n",
      "953803/953803 [==============================] - 89s 93us/sample - loss: 471916671.3758 - mean_absolute_error: 6140.2339 - mean_squared_error: 471917472.0000\n",
      "Epoch 3/10\n",
      "953803/953803 [==============================] - 86s 90us/sample - loss: 453970114.6109 - mean_absolute_error: 6196.8809 - mean_squared_error: 453969280.0000\n",
      "Epoch 4/10\n",
      "953803/953803 [==============================] - 85s 89us/sample - loss: 448583565.8573 - mean_absolute_error: 6256.0347 - mean_squared_error: 448582528.0000\n",
      "Epoch 5/10\n",
      "953803/953803 [==============================] - 90s 94us/sample - loss: 446950403.3604 - mean_absolute_error: 6260.9321 - mean_squared_error: 446951040.0000\n",
      "Epoch 6/10\n",
      "953803/953803 [==============================] - 86s 91us/sample - loss: 444443900.3696 - mean_absolute_error: 6216.4502 - mean_squared_error: 444442784.0000\n",
      "Epoch 7/10\n",
      "953803/953803 [==============================] - 87s 91us/sample - loss: 443743488.9774 - mean_absolute_error: 6229.7461 - mean_squared_error: 443742528.0000\n",
      "Epoch 8/10\n",
      "953803/953803 [==============================] - 87s 91us/sample - loss: 444580737.3959 - mean_absolute_error: 6258.4355 - mean_squared_error: 444578848.0000\n",
      "Epoch 9/10\n",
      "953803/953803 [==============================] - 87s 91us/sample - loss: 442306089.1496 - mean_absolute_error: 6233.5000 - mean_squared_error: 442305792.0000\n",
      "Epoch 10/10\n",
      "953803/953803 [==============================] - 87s 91us/sample - loss: 443404418.9839 - mean_absolute_error: 6236.8799 - mean_squared_error: 443406496.0000\n"
     ]
    },
    {
     "data": {
      "text/plain": [
       "<tensorflow.python.keras.callbacks.History at 0x7f2a4d107be0>"
      ]
     },
     "execution_count": 18,
     "metadata": {},
     "output_type": "execute_result"
    }
   ],
   "source": [
    "model.fit(train_examples, train_targets, epochs=10)"
   ]
  },
  {
   "cell_type": "code",
   "execution_count": 19,
   "metadata": {},
   "outputs": [
    {
     "name": "stdout",
     "output_type": "stream",
     "text": [
      "953803/953803 [==============================] - 60s 63us/sample - loss: 1493486356.7562 - mean_absolute_error: 5767.9385 - mean_squared_error: 1493493760.0000\n"
     ]
    }
   ],
   "source": [
    "test_loss, test_abs_err, test_sqr_err = model.evaluate(test_examples, test_targets)\n",
    "# print('Test accuracy:', test_acc)"
   ]
  },
  {
   "cell_type": "code",
   "execution_count": 20,
   "metadata": {},
   "outputs": [
    {
     "name": "stdout",
     "output_type": "stream",
     "text": [
      "[0.00550074]\n"
     ]
    }
   ],
   "source": [
    "print(test_abs_err / (max(test_targets.values) - min(test_targets.values)))"
   ]
  },
  {
   "cell_type": "code",
   "execution_count": null,
   "metadata": {},
   "outputs": [],
   "source": []
  },
  {
   "cell_type": "code",
   "execution_count": null,
   "metadata": {},
   "outputs": [],
   "source": []
  }
 ],
 "metadata": {
  "kernelspec": {
   "display_name": "Python 3",
   "language": "python",
   "name": "python3"
  },
  "language_info": {
   "codemirror_mode": {
    "name": "ipython",
    "version": 3
   },
   "file_extension": ".py",
   "mimetype": "text/x-python",
   "name": "python",
   "nbconvert_exporter": "python",
   "pygments_lexer": "ipython3",
   "version": "3.7.3"
  }
 },
 "nbformat": 4,
 "nbformat_minor": 2
}
