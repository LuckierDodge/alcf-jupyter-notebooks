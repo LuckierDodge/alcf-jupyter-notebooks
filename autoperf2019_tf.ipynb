{
 "cells": [
  {
   "cell_type": "code",
   "execution_count": 1,
   "metadata": {},
   "outputs": [],
   "source": [
    "import pandas as pd\n",
    "import numpy as np\n",
    "import glob\n",
    "import tensorflow as tf\n",
    "from matplotlib import pyplot as plt\n",
    "from sklearn import metrics\n",
    "from tensorflow.python.data import Dataset\n",
    "pd.options.display.max_columns = 1200\n",
    "pd.options.display.max_rows = 1200"
   ]
  },
  {
   "cell_type": "code",
   "execution_count": 2,
   "metadata": {},
   "outputs": [],
   "source": [
    "### Use a particular month:\n",
    "\n",
    "df = pd.read_csv('data/autoperf-2019-01.csv', header=0).sample(frac=1)\n",
    "\n",
    "### OR use the full year\n",
    "\n",
    "# li = []\n",
    "# for filename in glob.glob(\"/home/luckierdodge/repos/jupyter-notebooks/data/autoperf-201*.csv\"):\n",
    "#     frame = pd.read_csv(filename, header=0)\n",
    "#     li.append(frame)\n",
    "# df = pd.concat(li, axis=0, ignore_index=True)\n",
    "\n",
    "###"
   ]
  },
  {
   "cell_type": "code",
   "execution_count": 5,
   "metadata": {},
   "outputs": [],
   "source": [
    "### Filtering and cleaning the data before processing ###\n",
    "df.dropna(inplace=True);\n",
    "\n",
    "###\n",
    "\n",
    "counts = df.zero_execName.value_counts().to_dict()\n",
    "df_filtered = pd.DataFrame()\n",
    "for name in counts:\n",
    "    if counts[name] >= 1000:\n",
    "        df_filtered = df_filtered.append(df[df[\"zero_execName\"] == name])\n",
    "\n",
    "###\n",
    "\n",
    "# df_filtered = df\n",
    "\n",
    "###\n",
    "df_filtered = df_filtered.sample(frac=1)"
   ]
  },
  {
   "cell_type": "code",
   "execution_count": 16,
   "metadata": {},
   "outputs": [],
   "source": [
    "### Use this cell to explore columns ###\n",
    "\n",
    "# for col in df_filtered.columns:\n",
    "# #     if 'time' in col or 'Time' in col:\n",
    "#         print(col)\n",
    "\n",
    "\n",
    "# df_filtered.zero_numRanks.describe()\n",
    "# df_filtered.zero_execName.value_counts().to_dict()"
   ]
  },
  {
   "cell_type": "code",
   "execution_count": 37,
   "metadata": {},
   "outputs": [],
   "source": [
    "### Use a particular subset of features:\n",
    "\n",
    "selected_features = df_filtered[[\n",
    "    \"zero_stdMpiTime\",\n",
    "#     \"min_stdMpiTime\",\n",
    "#     \"max_stdMpiTime\",\n",
    "#     \"av_stdMpiTime\",\n",
    "#     \"zero_numRanks\",\n",
    "#     \"av_numProcessesOnNode\",\n",
    "#     \"zero_elapsedTime\",\n",
    "#     \"zero_numRanks\",\n",
    "#     \"zero_elapsedCycles\",\n",
    "#     \"zero_MPI_Barrier_callCount\",\n",
    "]]\n",
    "features = selected_features.copy()\n",
    "\n",
    "### OR use all of the features\n",
    "\n",
    "# features = df.copy()\n",
    "# features.drop(['zero_execName', 'run_date', 'zero_userName', 'zero_threadMode', 'min_userName', 'min_execName', 'min_threadMode', 'max_execName', 'max_userName', 'max_threadMode', 'av_execName', 'av_userName', 'av_threadMode'], axis=1, inplace=True)\n",
    "\n",
    "###\n",
    "\n",
    "# Factorize the targets for softmax classification (trying to predict executable name)\n",
    "targets = pd.DataFrame()\n",
    "targets['number'] = pd.factorize(df_filtered['zero_execName'], na_sentinel=-1)[0]\n",
    "# targets['number'] = pd.factorize(df_filtered['zero_userName'], na_sentinel=-1)[0]"
   ]
  },
  {
   "cell_type": "code",
   "execution_count": 38,
   "metadata": {},
   "outputs": [],
   "source": [
    "# Turn the pandas dataframe into tf.Keras friendly numpy arrays\n",
    "def create_arrays(dataframe):\n",
    "    array = []\n",
    "    for col in dataframe.columns:\n",
    "        array.append(dataframe[col].to_numpy())\n",
    "    return array"
   ]
  },
  {
   "cell_type": "code",
   "execution_count": 39,
   "metadata": {},
   "outputs": [],
   "source": [
    "# Separate our data into training and test sets\n",
    "\n",
    "train_size = .8\n",
    "\n",
    "train_examples = create_arrays(features.head(int(df_filtered.size * train_size)))\n",
    "train_targets = create_arrays(targets.head(int(df_filtered.size * train_size)))\n",
    "test_examples = create_arrays(features.tail(int(df_filtered.size * (1-train_size))))\n",
    "test_targets = create_arrays(targets.tail(int(df_filtered.size * (1-train_size))))"
   ]
  },
  {
   "cell_type": "code",
   "execution_count": 40,
   "metadata": {},
   "outputs": [],
   "source": [
    "# Create a TF.Keras model, taking into account the number of unique executables we're targetting in our softmax layer\n",
    "\n",
    "### More complex model to tackle a full year\n",
    "\n",
    "# model = tf.keras.models.Sequential([\n",
    "#   tf.keras.layers.Dense(2048, activation='relu', input_shape=(1,)),\n",
    "#   tf.keras.layers.Dropout(.2),\n",
    "#   tf.keras.layers.Dense(1024, activation='relu'),\n",
    "#   tf.keras.layers.Dropout(.2),\n",
    "#   tf.keras.layers.Dense(targets.number.unique().size, activation='softmax')\n",
    "# ])\n",
    "\n",
    "### Single month, simplistic neural network\n",
    "\n",
    "model = tf.keras.models.Sequential([\n",
    "  tf.keras.layers.Dense(128, activation='relu', input_shape=(1,)),\n",
    "  tf.keras.layers.Dropout(.2),\n",
    "  tf.keras.layers.Dense(targets.number.unique().size, activation='softmax')\n",
    "])\n",
    "\n",
    "###"
   ]
  },
  {
   "cell_type": "code",
   "execution_count": 44,
   "metadata": {},
   "outputs": [],
   "source": [
    "model.compile(optimizer=tf.train.AdagradOptimizer(0.0005),\n",
    "              loss='sparse_categorical_crossentropy',\n",
    "              metrics=['accuracy'],\n",
    "            )"
   ]
  },
  {
   "cell_type": "code",
   "execution_count": 45,
   "metadata": {},
   "outputs": [
    {
     "name": "stdout",
     "output_type": "stream",
     "text": [
      "Epoch 1/20\n",
      "63566/63566 [==============================] - 3s 46us/sample - loss: 0.5540 - acc: 0.8940\n",
      "Epoch 2/20\n",
      "63566/63566 [==============================] - 3s 42us/sample - loss: 0.5548 - acc: 0.8939\n",
      "Epoch 3/20\n",
      "63566/63566 [==============================] - 3s 42us/sample - loss: 0.5533 - acc: 0.8946\n",
      "Epoch 4/20\n",
      "63566/63566 [==============================] - 3s 43us/sample - loss: 0.5532 - acc: 0.8945\n",
      "Epoch 5/20\n",
      "63566/63566 [==============================] - 3s 43us/sample - loss: 0.5530 - acc: 0.8945\n",
      "Epoch 6/20\n",
      "63566/63566 [==============================] - 3s 43us/sample - loss: 0.5531 - acc: 0.8943\n",
      "Epoch 7/20\n",
      "63566/63566 [==============================] - 3s 42us/sample - loss: 0.5521 - acc: 0.8941\n",
      "Epoch 8/20\n",
      "63566/63566 [==============================] - 3s 42us/sample - loss: 0.5545 - acc: 0.8938\n",
      "Epoch 9/20\n",
      "63566/63566 [==============================] - 3s 43us/sample - loss: 0.5536 - acc: 0.8937\n",
      "Epoch 10/20\n",
      "63566/63566 [==============================] - 3s 43us/sample - loss: 0.5528 - acc: 0.8940\n",
      "Epoch 11/20\n",
      "63566/63566 [==============================] - 3s 44us/sample - loss: 0.5517 - acc: 0.8948\n",
      "Epoch 12/20\n",
      "63566/63566 [==============================] - 3s 44us/sample - loss: 0.5532 - acc: 0.8943\n",
      "Epoch 13/20\n",
      "63566/63566 [==============================] - 3s 44us/sample - loss: 0.5532 - acc: 0.8944\n",
      "Epoch 14/20\n",
      "63566/63566 [==============================] - 3s 44us/sample - loss: 0.5540 - acc: 0.8941\n",
      "Epoch 15/20\n",
      "63566/63566 [==============================] - 3s 44us/sample - loss: 0.5531 - acc: 0.8940\n",
      "Epoch 16/20\n",
      "63566/63566 [==============================] - 3s 43us/sample - loss: 0.5540 - acc: 0.8940\n",
      "Epoch 17/20\n",
      "63566/63566 [==============================] - 3s 44us/sample - loss: 0.5531 - acc: 0.8942\n",
      "Epoch 18/20\n",
      "63566/63566 [==============================] - 3s 44us/sample - loss: 0.5521 - acc: 0.8950\n",
      "Epoch 19/20\n",
      "63566/63566 [==============================] - 3s 44us/sample - loss: 0.5524 - acc: 0.8943\n",
      "Epoch 20/20\n",
      "63566/63566 [==============================] - 3s 44us/sample - loss: 0.5528 - acc: 0.8938\n"
     ]
    },
    {
     "data": {
      "text/plain": [
       "<tensorflow.python.keras.callbacks.History at 0x7f3bfcf1a320>"
      ]
     },
     "execution_count": 45,
     "metadata": {},
     "output_type": "execute_result"
    }
   ],
   "source": [
    "model.fit(train_examples, train_targets, epochs=20)"
   ]
  },
  {
   "cell_type": "code",
   "execution_count": 46,
   "metadata": {},
   "outputs": [
    {
     "name": "stdout",
     "output_type": "stream",
     "text": [
      "63566/63566 [==============================] - 2s 27us/sample - loss: 0.5412 - acc: 0.8971\n",
      "Test accuracy: 0.89708334\n"
     ]
    }
   ],
   "source": [
    "test_loss, test_acc = model.evaluate(test_examples, test_targets)\n",
    "print('Test accuracy:', test_acc)"
   ]
  },
  {
   "cell_type": "code",
   "execution_count": null,
   "metadata": {},
   "outputs": [],
   "source": []
  }
 ],
 "metadata": {
  "kernelspec": {
   "display_name": "Python 3",
   "language": "python",
   "name": "python3"
  },
  "language_info": {
   "codemirror_mode": {
    "name": "ipython",
    "version": 3
   },
   "file_extension": ".py",
   "mimetype": "text/x-python",
   "name": "python",
   "nbconvert_exporter": "python",
   "pygments_lexer": "ipython3",
   "version": "3.7.3"
  }
 },
 "nbformat": 4,
 "nbformat_minor": 2
}
