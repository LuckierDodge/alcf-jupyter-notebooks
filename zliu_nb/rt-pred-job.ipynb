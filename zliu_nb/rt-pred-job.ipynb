{
 "cells": [
  {
   "cell_type": "code",
   "execution_count": 274,
   "metadata": {},
   "outputs": [],
   "source": [
    "import numpy as np\n",
    "from matplotlib import pyplot as plt\n",
    "import glob, operator, time, shutil, scipy, sys, pickle\n",
    "import pandas as pd\n",
    "\n",
    "from sklearn import preprocessing\n",
    "from sklearn.manifold import TSNE\n",
    "import xgboost as xgb\n",
    "from sklearn.model_selection import train_test_split\n",
    "from scipy.stats import randint as sp_randint\n",
    "from sklearn.model_selection import GridSearchCV\n",
    "\n",
    "import torch"
   ]
  },
  {
   "cell_type": "code",
   "execution_count": null,
   "metadata": {},
   "outputs": [],
   "source": []
  },
  {
   "cell_type": "code",
   "execution_count": 4,
   "metadata": {},
   "outputs": [
    {
     "data": {
      "text/html": [
       "<div>\n",
       "<style scoped>\n",
       "    .dataframe tbody tr th:only-of-type {\n",
       "        vertical-align: middle;\n",
       "    }\n",
       "\n",
       "    .dataframe tbody tr th {\n",
       "        vertical-align: top;\n",
       "    }\n",
       "\n",
       "    .dataframe thead th {\n",
       "        text-align: right;\n",
       "    }\n",
       "</style>\n",
       "<table border=\"1\" class=\"dataframe\">\n",
       "  <thead>\n",
       "    <tr style=\"text-align: right;\">\n",
       "      <th></th>\n",
       "      <th>JOB_NAME</th>\n",
       "      <th>COBALT_JOBID</th>\n",
       "      <th>MACHINE_NAME</th>\n",
       "      <th>QUEUED_TIMESTAMP</th>\n",
       "      <th>QUEUED_DATE_ID</th>\n",
       "      <th>START_TIMESTAMP</th>\n",
       "      <th>START_DATE_ID</th>\n",
       "      <th>END_TIMESTAMP</th>\n",
       "      <th>END_DATE_ID</th>\n",
       "      <th>USERNAME_GENID</th>\n",
       "      <th>...</th>\n",
       "      <th>IS_SUBBLOCK</th>\n",
       "      <th>IS_SUBBLOCK_ONLY</th>\n",
       "      <th>IS_MULTILOCATION_ONLY</th>\n",
       "      <th>IS_MULTILOCATION_SUBBLOCK</th>\n",
       "      <th>IS_CONSECUTIVE_ONLY</th>\n",
       "      <th>IS_SINGLE_ONLY</th>\n",
       "      <th>IS_NO_TASKS</th>\n",
       "      <th>IS_OTHER</th>\n",
       "      <th>OVERBURN_CORE_HOURS</th>\n",
       "      <th>IS_OVERBURN</th>\n",
       "    </tr>\n",
       "  </thead>\n",
       "  <tbody>\n",
       "    <tr>\n",
       "      <th>0</th>\n",
       "      <td>1720732.mira</td>\n",
       "      <td>1720732</td>\n",
       "      <td>mira</td>\n",
       "      <td>2018-12-23 15:53:14</td>\n",
       "      <td>20181223</td>\n",
       "      <td>2018-12-31 16:39:30</td>\n",
       "      <td>20181231</td>\n",
       "      <td>2019-01-01 06:04:09</td>\n",
       "      <td>20190101</td>\n",
       "      <td>35420899249343</td>\n",
       "      <td>...</td>\n",
       "      <td>0</td>\n",
       "      <td>0</td>\n",
       "      <td>0</td>\n",
       "      <td>0</td>\n",
       "      <td>0</td>\n",
       "      <td>0</td>\n",
       "      <td>0</td>\n",
       "      <td>1</td>\n",
       "      <td>1.757785e+06</td>\n",
       "      <td>1</td>\n",
       "    </tr>\n",
       "    <tr>\n",
       "      <th>1</th>\n",
       "      <td>1724537.mira</td>\n",
       "      <td>1724537</td>\n",
       "      <td>mira</td>\n",
       "      <td>2018-12-31 15:40:17</td>\n",
       "      <td>20181231</td>\n",
       "      <td>2019-01-01 06:10:12</td>\n",
       "      <td>20190101</td>\n",
       "      <td>2019-01-01 06:11:50</td>\n",
       "      <td>20190101</td>\n",
       "      <td>53125484265911</td>\n",
       "      <td>...</td>\n",
       "      <td>0</td>\n",
       "      <td>0</td>\n",
       "      <td>0</td>\n",
       "      <td>0</td>\n",
       "      <td>0</td>\n",
       "      <td>0</td>\n",
       "      <td>0</td>\n",
       "      <td>1</td>\n",
       "      <td>0.000000e+00</td>\n",
       "      <td>0</td>\n",
       "    </tr>\n",
       "    <tr>\n",
       "      <th>2</th>\n",
       "      <td>1720959.mira</td>\n",
       "      <td>1720959</td>\n",
       "      <td>mira</td>\n",
       "      <td>2018-12-24 01:36:21</td>\n",
       "      <td>20181224</td>\n",
       "      <td>2019-01-01 06:08:06</td>\n",
       "      <td>20190101</td>\n",
       "      <td>2019-01-01 06:31:33</td>\n",
       "      <td>20190101</td>\n",
       "      <td>25289003749046</td>\n",
       "      <td>...</td>\n",
       "      <td>0</td>\n",
       "      <td>0</td>\n",
       "      <td>0</td>\n",
       "      <td>0</td>\n",
       "      <td>0</td>\n",
       "      <td>0</td>\n",
       "      <td>0</td>\n",
       "      <td>1</td>\n",
       "      <td>0.000000e+00</td>\n",
       "      <td>0</td>\n",
       "    </tr>\n",
       "  </tbody>\n",
       "</table>\n",
       "<p>3 rows × 57 columns</p>\n",
       "</div>"
      ],
      "text/plain": [
       "       JOB_NAME  COBALT_JOBID MACHINE_NAME     QUEUED_TIMESTAMP  \\\n",
       "0  1720732.mira       1720732         mira  2018-12-23 15:53:14   \n",
       "1  1724537.mira       1724537         mira  2018-12-31 15:40:17   \n",
       "2  1720959.mira       1720959         mira  2018-12-24 01:36:21   \n",
       "\n",
       "   QUEUED_DATE_ID      START_TIMESTAMP  START_DATE_ID        END_TIMESTAMP  \\\n",
       "0        20181223  2018-12-31 16:39:30       20181231  2019-01-01 06:04:09   \n",
       "1        20181231  2019-01-01 06:10:12       20190101  2019-01-01 06:11:50   \n",
       "2        20181224  2019-01-01 06:08:06       20190101  2019-01-01 06:31:33   \n",
       "\n",
       "   END_DATE_ID  USERNAME_GENID  ...  IS_SUBBLOCK IS_SUBBLOCK_ONLY  \\\n",
       "0     20190101  35420899249343  ...            0                0   \n",
       "1     20190101  53125484265911  ...            0                0   \n",
       "2     20190101  25289003749046  ...            0                0   \n",
       "\n",
       "   IS_MULTILOCATION_ONLY  IS_MULTILOCATION_SUBBLOCK  IS_CONSECUTIVE_ONLY  \\\n",
       "0                      0                          0                    0   \n",
       "1                      0                          0                    0   \n",
       "2                      0                          0                    0   \n",
       "\n",
       "   IS_SINGLE_ONLY  IS_NO_TASKS  IS_OTHER OVERBURN_CORE_HOURS  IS_OVERBURN  \n",
       "0               0            0         1        1.757785e+06            1  \n",
       "1               0            0         1        0.000000e+00            0  \n",
       "2               0            0         1        0.000000e+00            0  \n",
       "\n",
       "[3 rows x 57 columns]"
      ]
     },
     "execution_count": 4,
     "metadata": {},
     "output_type": "execute_result"
    }
   ],
   "source": [
    "df19 = pd.read_csv('datasets/dim-job-comp/ANL-ALCF-DJC-MIRA_20190101_20191231.csv')\n",
    "df19.head(3)"
   ]
  },
  {
   "cell_type": "code",
   "execution_count": 208,
   "metadata": {},
   "outputs": [],
   "source": [
    "with open('jid2exe-19.pkl', 'rb') as handle:\n",
    "    jid2exe = pickle.load(handle)"
   ]
  },
  {
   "cell_type": "code",
   "execution_count": 255,
   "metadata": {},
   "outputs": [
    {
     "name": "stdout",
     "output_type": "stream",
     "text": [
      "(13266, 12)\n"
     ]
    },
    {
     "data": {
      "text/html": [
       "<div>\n",
       "<style scoped>\n",
       "    .dataframe tbody tr th:only-of-type {\n",
       "        vertical-align: middle;\n",
       "    }\n",
       "\n",
       "    .dataframe tbody tr th {\n",
       "        vertical-align: top;\n",
       "    }\n",
       "\n",
       "    .dataframe thead th {\n",
       "        text-align: right;\n",
       "    }\n",
       "</style>\n",
       "<table border=\"1\" class=\"dataframe\">\n",
       "  <thead>\n",
       "    <tr style=\"text-align: right;\">\n",
       "      <th></th>\n",
       "      <th>QUEUED_TIMESTAMP</th>\n",
       "      <th>USERNAME_GENID</th>\n",
       "      <th>PROJECT_NAME_GENID</th>\n",
       "      <th>QUEUE_NAME</th>\n",
       "      <th>WALLTIME_SECONDS</th>\n",
       "      <th>NODES_REQUESTED</th>\n",
       "      <th>START_TIMESTAMP</th>\n",
       "      <th>END_TIMESTAMP</th>\n",
       "      <th>COBALT_JOBID</th>\n",
       "      <th>EXECUTABLE_GENID</th>\n",
       "      <th>RUNTIME_SECONDS</th>\n",
       "      <th>QUEUED_HOUR</th>\n",
       "    </tr>\n",
       "  </thead>\n",
       "  <tbody>\n",
       "    <tr>\n",
       "      <th>6</th>\n",
       "      <td>2018-12-31 12:26:06</td>\n",
       "      <td>94435408522577</td>\n",
       "      <td>24107861762916</td>\n",
       "      <td>backfill</td>\n",
       "      <td>6000.0</td>\n",
       "      <td>512.0</td>\n",
       "      <td>2019-01-01 06:12:26</td>\n",
       "      <td>2019-01-01 07:36:08</td>\n",
       "      <td>1724462</td>\n",
       "      <td>78489508283552</td>\n",
       "      <td>5022.0</td>\n",
       "      <td>12</td>\n",
       "    </tr>\n",
       "    <tr>\n",
       "      <th>7</th>\n",
       "      <td>2018-12-31 11:31:26</td>\n",
       "      <td>94435408522577</td>\n",
       "      <td>80954500977394</td>\n",
       "      <td>prod-short</td>\n",
       "      <td>3600.0</td>\n",
       "      <td>2048.0</td>\n",
       "      <td>2019-01-01 06:58:51</td>\n",
       "      <td>2019-01-01 07:37:48</td>\n",
       "      <td>1724428</td>\n",
       "      <td>68253270195915</td>\n",
       "      <td>2337.0</td>\n",
       "      <td>12</td>\n",
       "    </tr>\n",
       "    <tr>\n",
       "      <th>13</th>\n",
       "      <td>2019-01-01 07:37:02</td>\n",
       "      <td>94435408522577</td>\n",
       "      <td>24107861762916</td>\n",
       "      <td>backfill</td>\n",
       "      <td>6000.0</td>\n",
       "      <td>512.0</td>\n",
       "      <td>2019-01-01 07:37:49</td>\n",
       "      <td>2019-01-01 09:00:04</td>\n",
       "      <td>1724837</td>\n",
       "      <td>78489508283552</td>\n",
       "      <td>4935.0</td>\n",
       "      <td>8</td>\n",
       "    </tr>\n",
       "    <tr>\n",
       "      <th>22</th>\n",
       "      <td>2019-01-01 09:00:24</td>\n",
       "      <td>94435408522577</td>\n",
       "      <td>24107861762916</td>\n",
       "      <td>backfill</td>\n",
       "      <td>6000.0</td>\n",
       "      <td>512.0</td>\n",
       "      <td>2019-01-01 09:01:00</td>\n",
       "      <td>2019-01-01 10:24:00</td>\n",
       "      <td>1724867</td>\n",
       "      <td>78489508283552</td>\n",
       "      <td>4980.0</td>\n",
       "      <td>10</td>\n",
       "    </tr>\n",
       "    <tr>\n",
       "      <th>27</th>\n",
       "      <td>2018-12-31 12:10:37</td>\n",
       "      <td>94435408522577</td>\n",
       "      <td>80954500977394</td>\n",
       "      <td>prod-short</td>\n",
       "      <td>3600.0</td>\n",
       "      <td>2048.0</td>\n",
       "      <td>2019-01-01 10:30:06</td>\n",
       "      <td>2019-01-01 11:09:05</td>\n",
       "      <td>1724458</td>\n",
       "      <td>68253270195915</td>\n",
       "      <td>2339.0</td>\n",
       "      <td>12</td>\n",
       "    </tr>\n",
       "  </tbody>\n",
       "</table>\n",
       "</div>"
      ],
      "text/plain": [
       "       QUEUED_TIMESTAMP  USERNAME_GENID  PROJECT_NAME_GENID  QUEUE_NAME  \\\n",
       "6   2018-12-31 12:26:06  94435408522577      24107861762916    backfill   \n",
       "7   2018-12-31 11:31:26  94435408522577      80954500977394  prod-short   \n",
       "13  2019-01-01 07:37:02  94435408522577      24107861762916    backfill   \n",
       "22  2019-01-01 09:00:24  94435408522577      24107861762916    backfill   \n",
       "27  2018-12-31 12:10:37  94435408522577      80954500977394  prod-short   \n",
       "\n",
       "    WALLTIME_SECONDS  NODES_REQUESTED      START_TIMESTAMP  \\\n",
       "6             6000.0            512.0  2019-01-01 06:12:26   \n",
       "7             3600.0           2048.0  2019-01-01 06:58:51   \n",
       "13            6000.0            512.0  2019-01-01 07:37:49   \n",
       "22            6000.0            512.0  2019-01-01 09:01:00   \n",
       "27            3600.0           2048.0  2019-01-01 10:30:06   \n",
       "\n",
       "          END_TIMESTAMP  COBALT_JOBID EXECUTABLE_GENID  RUNTIME_SECONDS  \\\n",
       "6   2019-01-01 07:36:08       1724462   78489508283552           5022.0   \n",
       "7   2019-01-01 07:37:48       1724428   68253270195915           2337.0   \n",
       "13  2019-01-01 09:00:04       1724837   78489508283552           4935.0   \n",
       "22  2019-01-01 10:24:00       1724867   78489508283552           4980.0   \n",
       "27  2019-01-01 11:09:05       1724458   68253270195915           2339.0   \n",
       "\n",
       "    QUEUED_HOUR  \n",
       "6            12  \n",
       "7            12  \n",
       "13            8  \n",
       "22           10  \n",
       "27           12  "
      ]
     },
     "execution_count": 255,
     "metadata": {},
     "output_type": "execute_result"
    }
   ],
   "source": [
    "def select_job_logs(jlog, top_q=5, top_u=20, top_p=20, top_e=10):\n",
    "    jlog_sel = jlog[jlog.EXIT_CODE == 0]\n",
    "    sel_cols = ['QUEUED_TIMESTAMP', 'USERNAME_GENID', 'PROJECT_NAME_GENID', 'QUEUE_NAME', 'WALLTIME_SECONDS',\\\n",
    "                'NODES_REQUESTED', 'START_TIMESTAMP', 'END_TIMESTAMP', 'COBALT_JOBID', 'EXECUTABLE_GENID',\\\n",
    "                'RUNTIME_SECONDS']\n",
    "    jlog_sel = jlog_sel[sel_cols]\n",
    "    \n",
    "    top_queues = jlog_sel.QUEUE_NAME.value_counts().head(top_q).keys()\n",
    "    _q_mask = jlog_sel.QUEUE_NAME == top_queues[0]\n",
    "    for _q in top_queues[1:]:\n",
    "        _q_mask = _q_mask | (jlog_sel.QUEUE_NAME == _q)\n",
    "    jlog_sel = jlog_sel[_q_mask]\n",
    "    \n",
    "    top_usr = jlog_sel.USERNAME_GENID.value_counts().head(top_u).keys()\n",
    "    _u_mask = jlog_sel.USERNAME_GENID == top_usr[0]\n",
    "    for _u in top_usr[1:]:\n",
    "        _u_mask = _u_mask | (jlog_sel.USERNAME_GENID == _u)\n",
    "    jlog_sel = jlog_sel[_u_mask]\n",
    "    \n",
    "    top_prj = jlog_sel.PROJECT_NAME_GENID.value_counts().head(top_p).keys()\n",
    "    _p_mask = jlog_sel.PROJECT_NAME_GENID == top_prj[0]\n",
    "    for _p in top_prj[1:]:\n",
    "        _p_mask = _p_mask | (jlog_sel.PROJECT_NAME_GENID == _p)\n",
    "    jlog_sel = jlog_sel[_p_mask]\n",
    "    \n",
    "    top_exe = jlog_sel.EXECUTABLE_GENID.value_counts().head(top_e).keys()\n",
    "    _e_mask = jlog_sel.EXECUTABLE_GENID == top_exe[0]\n",
    "    for _e in top_exe[1:]:\n",
    "        _e_mask = _e_mask | (jlog_sel.EXECUTABLE_GENID == _e)\n",
    "    jlog_sel = jlog_sel[_e_mask]\n",
    "    \n",
    "#     jlog_sel['RUNTIME_SECONDS'] = [(pd.to_datetime(_e) - pd.to_datetime(_s)).total_seconds() for \\\n",
    "#                                    _s, _e in zip(jlog_sel.START_TIMESTAMP, jlog_sel.END_TIMESTAMP)]\n",
    "    jlog_sel['QUEUED_HOUR'] = [pd.to_datetime(_dts).round('2h').hour for _dts in jlog_sel.QUEUED_TIMESTAMP.values]\n",
    "    \n",
    "    return jlog_sel\n",
    "\n",
    "\n",
    "def insert_exe_id(jlog, ):\n",
    "    with open('jid2exe-19.pkl', 'rb') as handle:\n",
    "        jid2exe = pickle.load(handle)\n",
    "    _jid_mask = np.array([jid2exe.get(_jid) is not None for _jid in jlog.COBALT_JOBID])\n",
    "    jlog_exeid = jlog[_jid_mask].copy()\n",
    "    jlog_exeid['EXECUTABLE_GENID'] = [jid2exe[_jid] for _jid in jlog_exeid.COBALT_JOBID]\n",
    "    return jlog_exeid\n",
    "\n",
    "jlog_exeid = insert_exe_id(df19)\n",
    "sel_jlog = select_job_logs(jlog_exeid, top_q=5, top_u=10, top_p=10, top_e=20)\n",
    "print(sel_jlog.shape)\n",
    "sel_jlog.head()"
   ]
  },
  {
   "cell_type": "code",
   "execution_count": 268,
   "metadata": {},
   "outputs": [
    {
     "data": {
      "text/plain": [
       "6495151625245     2101\n",
       "2436739160882     1668\n",
       "78489508283552    1507\n",
       "68253270195915    1383\n",
       "79859005138212    1187\n",
       "59547770749566     775\n",
       "75135514920174     540\n",
       "51735363785054     537\n",
       "53061085079359     534\n",
       "75846758380460     523\n",
       "Name: EXECUTABLE_GENID, dtype: int64"
      ]
     },
     "execution_count": 268,
     "metadata": {},
     "output_type": "execute_result"
    }
   ],
   "source": [
    "sel_jlog.EXECUTABLE_GENID.value_counts().head(10)"
   ]
  },
  {
   "cell_type": "code",
   "execution_count": 324,
   "metadata": {},
   "outputs": [
    {
     "data": {
      "text/plain": [
       "(array([6600., 5700., 4500.]), array([1024., 8192.]))"
      ]
     },
     "execution_count": 324,
     "metadata": {},
     "output_type": "execute_result"
    }
   ],
   "source": [
    "sel_jlog[sel_jlog.EXECUTABLE_GENID=='6495151625245'].WALLTIME_SECONDS.unique(), sel_jlog[sel_jlog.EXECUTABLE_GENID=='6495151625245'].NODES_REQUESTED.unique()"
   ]
  },
  {
   "cell_type": "code",
   "execution_count": 326,
   "metadata": {},
   "outputs": [
    {
     "name": "stdout",
     "output_type": "stream",
     "text": [
      "(13266, 66)\n"
     ]
    },
    {
     "data": {
      "text/html": [
       "<div>\n",
       "<style scoped>\n",
       "    .dataframe tbody tr th:only-of-type {\n",
       "        vertical-align: middle;\n",
       "    }\n",
       "\n",
       "    .dataframe tbody tr th {\n",
       "        vertical-align: top;\n",
       "    }\n",
       "\n",
       "    .dataframe thead th {\n",
       "        text-align: right;\n",
       "    }\n",
       "</style>\n",
       "<table border=\"1\" class=\"dataframe\">\n",
       "  <thead>\n",
       "    <tr style=\"text-align: right;\">\n",
       "      <th></th>\n",
       "      <th>qh00</th>\n",
       "      <th>qh02</th>\n",
       "      <th>qh04</th>\n",
       "      <th>qh06</th>\n",
       "      <th>qh08</th>\n",
       "      <th>qh10</th>\n",
       "      <th>qh12</th>\n",
       "      <th>qh14</th>\n",
       "      <th>qh16</th>\n",
       "      <th>qh18</th>\n",
       "      <th>...</th>\n",
       "      <th>nd00256</th>\n",
       "      <th>nd00512</th>\n",
       "      <th>nd00768</th>\n",
       "      <th>nd00896</th>\n",
       "      <th>nd01024</th>\n",
       "      <th>nd02048</th>\n",
       "      <th>nd04096</th>\n",
       "      <th>nd08192</th>\n",
       "      <th>WALLTIME_SECONDS</th>\n",
       "      <th>RUNTIME_SECONDS</th>\n",
       "    </tr>\n",
       "  </thead>\n",
       "  <tbody>\n",
       "    <tr>\n",
       "      <th>0</th>\n",
       "      <td>0.0</td>\n",
       "      <td>0.0</td>\n",
       "      <td>0.0</td>\n",
       "      <td>0.0</td>\n",
       "      <td>0.0</td>\n",
       "      <td>0.0</td>\n",
       "      <td>1.0</td>\n",
       "      <td>0.0</td>\n",
       "      <td>0.0</td>\n",
       "      <td>0.0</td>\n",
       "      <td>...</td>\n",
       "      <td>0.0</td>\n",
       "      <td>1.0</td>\n",
       "      <td>0.0</td>\n",
       "      <td>0.0</td>\n",
       "      <td>0.0</td>\n",
       "      <td>0.0</td>\n",
       "      <td>0.0</td>\n",
       "      <td>0.0</td>\n",
       "      <td>6000.0</td>\n",
       "      <td>5022.0</td>\n",
       "    </tr>\n",
       "    <tr>\n",
       "      <th>1</th>\n",
       "      <td>0.0</td>\n",
       "      <td>0.0</td>\n",
       "      <td>0.0</td>\n",
       "      <td>0.0</td>\n",
       "      <td>0.0</td>\n",
       "      <td>0.0</td>\n",
       "      <td>1.0</td>\n",
       "      <td>0.0</td>\n",
       "      <td>0.0</td>\n",
       "      <td>0.0</td>\n",
       "      <td>...</td>\n",
       "      <td>0.0</td>\n",
       "      <td>0.0</td>\n",
       "      <td>0.0</td>\n",
       "      <td>0.0</td>\n",
       "      <td>0.0</td>\n",
       "      <td>1.0</td>\n",
       "      <td>0.0</td>\n",
       "      <td>0.0</td>\n",
       "      <td>3600.0</td>\n",
       "      <td>2337.0</td>\n",
       "    </tr>\n",
       "    <tr>\n",
       "      <th>2</th>\n",
       "      <td>0.0</td>\n",
       "      <td>0.0</td>\n",
       "      <td>0.0</td>\n",
       "      <td>0.0</td>\n",
       "      <td>1.0</td>\n",
       "      <td>0.0</td>\n",
       "      <td>0.0</td>\n",
       "      <td>0.0</td>\n",
       "      <td>0.0</td>\n",
       "      <td>0.0</td>\n",
       "      <td>...</td>\n",
       "      <td>0.0</td>\n",
       "      <td>1.0</td>\n",
       "      <td>0.0</td>\n",
       "      <td>0.0</td>\n",
       "      <td>0.0</td>\n",
       "      <td>0.0</td>\n",
       "      <td>0.0</td>\n",
       "      <td>0.0</td>\n",
       "      <td>6000.0</td>\n",
       "      <td>4935.0</td>\n",
       "    </tr>\n",
       "    <tr>\n",
       "      <th>3</th>\n",
       "      <td>0.0</td>\n",
       "      <td>0.0</td>\n",
       "      <td>0.0</td>\n",
       "      <td>0.0</td>\n",
       "      <td>0.0</td>\n",
       "      <td>1.0</td>\n",
       "      <td>0.0</td>\n",
       "      <td>0.0</td>\n",
       "      <td>0.0</td>\n",
       "      <td>0.0</td>\n",
       "      <td>...</td>\n",
       "      <td>0.0</td>\n",
       "      <td>1.0</td>\n",
       "      <td>0.0</td>\n",
       "      <td>0.0</td>\n",
       "      <td>0.0</td>\n",
       "      <td>0.0</td>\n",
       "      <td>0.0</td>\n",
       "      <td>0.0</td>\n",
       "      <td>6000.0</td>\n",
       "      <td>4980.0</td>\n",
       "    </tr>\n",
       "    <tr>\n",
       "      <th>4</th>\n",
       "      <td>0.0</td>\n",
       "      <td>0.0</td>\n",
       "      <td>0.0</td>\n",
       "      <td>0.0</td>\n",
       "      <td>0.0</td>\n",
       "      <td>0.0</td>\n",
       "      <td>1.0</td>\n",
       "      <td>0.0</td>\n",
       "      <td>0.0</td>\n",
       "      <td>0.0</td>\n",
       "      <td>...</td>\n",
       "      <td>0.0</td>\n",
       "      <td>0.0</td>\n",
       "      <td>0.0</td>\n",
       "      <td>0.0</td>\n",
       "      <td>0.0</td>\n",
       "      <td>1.0</td>\n",
       "      <td>0.0</td>\n",
       "      <td>0.0</td>\n",
       "      <td>3600.0</td>\n",
       "      <td>2339.0</td>\n",
       "    </tr>\n",
       "  </tbody>\n",
       "</table>\n",
       "<p>5 rows × 66 columns</p>\n",
       "</div>"
      ],
      "text/plain": [
       "   qh00  qh02  qh04  qh06  qh08  qh10  qh12  qh14  qh16  qh18  ...  nd00256  \\\n",
       "0   0.0   0.0   0.0   0.0   0.0   0.0   1.0   0.0   0.0   0.0  ...      0.0   \n",
       "1   0.0   0.0   0.0   0.0   0.0   0.0   1.0   0.0   0.0   0.0  ...      0.0   \n",
       "2   0.0   0.0   0.0   0.0   1.0   0.0   0.0   0.0   0.0   0.0  ...      0.0   \n",
       "3   0.0   0.0   0.0   0.0   0.0   1.0   0.0   0.0   0.0   0.0  ...      0.0   \n",
       "4   0.0   0.0   0.0   0.0   0.0   0.0   1.0   0.0   0.0   0.0  ...      0.0   \n",
       "\n",
       "   nd00512  nd00768  nd00896  nd01024  nd02048  nd04096  nd08192  \\\n",
       "0      1.0      0.0      0.0      0.0      0.0      0.0      0.0   \n",
       "1      0.0      0.0      0.0      0.0      1.0      0.0      0.0   \n",
       "2      1.0      0.0      0.0      0.0      0.0      0.0      0.0   \n",
       "3      1.0      0.0      0.0      0.0      0.0      0.0      0.0   \n",
       "4      0.0      0.0      0.0      0.0      1.0      0.0      0.0   \n",
       "\n",
       "   WALLTIME_SECONDS  RUNTIME_SECONDS  \n",
       "0            6000.0           5022.0  \n",
       "1            3600.0           2337.0  \n",
       "2            6000.0           4935.0  \n",
       "3            6000.0           4980.0  \n",
       "4            3600.0           2339.0  \n",
       "\n",
       "[5 rows x 66 columns]"
      ]
     },
     "execution_count": 326,
     "metadata": {},
     "output_type": "execute_result"
    }
   ],
   "source": [
    "def onehot_enc(val):\n",
    "    u_val = sorted(set(val))\n",
    "    tbl = {v:i for i, v in enumerate(u_val)}\n",
    "    ret = np.zeros((len(val), len(u_val)), dtype=np.float32)\n",
    "    for i, v in enumerate(val):\n",
    "        ret[i][tbl[v]] = 1\n",
    "        \n",
    "    return ret, u_val\n",
    "\n",
    "def extract_feature(jlog, with_exe=True):\n",
    "    _qsub_h_enc, _qsub_h_key = onehot_enc(jlog.QUEUED_HOUR.values)\n",
    "    _usr_enc, _usr_key       = onehot_enc(jlog.USERNAME_GENID.values)\n",
    "    _proj_enc, _proj_key     = onehot_enc(jlog.PROJECT_NAME_GENID.values)\n",
    "    _exe_enc, _exe_key       = onehot_enc(jlog.EXECUTABLE_GENID.values)\n",
    "    _queue_enc, _queue_key   = onehot_enc(jlog.QUEUE_NAME.values)\n",
    "    _nodes_enc, _nodes_key   = onehot_enc(jlog.NODES_REQUESTED.values.astype(np.uint))\n",
    "\n",
    "    _qsub_h_key = ['qh%02d' % h for h in _qsub_h_key]\n",
    "    _usr_key    = ['u%d' % h for h in _usr_key]\n",
    "    _proj_key   = ['p%d' % h for h in _proj_key]\n",
    "    _exe_key    = ['e%s' % h for h in _exe_key]\n",
    "    _nodes_key  = ['nd%05d' % n for n in _nodes_key]\n",
    "    if with_exe:\n",
    "        pd_ret      = pd.DataFrame(np.column_stack([_qsub_h_enc, _usr_enc, _proj_enc, _exe_enc, _queue_enc, _nodes_enc]), \\\n",
    "                                   columns=_qsub_h_key + _usr_key + _proj_key + _exe_key + _queue_key + _nodes_key)\n",
    "    else:\n",
    "        pd_ret      = pd.DataFrame(np.column_stack([_qsub_h_enc, _usr_enc, _proj_enc, _queue_enc, _nodes_enc]), \\\n",
    "                                   columns=_qsub_h_key + _usr_key + _proj_key + _queue_key + _nodes_key)\n",
    "    pd_ret['WALLTIME_SECONDS'] = jlog.WALLTIME_SECONDS.values\n",
    "    pd_ret['RUNTIME_SECONDS']  = jlog.RUNTIME_SECONDS.values\n",
    "    return pd_ret.astype(np.float32)\n",
    "\n",
    "pdf_Xy = extract_feature(sel_jlog, with_exe=True)\n",
    "print(pdf_Xy.shape)\n",
    "pdf_Xy.head()"
   ]
  },
  {
   "cell_type": "code",
   "execution_count": 299,
   "metadata": {},
   "outputs": [],
   "source": [
    "train_x, test_x, train_y, test_y = train_test_split(pdf_Xy.values[:,:-1], pdf_Xy['RUNTIME_SECONDS'].values, \\\n",
    "                                                    test_size=0.2, random_state=2020)"
   ]
  },
  {
   "cell_type": "code",
   "execution_count": 300,
   "metadata": {},
   "outputs": [
    {
     "name": "stdout",
     "output_type": "stream",
     "text": [
      "[13:21:48] WARNING: src/objective/regression_obj.cu:152: reg:linear is now deprecated in favor of reg:squarederror.\n"
     ]
    },
    {
     "data": {
      "text/plain": [
       "GridSearchCV(cv=3, error_score='raise-deprecating',\n",
       "             estimator=XGBRegressor(base_score=0.5, booster='gbtree',\n",
       "                                    colsample_bylevel=1, colsample_bynode=1,\n",
       "                                    colsample_bytree=1, gamma=0,\n",
       "                                    importance_type='gain', learning_rate=0.1,\n",
       "                                    max_delta_step=0, max_depth=3,\n",
       "                                    min_child_weight=1, missing=None,\n",
       "                                    n_estimators=100, n_jobs=1, nthread=None,\n",
       "                                    objective='reg:linear', random_state=0,\n",
       "                                    reg_alpha=0, reg_lambda=1,\n",
       "                                    scale_pos_weight=1, seed=None, silent=None,\n",
       "                                    subsample=1, verbosity=1),\n",
       "             iid='warn', n_jobs=16,\n",
       "             param_grid={'max_depth': [30, 40, 50],\n",
       "                         'n_estimators': [500, 600, 1000]},\n",
       "             pre_dispatch='2*n_jobs', refit=True, return_train_score=False,\n",
       "             scoring=None, verbose=0)"
      ]
     },
     "execution_count": 300,
     "metadata": {},
     "output_type": "execute_result"
    }
   ],
   "source": [
    "paras = {'n_estimators'    :[100, 200, 300, 400, 500, 600, 1000][-3:],\\\n",
    "         'max_depth'       :[5, 10, 20, 30, 40, 50][-3:],} \n",
    "\n",
    "xgb_mdl = xgb.XGBRegressor()\n",
    "grid = GridSearchCV(xgb_mdl, paras, n_jobs=16, cv=3)\n",
    "\n",
    "grid.fit(train_x, train_y)"
   ]
  },
  {
   "cell_type": "code",
   "execution_count": 336,
   "metadata": {},
   "outputs": [
    {
     "name": "stdout",
     "output_type": "stream",
     "text": [
      "1.2915424406528473 6.079347133636475 22.580288887023926 94.66483345031733\n",
      "50.9073486328125 217.74267578125 976.3309326171875 4026.005908203125\n"
     ]
    }
   ],
   "source": [
    "pred    = grid.best_estimator_.predict(test_x)\n",
    "error   = pred - test_y\n",
    "abs_err = np.abs(error)\n",
    "rel_err = 100. * abs_err / test_y\n",
    "print(np.percentile(rel_err, 25), np.percentile(rel_err, 50), np.percentile(rel_err, 75), np.percentile(rel_err, 95))\n",
    "print(np.percentile(abs_err, 25), np.percentile(abs_err, 50), np.percentile(abs_err, 75), np.percentile(abs_err, 95))"
   ]
  },
  {
   "cell_type": "code",
   "execution_count": null,
   "metadata": {},
   "outputs": [],
   "source": [
    "((pred + 1000) - test_x[:,-1]).tolist()"
   ]
  },
  {
   "cell_type": "code",
   "execution_count": 331,
   "metadata": {},
   "outputs": [
    {
     "data": {
      "text/plain": [
       "array([ 91.55786 ,  92.9281  ,  97.109375, ...,  11.609619,  31.895996,\n",
       "       307.15918 ], dtype=float32)"
      ]
     },
     "execution_count": 331,
     "metadata": {},
     "output_type": "execute_result"
    }
   ],
   "source": []
  },
  {
   "cell_type": "code",
   "execution_count": 302,
   "metadata": {},
   "outputs": [
    {
     "data": {
      "text/plain": [
       "Index(['e15802821664047', 'u94435408522577', 'u12851169292280', 'nd00768',\n",
       "       'nd02048', 'nd04096', 'nd00128', 'e864370307356', 'e78489508283552',\n",
       "       'u25136838771932', 'e62701735209069', 'u61420714371567',\n",
       "       'WALLTIME_SECONDS', 'nd08192', 'p47977803483595'],\n",
       "      dtype='object')"
      ]
     },
     "execution_count": 302,
     "metadata": {},
     "output_type": "execute_result"
    }
   ],
   "source": [
    "top_feat_idx = np.argsort(grid.best_estimator_.feature_importances_)[-15:]\n",
    "pdf_Xy.columns[top_feat_idx]"
   ]
  },
  {
   "cell_type": "code",
   "execution_count": 303,
   "metadata": {},
   "outputs": [
    {
     "data": {
      "text/plain": [
       "XGBRegressor(base_score=0.5, booster='gbtree', colsample_bylevel=1,\n",
       "             colsample_bynode=1, colsample_bytree=1, gamma=0,\n",
       "             importance_type='gain', learning_rate=0.1, max_delta_step=0,\n",
       "             max_depth=30, min_child_weight=1, missing=None, n_estimators=1000,\n",
       "             n_jobs=1, nthread=None, objective='reg:linear', random_state=0,\n",
       "             reg_alpha=0, reg_lambda=1, scale_pos_weight=1, seed=None,\n",
       "             silent=None, subsample=1, verbosity=1)"
      ]
     },
     "execution_count": 303,
     "metadata": {},
     "output_type": "execute_result"
    }
   ],
   "source": [
    "grid.best_estimator_"
   ]
  },
  {
   "cell_type": "markdown",
   "metadata": {},
   "source": [
    "## NN based model"
   ]
  },
  {
   "cell_type": "code",
   "execution_count": 304,
   "metadata": {},
   "outputs": [
    {
     "name": "stdout",
     "output_type": "stream",
     "text": [
      "[Info] @ 1582745045.4 Epoch: 00000, gloss: 52490992.00, elapse: 0.03s/itr\n",
      "[Info] @ 1582745067.1 Epoch: 01000, gloss: 11567170.00, elapse: 0.02s/itr\n",
      "[Info] @ 1582745090.3 Epoch: 02000, gloss: 4958344.00, elapse: 0.03s/itr\n",
      "[Info] @ 1582745117.8 Epoch: 03000, gloss: 15598517.00, elapse: 0.03s/itr\n",
      "[Info] @ 1582745145.3 Epoch: 04000, gloss: 14756550.00, elapse: 0.03s/itr\n",
      "[Info] @ 1582745170.7 Epoch: 05000, gloss: 13463319.00, elapse: 0.02s/itr\n",
      "[Info] @ 1582745196.7 Epoch: 06000, gloss: 8976085.00, elapse: 0.03s/itr\n",
      "[Info] @ 1582745222.9 Epoch: 07000, gloss: 7664085.50, elapse: 0.03s/itr\n",
      "[Info] @ 1582745249.1 Epoch: 08000, gloss: 11935786.00, elapse: 0.02s/itr\n",
      "[Info] @ 1582745275.6 Epoch: 09000, gloss: 4264433.00, elapse: 0.03s/itr\n",
      "[Info] @ 1582745302.7 Epoch: 10000, gloss: 9340953.00, elapse: 0.03s/itr\n"
     ]
    }
   ],
   "source": [
    "class dense(torch.nn.Module):\n",
    "    def __init__(self, in_sz):\n",
    "        super().__init__()\n",
    "        self.dense_ops = []\n",
    "        dense_out_chs = (2048, 1024, 512, 256)\n",
    "        dense_in_chs  = (in_sz, ) + dense_out_chs[:-1]\n",
    "        for ic, oc in zip(dense_in_chs, dense_out_chs):\n",
    "            self.dense_ops += [\n",
    "                            torch.nn.Linear(ic, oc),\n",
    "                            torch.nn.LeakyReLU(negative_slope=0.01),                \n",
    "            ]\n",
    "        self.dense_ops += [torch.nn.Linear(dense_out_chs[-1], 1), ]\n",
    "                \n",
    "        self.dense_layers = torch.nn.Sequential(*self.dense_ops)\n",
    "        \n",
    "    def forward(self, x):\n",
    "        _out = x\n",
    "        for layer in self.dense_layers:\n",
    "            _out = layer(_out)\n",
    "        return _out\n",
    "\n",
    "\n",
    "dense_mdl = dense(in_sz=pdf_Xy.shape[1]-1)\n",
    "# summary(dense_mdl, input_size=(pdf_Xy.shape[1]-1, ), device=torch.device('cpu'), )\n",
    "criterion = torch.nn.MSELoss()\n",
    "optimizer = torch.optim.Adam(dense_mdl.parameters(), lr=3e-4)\n",
    "    \n",
    "mb_sz = 32\n",
    "for epoch in range(10001):\n",
    "    time_it_st = time.time()\n",
    "    mb_idx = np.random.randint(0, train_x.shape[0], mb_sz)\n",
    "    X_mb   = torch.from_numpy(train_x[mb_idx, :])\n",
    "    y_mb   = torch.from_numpy(np.expand_dims(train_y[mb_idx], -1))\n",
    "    \n",
    "    optimizer.zero_grad()\n",
    "    pred = dense_mdl.forward(X_mb)\n",
    "    loss = criterion(pred, y_mb)\n",
    "    loss.backward()\n",
    "    optimizer.step() \n",
    "    \n",
    "    if epoch % 1000 == 0:\n",
    "        itr_prints = '[Info] @ %.1f Epoch: %05d, gloss: %.2f, elapse: %.2fs/itr' % (\\\n",
    "                     time.time(), epoch, loss.cpu().detach().numpy(), (time.time() - time_it_st), )\n",
    "        print(itr_prints)"
   ]
  },
  {
   "cell_type": "code",
   "execution_count": 305,
   "metadata": {},
   "outputs": [
    {
     "data": {
      "text/plain": [
       "(26.816526412963867, 54.243309020996094, 89.8796615600586)"
      ]
     },
     "execution_count": 305,
     "metadata": {},
     "output_type": "execute_result"
    }
   ],
   "source": [
    "with torch.no_grad():\n",
    "    pred= dense_mdl.forward(torch.from_numpy(test_x))\n",
    "abs_err = np.abs(pred - test_y)\n",
    "rel_err = 100. * abs_err / test_y\n",
    "np.percentile(rel_err, 25), np.percentile(rel_err, 50), np.percentile(rel_err, 75)"
   ]
  },
  {
   "cell_type": "markdown",
   "metadata": {},
   "source": [
    "## t-SNE embedding study"
   ]
  },
  {
   "cell_type": "code",
   "execution_count": 312,
   "metadata": {},
   "outputs": [
    {
     "name": "stderr",
     "output_type": "stream",
     "text": [
      "/Users/zliu/usr/miniconda3/lib/python3.7/site-packages/sklearn/preprocessing/data.py:172: UserWarning: Numerical issues were encountered when centering the data and might not be solved. Dataset may contain too large values. You may need to prescale your features.\n",
      "  warnings.warn(\"Numerical issues were encountered \"\n",
      "/Users/zliu/usr/miniconda3/lib/python3.7/site-packages/sklearn/preprocessing/data.py:189: UserWarning: Numerical issues were encountered when scaling the data and might not be solved. The standard deviation of the data is probably very close to 0. \n",
      "  warnings.warn(\"Numerical issues were encountered \"\n"
     ]
    },
    {
     "data": {
      "text/plain": [
       "((13266, 2), -0.3598918914794922, 999)"
      ]
     },
     "execution_count": 312,
     "metadata": {},
     "output_type": "execute_result"
    }
   ],
   "source": [
    "tsne_obj = TSNE(n_components=2, random_state=2019)\n",
    "X_embedded = tsne_obj.fit_transform(preprocessing.scale(pdf_Xy.values[:, :-1]))\n",
    "X_embedded.shape, tsne_obj.kl_divergence_, tsne_obj.n_iter_"
   ]
  },
  {
   "cell_type": "code",
   "execution_count": 313,
   "metadata": {},
   "outputs": [
    {
     "data": {
      "image/png": "[encoded data removed]",
      "text/plain": [
       "<Figure size 1440x1440 with 1 Axes>"
      ]
     },
     "metadata": {},
     "output_type": "display_data"
    }
   ],
   "source": [
    "def t_sne_vis_by_group(x_emb, exe_idn, topn=3, ofn=None):\n",
    "    idn_unique, idn_count = np.unique(exe_idn, return_counts=True)\n",
    "    top_idn = idn_unique[np.argsort(idn_count)[-topn:]]\n",
    "    plt.figure(figsize=(20, 20))\n",
    "    colors = ('g', 'b', 'gold', 'yellow', 'tan', 'cyan', 'magenta', 'black', 'orange', 'darkgreen')\n",
    "    markers= ('x', 'o', '>', '<', 's', 'v', 'H', 'D', '3', '1', '2')\n",
    "    _other_grp = np.zeros(exe_idn.shape[0], dtype=np.bool)\n",
    "    for _idx, _idn in enumerate(top_idn):\n",
    "        _emb_grp = x_emb[exe_idn == _idn]\n",
    "        plt.plot(_emb_grp[:, 0], _emb_grp[:, 1], markers[_idx % len(markers)], alpha=.8, color=colors[_idx % len(colors)], markersize=6, label = _idn[:])\n",
    "        _other_grp |= (exe_idn == _idn)\n",
    "#         print(\"%s is marked by %s and %s\" % (_idn, colors[_idx], markers[_idx]))\n",
    "    _uncat = x_emb[~_other_grp]\n",
    "    plt.plot(_uncat[:, 0], _uncat[:, 1], markers[-1], alpha=.8, color='r', markersize=6, label = 'Others')\n",
    "    \n",
    "    plt.xlim(left=X_embedded[:, 0].min()*1.05, right=X_embedded[:, 0].max()*1.05)\n",
    "    plt.ylim(bottom=X_embedded[:, 1].min()*1.05, top=X_embedded[:, 1].max()*1.05)\n",
    "    plt.xticks([])\n",
    "    plt.yticks([])\n",
    "#     plt.legend(bbox_to_anchor=(0., 1.0, 1., .102), ncol=4, loc=3, fancybox=False, framealpha=0.5, fontsize=14)\n",
    "    if ofn is not None:\n",
    "        plt.savefig('figure/' + ofn, bbox_inches='tight', quality=99, dpi=300)\n",
    "    plt.show()\n",
    "    plt.close()\n",
    "\n",
    "t_sne_vis_by_group(X_embedded, sel_jlog.EXECUTABLE_GENID, topn=20, ofn='tsne-exename.png')"
   ]
  },
  {
   "cell_type": "code",
   "execution_count": null,
   "metadata": {},
   "outputs": [],
   "source": []
  }
 ],
 "metadata": {
  "kernelspec": {
   "display_name": "Python 3",
   "language": "python",
   "name": "python3"
  },
  "language_info": {
   "codemirror_mode": {
    "name": "ipython",
    "version": 3
   },
   "file_extension": ".py",
   "mimetype": "text/x-python",
   "name": "python",
   "nbconvert_exporter": "python",
   "pygments_lexer": "ipython3",
   "version": "3.7.6"
  }
 },
 "nbformat": 4,
 "nbformat_minor": 4
}
